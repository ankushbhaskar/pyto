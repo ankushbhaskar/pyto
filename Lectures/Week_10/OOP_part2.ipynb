{
 "cells": [
  {
   "cell_type": "markdown",
   "metadata": {
    "slideshow": {
     "slide_type": "slide"
    }
   },
   "source": [
    "# Python Class - Fall 2016\n",
    "\n",
    "---\n",
    "\n",
    "Object Oriented Programming - Part II"
   ]
  },
  {
   "cell_type": "markdown",
   "metadata": {
    "slideshow": {
     "slide_type": "subslide"
    }
   },
   "source": [
    "# Instances\n",
    "\n",
    "---\n",
    "\n",
    "After creating the structure through a class, one can create many objects from that class structure. Each of these new objects is called an instance of that class."
   ]
  },
  {
   "cell_type": "markdown",
   "metadata": {
    "slideshow": {
     "slide_type": "subslide"
    }
   },
   "source": [
    "# self\n",
    "\n",
    "---\n",
    "\n",
    "_`self`_ is used to reference the instance. This is only by convention and can be substituted by any other word. This reference is needed as the first argument for each method."
   ]
  },
  {
   "cell_type": "code",
   "execution_count": 2,
   "metadata": {
    "collapsed": false,
    "slideshow": {
     "slide_type": "fragment"
    }
   },
   "outputs": [],
   "source": [
    "class MyClass(object):\n",
    "    def some_method(self):\n",
    "        pass\n",
    "\n",
    "blah = MyClass()\n",
    "blah.some_method()"
   ]
  },
  {
   "cell_type": "markdown",
   "metadata": {
    "slideshow": {
     "slide_type": "subslide"
    }
   },
   "source": [
    "# `__init__`\n",
    "\n",
    "---\n",
    "\n",
    "This magic method is used a constructor of the instance. If one exists in the class definition, then it is called when we create an instance of that class."
   ]
  },
  {
   "cell_type": "code",
   "execution_count": 15,
   "metadata": {
    "collapsed": false,
    "slideshow": {
     "slide_type": "subslide"
    }
   },
   "outputs": [
    {
     "name": "stdout",
     "output_type": "stream",
     "text": [
      "hello\n",
      "<method-wrapper '__init__' of MyClass object at 0x106b12e90>\n",
      "<method-wrapper '__init__' of method-wrapper object at 0x106b88790>\n"
     ]
    }
   ],
   "source": [
    "class MyClass(object):\n",
    "    def __init__(self):\n",
    "        print('hello')\n",
    "\n",
    "blah = MyClass()\n",
    "\n",
    "class MyClass(object):\n",
    "    pass\n",
    "\n",
    "blah = MyClass()\n",
    "print(MyClass().__init__)\n",
    "print(MyClass().__init__.__init__)"
   ]
  },
  {
   "cell_type": "markdown",
   "metadata": {
    "slideshow": {
     "slide_type": "subslide"
    }
   },
   "source": [
    "# Inheritance\n",
    "\n",
    "---\n",
    "\n",
    "Inheritance is for the basis of reusable code. A child/sub class can inherit from a parent class."
   ]
  },
  {
   "cell_type": "code",
   "execution_count": 7,
   "metadata": {
    "collapsed": false,
    "slideshow": {
     "slide_type": "subslide"
    }
   },
   "outputs": [
    {
     "data": {
      "text/plain": [
       "'Me'"
      ]
     },
     "execution_count": 7,
     "metadata": {},
     "output_type": "execute_result"
    }
   ],
   "source": [
    "class Animal(object):\n",
    "    def set_owner(self, name=''):\n",
    "        self.owner = name\n",
    "    \n",
    "    def get_owner(self):\n",
    "        return self.owner\n",
    "\n",
    "class Dog(Animal):\n",
    "    pass\n",
    "\n",
    "# Hi there!\n",
    "doug = Dog()\n",
    "doug.set_owner('Me')\n",
    "doug.get_owner()"
   ]
  },
  {
   "cell_type": "code",
   "execution_count": 5,
   "metadata": {
    "collapsed": false,
    "slideshow": {
     "slide_type": "subslide"
    }
   },
   "outputs": [
    {
     "name": "stdout",
     "output_type": "stream",
     "text": [
      "(<class '__main__.Animal'>,)\n"
     ]
    }
   ],
   "source": [
    "print(Dog.__bases__)"
   ]
  },
  {
   "cell_type": "markdown",
   "metadata": {
    "slideshow": {
     "slide_type": "subslide"
    }
   },
   "source": [
    "# Overloading / Polymorphism\n",
    "\n",
    "---\n",
    "\n",
    "If we want a child class to behave differently than the parent, then we write the same method in the child class with the new behavior."
   ]
  },
  {
   "cell_type": "code",
   "execution_count": 8,
   "metadata": {
    "collapsed": false,
    "slideshow": {
     "slide_type": "subslide"
    }
   },
   "outputs": [
    {
     "data": {
      "text/plain": [
       "'Me, Hi there!'"
      ]
     },
     "execution_count": 8,
     "metadata": {},
     "output_type": "execute_result"
    }
   ],
   "source": [
    "class Animal(object):\n",
    "    def set_owner(self, name=''):\n",
    "        self.owner = name\n",
    "    \n",
    "    def get_owner(self):\n",
    "        return self.owner\n",
    "\n",
    "class Dog(Animal):\n",
    "    def get_owner(self):\n",
    "        return self.owner + ', Hi there!'\n",
    "\n",
    "# Hi there!\n",
    "doug = Dog()\n",
    "doug.set_owner('Me')\n",
    "doug.get_owner()"
   ]
  }
 ],
 "metadata": {
  "anaconda-cloud": {},
  "celltoolbar": "Slideshow",
  "kernelspec": {
   "display_name": "Python [conda root]",
   "language": "python",
   "name": "conda-root-py"
  },
  "language_info": {
   "codemirror_mode": {
    "name": "ipython",
    "version": 2
   },
   "file_extension": ".py",
   "mimetype": "text/x-python",
   "name": "python",
   "nbconvert_exporter": "python",
   "pygments_lexer": "ipython2",
   "version": "2.7.12"
  }
 },
 "nbformat": 4,
 "nbformat_minor": 1
}
