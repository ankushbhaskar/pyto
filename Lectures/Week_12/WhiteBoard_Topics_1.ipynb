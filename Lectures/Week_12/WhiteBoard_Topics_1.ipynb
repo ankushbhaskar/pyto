{
 "cells": [
  {
   "cell_type": "markdown",
   "metadata": {
    "slideshow": {
     "slide_type": "slide"
    }
   },
   "source": [
    "# Python Class - Fall 2016\n",
    "\n",
    "---\n",
    "\n",
    "WhiteBoard Topics - #1"
   ]
  },
  {
   "cell_type": "markdown",
   "metadata": {
    "slideshow": {
     "slide_type": "slide"
    }
   },
   "source": [
    "### `from __future__ import`\n",
    "\n",
    "---\n",
    "\n",
    "Many time when one wants to use the functionality of Python 3.x series, but from within Python 2.x there is the `__future__` package."
   ]
  },
  {
   "cell_type": "markdown",
   "metadata": {
    "slideshow": {
     "slide_type": "subslide"
    }
   },
   "source": [
    "![future](http://imgs.xkcd.com/comics/future.png)"
   ]
  },
  {
   "cell_type": "code",
   "execution_count": 2,
   "metadata": {
    "collapsed": false,
    "slideshow": {
     "slide_type": "fragment"
    }
   },
   "outputs": [
    {
     "name": "stdout",
     "output_type": "stream",
     "text": [
      "\n"
     ]
    }
   ],
   "source": [
    "print"
   ]
  },
  {
   "cell_type": "code",
   "execution_count": 4,
   "metadata": {
    "collapsed": false,
    "slideshow": {
     "slide_type": "fragment"
    }
   },
   "outputs": [
    {
     "data": {
      "text/plain": [
       "<function print>"
      ]
     },
     "execution_count": 4,
     "metadata": {},
     "output_type": "execute_result"
    }
   ],
   "source": [
    "from __future__ import print_function\n",
    "print"
   ]
  },
  {
   "cell_type": "markdown",
   "metadata": {
    "slideshow": {
     "slide_type": "subslide"
    }
   },
   "source": [
    "# Common `__future__` imports\n",
    "\n",
    "---"
   ]
  },
  {
   "cell_type": "markdown",
   "metadata": {
    "slideshow": {
     "slide_type": "subslide"
    }
   },
   "source": [
    "* __`print_function`:__ Allows you to use the print function that is found in Python 3 syntax in Python 2. Don't forget the parentheses!\n",
    "* __`division`:__ Actual division like `3 / 2` which now equals `1.5`, rather than `1`.\n",
    "* __`unicode_literals`:__ Now strings are all unicode (even the ones without special characters.\n",
    "* __`with_statement`:__ Not all future imports are from 2.x to 3.x. Actually in older versions of Python, the `with` statement wasn't available (Python 2.5) and to obtain it, you would have to import it from the future. This one is not necessary if you are using Python 2.6+.\n",
    "* __builtins:__ Python's standard library will also get updated"
   ]
  },
  {
   "cell_type": "markdown",
   "metadata": {
    "slideshow": {
     "slide_type": "subslide"
    }
   },
   "source": [
    "### Resources\n",
    "\n",
    "* [python-future.org](http://python-future.org)"
   ]
  },
  {
   "cell_type": "markdown",
   "metadata": {
    "slideshow": {
     "slide_type": "slide"
    }
   },
   "source": [
    "### Downloading Files\n",
    "\n",
    "---\n",
    "\n",
    "What is the best way to transfer/download imagery files from NCCS to my local machine given a text file of filenames?"
   ]
  },
  {
   "cell_type": "markdown",
   "metadata": {
    "slideshow": {
     "slide_type": "fragment"
    }
   },
   "source": [
    "### Obvious choices (not Python)\n",
    "\n",
    "* passwordless scp (winscp included)\n",
    "* ftp\n",
    "* rsync"
   ]
  },
  {
   "cell_type": "markdown",
   "metadata": {
    "slideshow": {
     "slide_type": "subslide"
    }
   },
   "source": [
    "### Python solutions\n",
    "\n",
    "* Wrap obvious choices (see prior) within a os.system command or subprocess (recommended).\n",
    "* [paramiko](http://www.paramiko.org) (not included in your Anaconda environment)\n",
    "* [Twised Conch](http://twistedmatrix.com/trac/wiki/TwistedConch) (also not included)\n",
    "* [fabric](http://www.fabfile.org) (not included)"
   ]
  }
 ],
 "metadata": {
  "anaconda-cloud": {},
  "celltoolbar": "Slideshow",
  "kernelspec": {
   "display_name": "Python [conda root]",
   "language": "python",
   "name": "conda-root-py"
  },
  "language_info": {
   "codemirror_mode": {
    "name": "ipython",
    "version": 2
   },
   "file_extension": ".py",
   "mimetype": "text/x-python",
   "name": "python",
   "nbconvert_exporter": "python",
   "pygments_lexer": "ipython2",
   "version": "2.7.12"
  }
 },
 "nbformat": 4,
 "nbformat_minor": 1
}
