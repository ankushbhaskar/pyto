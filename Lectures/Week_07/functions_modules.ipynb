{
 "cells": [
  {
   "cell_type": "markdown",
   "metadata": {
    "slideshow": {
     "slide_type": "slide"
    }
   },
   "source": [
    "# Python Class - Fall 2016\n",
    "\n",
    "---\n",
    "\n",
    "Functions and Modules"
   ]
  },
  {
   "cell_type": "code",
   "execution_count": 18,
   "metadata": {
    "collapsed": false,
    "slideshow": {
     "slide_type": "subslide"
    }
   },
   "outputs": [
    {
     "name": "stdout",
     "output_type": "stream",
     "text": [
      "Hi from Bob\n"
     ]
    }
   ],
   "source": [
    "# a basic example of a function\n",
    "def sayhi(name):\n",
    "    print('Hi from {0}'.format(name.capitalize()))\n",
    "\n",
    "your_name = 'bob'\n",
    "sayhi(your_name)"
   ]
  },
  {
   "cell_type": "code",
   "execution_count": 19,
   "metadata": {
    "collapsed": false,
    "slideshow": {
     "slide_type": "subslide"
    }
   },
   "outputs": [
    {
     "name": "stdout",
     "output_type": "stream",
     "text": [
      "23056819221\n"
     ]
    }
   ],
   "source": [
    "# another example\n",
    "def add(x, y):\n",
    "    return x + y\n",
    "\n",
    "print(add(3532689, 23053286532))"
   ]
  },
  {
   "cell_type": "markdown",
   "metadata": {
    "slideshow": {
     "slide_type": "fragment"
    }
   },
   "source": [
    "Functions are quite useful and allow programmers to collapse or reuse code many times over. There are a couple parts to a function that we will see here."
   ]
  },
  {
   "cell_type": "markdown",
   "metadata": {
    "collapsed": true,
    "slideshow": {
     "slide_type": "subslide"
    }
   },
   "source": [
    "### Arguments\n",
    "\n",
    "---"
   ]
  },
  {
   "cell_type": "code",
   "execution_count": null,
   "metadata": {
    "collapsed": true,
    "slideshow": {
     "slide_type": "fragment"
    }
   },
   "outputs": [],
   "source": [
    "def function_name(positional_argument, keyword=argument, *args, **kwargs):\n",
    "    # positional_argument is now a variable\n",
    "    # keyword is a variable and contains the value of argument\n",
    "    # *args allows an arbitrary number of positional arguments (stored in args)\n",
    "    # **kwargs allows an arbitrary number of keyword arguments (stored in kwargs)"
   ]
  },
  {
   "cell_type": "code",
   "execution_count": null,
   "metadata": {
    "collapsed": false,
    "slideshow": {
     "slide_type": "subslide"
    }
   },
   "outputs": [],
   "source": [
    "# examples\n",
    "def func(number):\n",
    "    print(number)\n",
    "\n",
    "func(1)\n",
    "print('\\n')\n",
    "\n",
    "def func(output=2):\n",
    "    print(output)\n",
    "\n",
    "func()\n",
    "func(output=5)\n",
    "print('\\n')\n",
    "\n",
    "def func(*args):\n",
    "    for number in args:\n",
    "        print(number)\n",
    "\n",
    "func(1,2,3,4,5)\n",
    "print('\\n')\n",
    "\n",
    "def func(**kwargs):\n",
    "    for key, value in kwargs.items():\n",
    "        print('%s: %s' % (key, value))\n",
    "\n",
    "func(students=5, average=90, period=2)"
   ]
  },
  {
   "cell_type": "code",
   "execution_count": null,
   "metadata": {
    "collapsed": false,
    "slideshow": {
     "slide_type": "subslide"
    }
   },
   "outputs": [],
   "source": [
    "# default arguments\n",
    "def f(x=1):\n",
    "    return x**2\n",
    "\n",
    "print(f())\n",
    "print(f(5))\n",
    "print(f(x=27))"
   ]
  },
  {
   "cell_type": "markdown",
   "metadata": {
    "slideshow": {
     "slide_type": "slide"
    }
   },
   "source": [
    "### Modules\n",
    "\n",
    "---"
   ]
  },
  {
   "cell_type": "markdown",
   "metadata": {
    "slideshow": {
     "slide_type": "fragment"
    }
   },
   "source": [
    "Any python script (.py file) is a module that can be imported. Functions, within those modules are accessed via the `.` as so:\n",
    "\n",
    "```python\n",
    "import module_name.function_name\n",
    "function_name(arguments)\n",
    "```\n",
    "\n",
    "__In-Class Exercise:__ Let's create a module named student and have a function that returns the student's name."
   ]
  },
  {
   "cell_type": "code",
   "execution_count": null,
   "metadata": {
    "collapsed": true,
    "slideshow": {
     "slide_type": "subslide"
    }
   },
   "outputs": [],
   "source": [
    "module_script = '''\n",
    "student_ids = {\n",
    "    1:'Bob',\n",
    "    2:'Glen',\n",
    "    3:'Mary',\n",
    "    4:'Rose'\n",
    "}\n",
    "\n",
    "def get_name(student_id):\n",
    "    if student_id not in student_ids:\n",
    "        return 'Student not found.'\n",
    "    return student_ids[student_id]\n",
    "'''\n",
    "\n",
    "with open('student.py', 'w') as f:\n",
    "    f.write(module_script)"
   ]
  },
  {
   "cell_type": "code",
   "execution_count": null,
   "metadata": {
    "collapsed": false,
    "slideshow": {
     "slide_type": "subslide"
    }
   },
   "outputs": [],
   "source": [
    "import student\n",
    "\n",
    "print(student.get_name(3))\n",
    "print(student.get_name(9))"
   ]
  },
  {
   "cell_type": "markdown",
   "metadata": {
    "slideshow": {
     "slide_type": "slide"
    }
   },
   "source": [
    "# Assignment\n",
    "\n",
    "No Assignment this week!"
   ]
  }
 ],
 "metadata": {
  "celltoolbar": "Slideshow",
  "kernelspec": {
   "display_name": "Python 2",
   "language": "python",
   "name": "python2"
  },
  "language_info": {
   "codemirror_mode": {
    "name": "ipython",
    "version": 2
   },
   "file_extension": ".py",
   "mimetype": "text/x-python",
   "name": "python",
   "nbconvert_exporter": "python",
   "pygments_lexer": "ipython2",
   "version": "2.7.11"
  }
 },
 "nbformat": 4,
 "nbformat_minor": 0
}
