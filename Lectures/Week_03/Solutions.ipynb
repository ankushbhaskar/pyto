{
 "cells": [
  {
   "cell_type": "markdown",
   "metadata": {},
   "source": [
    "# Assignment\n",
    "\n",
    "---\n",
    "\n",
    "We are going to be creating a mathematical model of fluid dynamics over the span of this course (from scratch). This is the start of your class project, so chose your project name wisely.\n",
    "\n",
    "In our model, to begin with, we will be solving the one-dimensional, linear convection equation:\n",
    "\n",
    "$$\\frac{\\partial{u}}{\\partial{t}}+c\\frac{\\partial{u}}{\\partial{x}}=0$$\n",
    "\n",
    "Of course, there is more to this problem regarding initical conditions and such, but for now, we are setting up the project using what we know. It will develop more as we learn and evolve as well to solve more complicated problems of fluid-dynamics.\n",
    "\n",
    "1. We will need to ask the user to give us details about the spatial grid size. Usually this is done by knowing the size of each grid box and how many total grid boxes one wants to use. Retrieve this input from the user for a one-dimensional grid (i.e., x-axis only) and store these in the variables dx and nx respectively.\n",
    "2. These models evolve over a given time. Prompt the user for the number of time steps (nt) and the size of time steps (dt).\n",
    "3. We are assuming a wave speed of 1 for this initial problem. Set the variable c equal to 1.\n",
    "4. Make necessary comments and also print statements to direct a user as to who is writing this project, what it's purpose is, and intermediate steps that you are performing.\n",
    "\n",
    "__Ensure that the correct data format (i.e., integer, floating-point, string) is stored in each of the requested variable assignments. Submit your answers in a single, Jupyter/IPython notebook.__"
   ]
  },
  {
   "cell_type": "markdown",
   "metadata": {},
   "source": [
    "# Answers:"
   ]
  },
  {
   "cell_type": "code",
   "execution_count": 8,
   "metadata": {
    "collapsed": false
   },
   "outputs": [
    {
     "name": "stdout",
     "output_type": "stream",
     "text": [
      "This program is intended to build and analyze a fluid dynamics model using Python.\n",
      "\n",
      "Please enter the number of grid boxes: 10\n",
      "Please enter the size of each grid box: 0.25\n",
      "Please enter the number of time steps: 10\n",
      "Please enter the size of each time step: 0.025\n",
      "\n",
      "Based on your input, we now have our spatial and time domains as follows:\n",
      "10 grid boxes of size 0.25\n",
      "10 time steps of size 0.025\n",
      "With the assumption of the wave speed as 1.0\n"
     ]
    }
   ],
   "source": [
    "'''\n",
    "Solutions to Week 3 Python Class Assignment\n",
    "Author: Brent Smith\n",
    "\n",
    "Purpose: To build and analyze a fluid dynamics model within Python.\n",
    "'''\n",
    "\n",
    "print('This program is intended to build and analyze a fluid dynamics model using Python.\\n')\n",
    "\n",
    "nx = int(raw_input('Please enter the number of grid boxes: '))\n",
    "dx = float(raw_input('Please enter the size of each grid box: '))\n",
    "nt = int(raw_input('Please enter the number of time steps: '))\n",
    "dt = float(raw_input('Please enter the size of each time step: '))\n",
    "c = 1.\n",
    "\n",
    "print('\\nBased on your input, we now have our spatial and time domains as follows:')\n",
    "print('{0} grid boxes of size {1}\\n{2} time steps of size {3}'.format(nx, dx, nt, dt))\n",
    "print('With the assumption of the wave speed as {0}'.format(c))"
   ]
  }
 ],
 "metadata": {
  "kernelspec": {
   "display_name": "Python 2",
   "language": "python",
   "name": "python2"
  },
  "language_info": {
   "codemirror_mode": {
    "name": "ipython",
    "version": 2
   },
   "file_extension": ".py",
   "mimetype": "text/x-python",
   "name": "python",
   "nbconvert_exporter": "python",
   "pygments_lexer": "ipython2",
   "version": "2.7.11"
  }
 },
 "nbformat": 4,
 "nbformat_minor": 0
}
