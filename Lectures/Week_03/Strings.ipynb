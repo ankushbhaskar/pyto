{
 "cells": [
  {
   "cell_type": "markdown",
   "metadata": {
    "slideshow": {
     "slide_type": "slide"
    }
   },
   "source": [
    "# Python Class - Fall 2016\n",
    "\n",
    "---\n",
    "\n",
    "Strings"
   ]
  },
  {
   "cell_type": "code",
   "execution_count": null,
   "metadata": {
    "collapsed": false,
    "slideshow": {
     "slide_type": "subslide"
    }
   },
   "outputs": [],
   "source": [
    "# single line\n",
    "print('a string')\n",
    "print(\"a string\")\n",
    "\n",
    "# multi-line\n",
    "print('''a string\n",
    "that spans\n",
    "more than one line''')\n",
    "\n",
    "print(\"\"\"can be composed\n",
    "of single or double\n",
    "quotation marks\"\"\")"
   ]
  },
  {
   "cell_type": "code",
   "execution_count": null,
   "metadata": {
    "collapsed": false,
    "slideshow": {
     "slide_type": "subslide"
    }
   },
   "outputs": [],
   "source": [
    "# escaping\n",
    "print(\"don't mix \\\"quotes\\\" unless you need them\")\n",
    "print('same for double \"quotes\"')"
   ]
  },
  {
   "cell_type": "code",
   "execution_count": null,
   "metadata": {
    "collapsed": false,
    "slideshow": {
     "slide_type": "subslide"
    }
   },
   "outputs": [],
   "source": [
    "# raw strings\n",
    "print('here is a /path/to/a/file')\n",
    "# ignoring end of line returns\n",
    "print('''when you want\n",
    "to remove the end of line\n",
    "characters, just use a forward\\\n",
    "slash''')"
   ]
  },
  {
   "cell_type": "code",
   "execution_count": null,
   "metadata": {
    "collapsed": false,
    "slideshow": {
     "slide_type": "subslide"
    }
   },
   "outputs": [],
   "source": [
    "# concatenation\n",
    "print('a ' + 'string' + ' apart' + \", yet \" + '''together''')\n",
    "# repeating\n",
    "print('squirrel! '*3)"
   ]
  },
  {
   "cell_type": "markdown",
   "metadata": {
    "slideshow": {
     "slide_type": "slide"
    }
   },
   "source": [
    "## Slicing\n",
    "\n",
    "---\n",
    "\n",
    "```\n",
    " +---+---+---+---+---+---+  \n",
    " | P | y | t | h | o | n |  \n",
    " +---+---+---+---+---+---+  \n",
    " 0   1   2   3   4   5   6  \n",
    "-6  -5  -4  -3  -2  -1```"
   ]
  },
  {
   "cell_type": "markdown",
   "metadata": {
    "slideshow": {
     "slide_type": "fragment"
    }
   },
   "source": [
    "> In Python, indexes start at zero, not one."
   ]
  },
  {
   "cell_type": "code",
   "execution_count": null,
   "metadata": {
    "collapsed": false,
    "slideshow": {
     "slide_type": "subslide"
    }
   },
   "outputs": [],
   "source": [
    "# A Python Slicing Sample\n",
    "sample = 'Python'\n",
    "\n",
    "print(sample[0])\n",
    "print(sample[:2])\n",
    "print(sample[2:])\n",
    "print(sample[1:4])\n",
    "print(sample[-1])\n",
    "print(sample[2:-1])"
   ]
  },
  {
   "cell_type": "markdown",
   "metadata": {
    "slideshow": {
     "slide_type": "slide"
    }
   },
   "source": [
    "## User-Input\n",
    "\n",
    "---\n",
    "\n",
    "```python\n",
    "raw_input()\n",
    "```"
   ]
  },
  {
   "cell_type": "code",
   "execution_count": null,
   "metadata": {
    "collapsed": false,
    "slideshow": {
     "slide_type": "subslide"
    }
   },
   "outputs": [],
   "source": [
    "answer = raw_input('Question? ')\n",
    "print(answer)"
   ]
  },
  {
   "cell_type": "markdown",
   "metadata": {
    "slideshow": {
     "slide_type": "fragment"
    }
   },
   "source": [
    "> `raw_input()` was renamed to `input()` in Python 3."
   ]
  },
  {
   "cell_type": "markdown",
   "metadata": {
    "slideshow": {
     "slide_type": "slide"
    }
   },
   "source": [
    "## Formatting Output\n",
    "\n",
    "---"
   ]
  },
  {
   "cell_type": "code",
   "execution_count": null,
   "metadata": {
    "collapsed": false,
    "slideshow": {
     "slide_type": "fragment"
    }
   },
   "outputs": [],
   "source": [
    "# old format (yet still available in Python 2/3):\n",
    "print('%2e' % 0.34)\n",
    "print('%6d' % 5)\n",
    "print('%-.2s' % 'areally long string that I do not want to print')\n",
    "\n",
    "# new format\n",
    "print('{:>10}'.format('test'))\n",
    "print('{:^10}'.format('test'))\n",
    "print('{:03.2f}'.format(3.1415296))\n",
    "\n",
    "print('{first} {last}'.format(first='Brent', last='Smith'))"
   ]
  },
  {
   "cell_type": "markdown",
   "metadata": {
    "slideshow": {
     "slide_type": "subslide"
    }
   },
   "source": [
    "### A great resource!\n",
    "\n",
    "[PyFormat](http://pyformat.info)"
   ]
  },
  {
   "cell_type": "markdown",
   "metadata": {
    "slideshow": {
     "slide_type": "slide"
    }
   },
   "source": [
    "## A couple more things...\n",
    "\n",
    "---"
   ]
  },
  {
   "cell_type": "code",
   "execution_count": null,
   "metadata": {
    "collapsed": true,
    "slideshow": {
     "slide_type": "fragment"
    }
   },
   "outputs": [],
   "source": [
    "# unicode (www.unicode.org/standard/WhatIsUnicode.html)\n",
    "print(u'Hello World!')\n",
    "print(u'Hello\\u0020World!')"
   ]
  },
  {
   "cell_type": "code",
   "execution_count": null,
   "metadata": {
    "collapsed": true,
    "slideshow": {
     "slide_type": "fragment"
    }
   },
   "outputs": [],
   "source": [
    "# length of strings\n",
    "print(len('something crazy long that I really do not know the length of, but I want to know'))"
   ]
  },
  {
   "cell_type": "code",
   "execution_count": null,
   "metadata": {
    "collapsed": false,
    "slideshow": {
     "slide_type": "subslide"
    }
   },
   "outputs": [],
   "source": [
    "# Mutable/Immutable Types\n",
    "'''\n",
    "    A string is an immutable type. That is, it cannot be changed.\n",
    "'''\n",
    "\n",
    "sample = 'A sample string.'\n",
    "sample[3] = 'f'"
   ]
  },
  {
   "cell_type": "code",
   "execution_count": null,
   "metadata": {
    "collapsed": false,
    "slideshow": {
     "slide_type": "fragment"
    }
   },
   "outputs": [],
   "source": [
    "# To make this change, we need to create a new string altogether.\n",
    "sample = 'A sample string.'\n",
    "sample = sample[:3] + 'f' + sample[4:]\n",
    "print(sample)"
   ]
  },
  {
   "cell_type": "markdown",
   "metadata": {
    "slideshow": {
     "slide_type": "slide"
    }
   },
   "source": [
    "# Assignment\n",
    "\n",
    "---\n",
    "\n",
    "We are going to be creating a mathematical model of fluid dynamics over the span of this course (from scratch). This is the start of your class project, so chose your project name wisely.\n",
    "\n",
    "In our model, to begin with, we will be solving the one-dimensional, linear convection equation:\n",
    "\n",
    "$$\\frac{\\partial{u}}{\\partial{t}}+c\\frac{\\partial{u}}{\\partial{x}}=0$$\n",
    "\n",
    "Of course, there is more to this problem regarding initical conditions and such, but for now, we are setting up the project using what we know. It will develop more as we learn and evolve as well to solve more complicated problems of fluid-dynamics.\n",
    "\n",
    "1. We will need to ask the user to give us details about the spatial grid size. Usually this is done by knowing the size of each grid box and how many total grid boxes one wants to use. Retrieve this input from the user for a one-dimensional grid (i.e., x-axis only) and store these in the variables dx and nx respectively.\n",
    "2. These models evolve over a given time. Prompt the user for the number of time steps (nt) and the size of time steps (dt).\n",
    "3. We are assuming a wave speed of 1 for this initial problem. Set the variable c equal to 1.\n",
    "4. Make necessary comments and also print statements to direct a user as to who is writing this project, what it's purpose is, and intermediate steps that you are performing.\n",
    "\n",
    "__Ensure that the correct data format (i.e., integer, floating-point, string) is stored in each of the requested variable assignments. Submit your answers in a single, Jupyter/IPython notebook.__"
   ]
  }
 ],
 "metadata": {
  "celltoolbar": "Slideshow",
  "kernelspec": {
   "display_name": "Python 2",
   "language": "python",
   "name": "python2"
  },
  "language_info": {
   "codemirror_mode": {
    "name": "ipython",
    "version": 2
   },
   "file_extension": ".py",
   "mimetype": "text/x-python",
   "name": "python",
   "nbconvert_exporter": "python",
   "pygments_lexer": "ipython2",
   "version": "2.7.11"
  }
 },
 "nbformat": 4,
 "nbformat_minor": 0
}
