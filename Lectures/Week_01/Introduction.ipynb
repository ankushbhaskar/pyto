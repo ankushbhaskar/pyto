{
 "cells": [
  {
   "cell_type": "markdown",
   "metadata": {
    "slideshow": {
     "slide_type": "slide"
    }
   },
   "source": [
    "# Python Class - Fall 2016\n",
    "\n",
    "---"
   ]
  },
  {
   "cell_type": "markdown",
   "metadata": {
    "slideshow": {
     "slide_type": "fragment"
    }
   },
   "source": [
    "![python](http://imgs.xkcd.com/comics/python.png)"
   ]
  },
  {
   "cell_type": "markdown",
   "metadata": {
    "slideshow": {
     "slide_type": "slide"
    }
   },
   "source": [
    "## About this Class\n",
    "\n",
    "---"
   ]
  },
  {
   "cell_type": "markdown",
   "metadata": {
    "slideshow": {
     "slide_type": "fragment"
    }
   },
   "source": [
    "* Many backgrounds, same goal: learn Python.\n",
    "* Basics to advanced topics.\n",
    "* All material is online (still in development):\n",
    "    * Lectures: http://github.com/edmondb/pyto\n",
    "    * Agenda/Schedule: http://github.com/edmondb/pyto/wiki/Agenda\n",
    "* A class effort:\n",
    "    * Ask questions!\n",
    "    * Collaborate with classmates.\n",
    "    * Contact me for help.\n",
    "* Homework/Assignments/Tests\n",
    "    * Assignments will be given on a weekly basis.\n",
    "    * You have 1 week to complete them unless otherwise noted.\n",
    "    * I will return/email you with my input."
   ]
  },
  {
   "cell_type": "markdown",
   "metadata": {
    "slideshow": {
     "slide_type": "subslide"
    }
   },
   "source": [
    "##### No attendance record. No grades. You get out what you put in.\n",
    "\n",
    "_Note:_\n",
    "\n",
    "> My past class suggested that there be more interactive coding exercises. I am working on having this class develop a fluid dynamics model from scratch within Python (basic) and then use it for analysis and visualizations when we get to those parts.\n",
    "\n",
    "---\n",
    "\n",
    "__If you see a typo, please tell me!__"
   ]
  },
  {
   "cell_type": "markdown",
   "metadata": {
    "slideshow": {
     "slide_type": "slide"
    }
   },
   "source": [
    "## (very little) Python History\n",
    "\n",
    "---"
   ]
  },
  {
   "cell_type": "markdown",
   "metadata": {
    "slideshow": {
     "slide_type": "fragment"
    }
   },
   "source": [
    "* Creator: Guido van Rossum (Dutch) in 1991.\n",
    "* Named after Monty Python movies.\n",
    "* High-level, interpreted language."
   ]
  },
  {
   "cell_type": "markdown",
   "metadata": {
    "slideshow": {
     "slide_type": "subslide"
    }
   },
   "source": [
    "![interpreter](http://2.bp.blogspot.com/-P85bhD_LJA4/Vg52ZrB1ZTI/AAAAAAAAJxM/k28udeGkyvc/s640/python.jpg)"
   ]
  },
  {
   "cell_type": "markdown",
   "metadata": {
    "slideshow": {
     "slide_type": "subslide"
    }
   },
   "source": [
    "### Resources\n",
    "\n",
    "---\n",
    "\n",
    "* http://www.python.org\n",
    "* Documentation:\n",
    "    * http://docs.python.org/2/\n",
    "* Goddard Python Users Group (PUG) - let me know if you want to join"
   ]
  },
  {
   "cell_type": "markdown",
   "metadata": {
    "slideshow": {
     "slide_type": "slide"
    }
   },
   "source": [
    "## Python 2 vs 3?\n",
    "\n",
    "---"
   ]
  },
  {
   "cell_type": "markdown",
   "metadata": {
    "slideshow": {
     "slide_type": "fragment"
    }
   },
   "source": [
    "* Main reason: Unicode\n",
    "* We use Python 2.7 as it's currently the latest used for our type of work.\n",
    "* You will learn differences as we go and attempt to create Python2/3 compatible code.\n",
    "* http://wiki.python.org/moin/Python2orPython3\n",
    "* http://pythonclock.org"
   ]
  },
  {
   "cell_type": "markdown",
   "metadata": {
    "slideshow": {
     "slide_type": "slide"
    }
   },
   "source": [
    "## 4 Implementations of Python (i.e., how to execute Python code)\n",
    "\n",
    "---"
   ]
  },
  {
   "cell_type": "markdown",
   "metadata": {
    "slideshow": {
     "slide_type": "subslide"
    }
   },
   "source": [
    "### As a script\n",
    "\n",
    "---\n",
    "\n",
    "1. Open your text editor.\n",
    "2. Add this code:\n",
    "\n",
    "    ```python\n",
    "    print('Hello world.')\n",
    "    ```\n",
    "\n",
    "3. Save this file with a `.py` extension.\n",
    "4. In a terminal/command prompt/Anaconda prompt, change directories to the folder containing the file you just saved.\n",
    "5. In that same prompt, execute:\n",
    "\n",
    "    ```bash\n",
    "    $ python script.py\n",
    "    ```\n",
    "\n",
    "6. You should now see the output produced by the Python interpreter upon the code you wrote.\n",
    "\n",
    "__Caveat:__ Your prompt should be at the directory containg the script.py script. (Perform an ```ls``` or ```dir``` to see if that file is in your current working directory."
   ]
  },
  {
   "cell_type": "markdown",
   "metadata": {
    "slideshow": {
     "slide_type": "subslide"
    }
   },
   "source": [
    "# In the python shell\n",
    "\n",
    "---\n",
    "\n",
    "1. Open your terminal/command prompt/Anaconda prompt and type:\n",
    "\n",
    "    ```bash\n",
    "    python\n",
    "    ```\n",
    "\n",
    "2. From this interactive shell, you will notice that the prompt is ```>>>```. This is now allowing us to type Python code directly and execute it.\n",
    "3. Type:\n",
    "\n",
    "    ```python\n",
    "    print('Hello world!')\n",
    "    ```\n",
    "\n",
    "4. You will see the output directly now.\n",
    "5. Exit via __```exit()```__ or __```Cntrl-D```__."
   ]
  },
  {
   "cell_type": "markdown",
   "metadata": {
    "slideshow": {
     "slide_type": "subslide"
    }
   },
   "source": [
    "# In IPython shell\n",
    "\n",
    "---\n",
    "\n",
    "1. From terminal/command prompt/Anaconda prompt type:\n",
    "\n",
    "    ```bash\n",
    "    ipython\n",
    "    ```\n",
    "\n",
    "2. This is an enhanced interactive shell that has many features (tab-completion, woot!). It has a prompt that is numbered.\n",
    "3. Type:\n",
    "\n",
    "    ```python\n",
    "    print('Hello world!')\n",
    "    ```\n",
    "\n",
    "4. You will also see the output directly now.\n",
    "5. Exit via __```exit()```__ or __```Cntrl-D```__."
   ]
  },
  {
   "cell_type": "markdown",
   "metadata": {
    "slideshow": {
     "slide_type": "subslide"
    }
   },
   "source": [
    "# Jupyter notebook\n",
    "\n",
    "---\n",
    "\n",
    "1. From terminal/command prompt/Anaconda prompt type:\n",
    "\n",
    "    ```bash\n",
    "    jupyter notebook\n",
    "    ```\n",
    "\n",
    "2. This directs you to a web browser and you can navigate to an already existing notebook or create one (right side menu New -> Python 2).\n",
    "3. This will open up a new Untitle notebook where you can directly input Python code, Markup formatted text, or have raw text.\n",
    "4. Type:\n",
    "\n",
    "    ```python\n",
    "    print('Hello world!')\n",
    "    ```\n",
    "\n",
    "5. Press __```Shift-Enter```__ or click __Cells -> Run Cells__ or use the Play button near the top of the page.\n",
    "6. You will see the output now.\n",
    "7. Exit via closing the browser windows and stopping the server running in the terminal/command prompt."
   ]
  }
 ],
 "metadata": {
  "celltoolbar": "Slideshow",
  "kernelspec": {
   "display_name": "Python 2",
   "language": "python",
   "name": "python2"
  },
  "language_info": {
   "codemirror_mode": {
    "name": "ipython",
    "version": 2
   },
   "file_extension": ".py",
   "mimetype": "text/x-python",
   "name": "python",
   "nbconvert_exporter": "python",
   "pygments_lexer": "ipython2",
   "version": "2.7.11"
  }
 },
 "nbformat": 4,
 "nbformat_minor": 0
}
