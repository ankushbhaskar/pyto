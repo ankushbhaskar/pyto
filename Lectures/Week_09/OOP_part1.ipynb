{
 "cells": [
  {
   "cell_type": "markdown",
   "metadata": {
    "slideshow": {
     "slide_type": "slide"
    }
   },
   "source": [
    "# Python Class - Fall 2016\n",
    "\n",
    "---\n",
    "\n",
    "Object Oriented Programming - Part I"
   ]
  },
  {
   "cell_type": "markdown",
   "metadata": {
    "slideshow": {
     "slide_type": "subslide"
    }
   },
   "source": [
    "# The object\n",
    "\n",
    "---"
   ]
  },
  {
   "cell_type": "markdown",
   "metadata": {
    "slideshow": {
     "slide_type": "fragment"
    }
   },
   "source": [
    "Everything in Python is an object.\n",
    "\n",
    "* An object is created by instantiating (or initializing/starting/creating) a class.\n",
    "* This `object` is a base \"thing\" for every single variable or data type in your code."
   ]
  },
  {
   "cell_type": "code",
   "execution_count": 1,
   "metadata": {
    "collapsed": false,
    "slideshow": {
     "slide_type": "subslide"
    }
   },
   "outputs": [
    {
     "name": "stdout",
     "output_type": "stream",
     "text": [
      "Help on class object in module __builtin__:\n",
      "\n",
      "class object\n",
      " |  The most base type\n",
      "\n"
     ]
    }
   ],
   "source": [
    "help(object)"
   ]
  },
  {
   "cell_type": "markdown",
   "metadata": {
    "slideshow": {
     "slide_type": "fragment"
    }
   },
   "source": [
    "Objects come into the role of structuring a Python program:\n",
    "\n",
    "* Simple short scripts can be just stright-line code -- __Do this one thing! BAM!__\n",
    "* Longer tasks might have a recurring sub-task: __Call this function__\n",
    "* If multiple functions can be grouped into one file: __use this module__\n",
    "* __Classes__ come when we need higher levels of structure."
   ]
  },
  {
   "cell_type": "markdown",
   "metadata": {
    "slideshow": {
     "slide_type": "subslide"
    }
   },
   "source": [
    "# Class\n",
    "\n",
    "---\n",
    "\n",
    "Structure that contains:\n",
    "\n",
    "* data in the form of fields (attributes) representing the object's state\n",
    "* procedures (methods) to represent the object's behavior"
   ]
  },
  {
   "cell_type": "code",
   "execution_count": null,
   "metadata": {
    "collapsed": true,
    "slideshow": {
     "slide_type": "fragment"
    }
   },
   "outputs": [],
   "source": [
    "class MyObject(object):\n",
    "    pass"
   ]
  },
  {
   "cell_type": "markdown",
   "metadata": {
    "slideshow": {
     "slide_type": "fragment"
    }
   },
   "source": [
    "We have just created the constructs for what is called a _class_. This is how we tell Python to create the structure of an object. The keyword `object` is that this class inherits (just like family) from object (inheritance is discussed in our next lecture)."
   ]
  },
  {
   "cell_type": "markdown",
   "metadata": {
    "slideshow": {
     "slide_type": "subslide"
    }
   },
   "source": [
    "# Class Definition Style\n",
    "\n",
    "---\n",
    "\n",
    "__Python 3.x:__  \n",
    "class MyClass(object): = new-style class  \n",
    "class MyClass: = new-style class (implicitly inherits from object)\n",
    "\n",
    "__Python 2.x:__  \n",
    "class MyClass(object): = new-style class  \n",
    "class MyClass: = OLD-STYLE CLASS (doesn't inherit from object)\n",
    "\n",
    "[Source](http://stackoverflow.com/a/9448136)"
   ]
  },
  {
   "cell_type": "code",
   "execution_count": 2,
   "metadata": {
    "collapsed": false,
    "slideshow": {
     "slide_type": "subslide"
    }
   },
   "outputs": [
    {
     "name": "stdout",
     "output_type": "stream",
     "text": [
      "<class '__main__.MyObject'>\n",
      "<type 'type'>\n"
     ]
    }
   ],
   "source": [
    "class MyObject(object):\n",
    "    pass\n",
    "\n",
    "mo = MyObject()\n",
    "\n",
    "print(type(mo))\n",
    "print(type(MyObject))"
   ]
  },
  {
   "cell_type": "markdown",
   "metadata": {
    "slideshow": {
     "slide_type": "fragment"
    }
   },
   "source": [
    "Here, `MyObject` is a user-defined object (uses the `class` keyword). This defines the blueprint for all of the instances of that object. So, `mo` is the instance of `MyObject` that will contain the structure of that class."
   ]
  },
  {
   "cell_type": "markdown",
   "metadata": {
    "slideshow": {
     "slide_type": "subslide"
    }
   },
   "source": [
    "# Attributes\n",
    "\n",
    "---\n",
    "\n",
    "Inside a class, we define attributes which behave like characteristics of that object."
   ]
  },
  {
   "cell_type": "code",
   "execution_count": null,
   "metadata": {
    "collapsed": false,
    "slideshow": {
     "slide_type": "subslide"
    }
   },
   "outputs": [],
   "source": [
    "class Animal(object):\n",
    "    def __init__(self, name):\n",
    "        self.name = name\n",
    "\n",
    "puppy = Animal('Bark')\n",
    "cat = Animal('FuzzBall')\n",
    "\n",
    "print(puppy.name)\n",
    "print(cat.name)"
   ]
  },
  {
   "cell_type": "markdown",
   "metadata": {
    "slideshow": {
     "slide_type": "subslide"
    }
   },
   "source": [
    "Each method (here, `__init__`) begins with a reference to the instance object. Most frequently, _`self`_ is used, but it can be _`this`_ or whatever we choose. We also can set attributes dynamically as well:"
   ]
  },
  {
   "cell_type": "code",
   "execution_count": null,
   "metadata": {
    "collapsed": false,
    "slideshow": {
     "slide_type": "fragment"
    }
   },
   "outputs": [],
   "source": [
    "class Student(object):\n",
    "    pass\n",
    "\n",
    "d = Student()\n",
    "d.name = 'Betty'\n",
    "print(d.name)"
   ]
  },
  {
   "cell_type": "markdown",
   "metadata": {
    "collapsed": true,
    "slideshow": {
     "slide_type": "subslide"
    }
   },
   "source": [
    "# Methods\n",
    "\n",
    "---\n",
    "\n",
    "Also inside a class, we define methods which are just functions, but contained in a class. These usually interact or modify our attributes."
   ]
  },
  {
   "cell_type": "code",
   "execution_count": null,
   "metadata": {
    "collapsed": false,
    "slideshow": {
     "slide_type": "subslide"
    }
   },
   "outputs": [],
   "source": [
    "import numpy as np\n",
    "\n",
    "class Circle(object):\n",
    "    def __init__(self, radius=1):\n",
    "        self.radius = radius\n",
    "    \n",
    "    def area(self):\n",
    "        return (self.radius**2) * np.pi\n",
    "    \n",
    "    def getRadius(self):\n",
    "        return self.radius\n",
    "    \n",
    "    def setRadius(self, radius):\n",
    "        self.radius = radius\n",
    "\n",
    "c = Circle()\n",
    "\n",
    "c.setRadius(5)\n",
    "print(c.getRadius())\n",
    "print(c.area())"
   ]
  },
  {
   "cell_type": "markdown",
   "metadata": {
    "slideshow": {
     "slide_type": "subslide"
    }
   },
   "source": [
    "_`area`_, _`getRadius`_, _`setRadius`_ are all methods that interact with the _`radius`_ attribute. _`__init__`_ here is actually called a _magic method_. Those are special that aren't called directly, but used in context. Let's add another magic method to this class:"
   ]
  },
  {
   "cell_type": "code",
   "execution_count": null,
   "metadata": {
    "collapsed": false,
    "slideshow": {
     "slide_type": "subslide"
    }
   },
   "outputs": [],
   "source": [
    "import numpy as np\n",
    "\n",
    "class Circle(object):\n",
    "    def __init__(self, radius=1):\n",
    "        self.radius = radius\n",
    "    \n",
    "    def area(self):\n",
    "        return (self.radius**2) * np.pi\n",
    "    \n",
    "    def getRadius(self):\n",
    "        return self.radius\n",
    "    \n",
    "    def setRadius(self, radius):\n",
    "        self.radius = radius\n",
    "    \n",
    "    def __str__(self):\n",
    "        return 'I am a circle of radius %d' % int(self.radius)\n",
    "\n",
    "c = Circle()\n",
    "c.setRadius(6)\n",
    "print(c)"
   ]
  }
 ],
 "metadata": {
  "anaconda-cloud": {},
  "celltoolbar": "Slideshow",
  "kernelspec": {
   "display_name": "Python [conda root]",
   "language": "python",
   "name": "conda-root-py"
  },
  "language_info": {
   "codemirror_mode": {
    "name": "ipython",
    "version": 2
   },
   "file_extension": ".py",
   "mimetype": "text/x-python",
   "name": "python",
   "nbconvert_exporter": "python",
   "pygments_lexer": "ipython2",
   "version": "2.7.12"
  }
 },
 "nbformat": 4,
 "nbformat_minor": 1
}
