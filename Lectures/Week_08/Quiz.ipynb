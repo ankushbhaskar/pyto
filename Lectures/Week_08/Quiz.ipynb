{
 "cells": [
  {
   "cell_type": "markdown",
   "metadata": {},
   "source": [
    "# Quiz\n",
    "\n",
    "1. What are the advantages and disadvantages of using a Jupyter notebook when compared to the other methods of accessing the Python interpreter?\n",
    "2. What is the difference between a mutable and an immutable data type?\n",
    "3. Convert the string `'7.85'` to an integer and explain your result.\n",
    "4. What happens to the variable x in the following code? Also, explain why/why not the second element is changed in x.\n",
    "\n",
    "    ```python\n",
    "    x = [1, 2, 3]\n",
    "    y = x\n",
    "    y[1] = -1\n",
    "    ```\n",
    "5. Describe why the output of the following code is/is not equivalent:\n",
    "\n",
    "    ```python\n",
    "    x = [1, 2, 3]\n",
    "    print(x[-1])\n",
    "    print(x[2:])\n",
    "    ```\n",
    "\n",
    "6. Create a plot of a sinusoidal function in the range $[-\\pi, \\pi]$.\n",
    "7. Write equivalent `for` and `while` loops to iterate through the first 20 numbers of the Fibonacci sequence.\n",
    "8. Write a function that returns recursively all directories and sub-directories given a path using the `glob` package.\n",
    "9. Describe the purpose of and where tuples are found in a loop.\n",
    "10. Create a profile of yourself in a dictionary where the keys are physical metrics such as name, age, height, and so on."
   ]
  }
 ],
 "metadata": {
  "anaconda-cloud": {},
  "kernelspec": {
   "display_name": "Python [conda root]",
   "language": "python",
   "name": "conda-root-py"
  },
  "language_info": {
   "codemirror_mode": {
    "name": "ipython",
    "version": 2
   },
   "file_extension": ".py",
   "mimetype": "text/x-python",
   "name": "python",
   "nbconvert_exporter": "python",
   "pygments_lexer": "ipython2",
   "version": "2.7.12"
  }
 },
 "nbformat": 4,
 "nbformat_minor": 0
}
