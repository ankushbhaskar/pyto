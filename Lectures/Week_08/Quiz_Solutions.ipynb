{
 "cells": [
  {
   "cell_type": "markdown",
   "metadata": {},
   "source": [
    "# Quiz\n",
    "\n",
    "1. What are the advantages and disadvantages of using a Jupyter notebook when compared to the other methods of accessing the Python interpreter?\n",
    "2. What is the difference between a mutable and an immutable data type?\n",
    "3. Convert the string `'7.85'` to an integer and explain your result.\n",
    "4. What happens to the variable x in the following code? Also, explain why/why not the second element is changed in x.\n",
    "\n",
    "    ```python\n",
    "    x = [1, 2, 3]\n",
    "    y = x\n",
    "    y[1] = -1\n",
    "    ```\n",
    "5. Describe why the output of the following code is/is not equivalent:\n",
    "\n",
    "    ```python\n",
    "    x = [1, 2, 3]\n",
    "    print(x[-1])\n",
    "    print(x[2:])\n",
    "    ```\n",
    "\n",
    "6. Create a plot of a sinusoidal function in the range $[-\\pi, \\pi]$.\n",
    "7. Write equivalent `for` and `while` loops to iterate through the first 20 numbers of the Fibonacci sequence.\n",
    "8. Write a function that returns recursively all directories and sub-directories given a path using the `glob` package.\n",
    "9. Describe the purpose of and where tuples are found in a loop.\n",
    "10. Create a profile of yourself in a dictionary where the keys are physical metrics such as name, age, height, and so on."
   ]
  },
  {
   "cell_type": "markdown",
   "metadata": {},
   "source": [
    "# Answers"
   ]
  },
  {
   "cell_type": "markdown",
   "metadata": {},
   "source": [
    "1. Using the Jupyter notebook has the advantage of a user-friendly GUI where you can mix both code and documentation in either a single-page document or other formats such as pdf, a webpage, or a presentation. The disadvantage is that there is some overhead to running this webserver when executing Python code.\n",
    "2. Mutable data types are those which allow modification of the elements and immutable data types restrict modifications.\n",
    "3. "
   ]
  },
  {
   "cell_type": "code",
   "execution_count": 1,
   "metadata": {
    "collapsed": false
   },
   "outputs": [
    {
     "data": {
      "text/plain": [
       "7"
      ]
     },
     "execution_count": 1,
     "metadata": {},
     "output_type": "execute_result"
    }
   ],
   "source": [
    "int(float('7.85'))"
   ]
  },
  {
   "cell_type": "markdown",
   "metadata": {},
   "source": [
    "Normally, we would just use the `int` function to directly convert this data type, but the string consists of a floating-point number to which we would need to transpose from a string into this floating-point representation first. Afterwards, the `int` function then operates upon this floating-point number and removes (not rounds) the decimal point along with the following digits.\n",
    "\n",
    "4."
   ]
  },
  {
   "cell_type": "code",
   "execution_count": 2,
   "metadata": {
    "collapsed": false
   },
   "outputs": [],
   "source": [
    "x = [1, 2, 3]\n",
    "y = x\n",
    "y[1] = -1"
   ]
  },
  {
   "cell_type": "code",
   "execution_count": 3,
   "metadata": {
    "collapsed": false
   },
   "outputs": [
    {
     "data": {
      "text/plain": [
       "[1, -1, 3]"
      ]
     },
     "execution_count": 3,
     "metadata": {},
     "output_type": "execute_result"
    }
   ],
   "source": [
    "x"
   ]
  },
  {
   "cell_type": "markdown",
   "metadata": {},
   "source": [
    "The variable `x` first is assigned to store a list of integers. Then, the variable `y` is created to point to the same memory location as `x`. When index 1's value is changed to -1, this is also reflected in a change in the variable `x`'s index 1's value since they both point to the same memory location. Thus, the list stored in `x` has changed.\n",
    "\n",
    "5."
   ]
  },
  {
   "cell_type": "code",
   "execution_count": 4,
   "metadata": {
    "collapsed": false
   },
   "outputs": [
    {
     "name": "stdout",
     "output_type": "stream",
     "text": [
      "3\n",
      "[3]\n"
     ]
    }
   ],
   "source": [
    "x = [1, 2, 3]\n",
    "print(x[-1])\n",
    "print(x[2:])"
   ]
  },
  {
   "cell_type": "markdown",
   "metadata": {},
   "source": [
    "The output is different because the first print statement is only printing a single element of the list (in this case, the last element). The following print statement is actually again slicing the list, but it __returns a list__ to be printed. Hence why there are brackets around the second output element.\n",
    "\n",
    "6."
   ]
  },
  {
   "cell_type": "code",
   "execution_count": 5,
   "metadata": {
    "collapsed": false
   },
   "outputs": [
    {
     "data": {
      "text/plain": [
       "[<matplotlib.lines.Line2D at 0x10f2aef10>]"
      ]
     },
     "execution_count": 5,
     "metadata": {},
     "output_type": "execute_result"
    },
    {
     "data": {
      "image/png": "[encoded data removed]",
      "text/plain": [
       "<matplotlib.figure.Figure at 0x10bfff510>"
      ]
     },
     "metadata": {},
     "output_type": "display_data"
    }
   ],
   "source": [
    "import numpy as np\n",
    "import matplotlib.pyplot as plt\n",
    "%matplotlib inline\n",
    "\n",
    "x = np.linspace(-np.pi, np.pi, 50)\n",
    "y = np.sin(x)\n",
    "\n",
    "# axes lines\n",
    "plt.axhline(0, color='k')\n",
    "plt.axvline(0, color='k')\n",
    "\n",
    "plt.plot(x, y)"
   ]
  },
  {
   "cell_type": "markdown",
   "metadata": {
    "collapsed": true
   },
   "source": [
    "7."
   ]
  },
  {
   "cell_type": "code",
   "execution_count": 6,
   "metadata": {
    "collapsed": false
   },
   "outputs": [
    {
     "name": "stdout",
     "output_type": "stream",
     "text": [
      "1 1 2 3 5 8 13 21 34 55 89 144 233 377 610 987 1597 2584 4181 6765 \n",
      "\n",
      "1 1 2 3 5 8 13 21 34 55 89 144 233 377 610 987 1597 2584 4181 6765\n"
     ]
    }
   ],
   "source": [
    "fib = []\n",
    "for i in range(20):\n",
    "    if i < 2:\n",
    "        fib.append(1)\n",
    "    else:\n",
    "        fib.append(fib[-2] + fib[-1])\n",
    "for n in fib:\n",
    "    print n,\n",
    "print '\\n'\n",
    "\n",
    "\n",
    "fib = []\n",
    "while len(fib) < 20:\n",
    "    if len(fib) < 2:\n",
    "        fib.append(1)\n",
    "    else:\n",
    "        fib.append(fib[-2] + fib[-1])\n",
    "for n in fib:\n",
    "    print n,"
   ]
  },
  {
   "cell_type": "markdown",
   "metadata": {},
   "source": [
    "8."
   ]
  },
  {
   "cell_type": "code",
   "execution_count": 7,
   "metadata": {
    "collapsed": false
   },
   "outputs": [
    {
     "name": "stdout",
     "output_type": "stream",
     "text": [
      "animal.py\n",
      "cat.py\n",
      "dog.py\n",
      "functional_programming.ipynb\n",
      "Quiz.ipynb\n",
      "Quiz_Solutions.ipynb\n",
      "README.md\n"
     ]
    }
   ],
   "source": [
    "import os\n",
    "import glob\n",
    "\n",
    "def rls(path=os.getcwd(), indent=''):\n",
    "    cwd = glob.glob(path + '/*')\n",
    "    for thing in cwd:\n",
    "        if os.path.isdir(thing):\n",
    "            print(indent + os.path.basename(os.path.normpath(thing)))\n",
    "            print(indent + '-'*20)\n",
    "            rls(path=thing, indent=indent + '  ')\n",
    "            print('')\n",
    "        else:\n",
    "            print(indent + os.path.basename(thing))\n",
    "rls()"
   ]
  },
  {
   "cell_type": "markdown",
   "metadata": {},
   "source": [
    "9.\n",
    "Tuples are used within a for loop as temporary placeholders of an iterable. These are set each time the for loop iterates given that the number of items match those within each item of the iterable (or an error will be raised)."
   ]
  },
  {
   "cell_type": "code",
   "execution_count": 8,
   "metadata": {
    "collapsed": true
   },
   "outputs": [],
   "source": [
    "me = {\n",
    "    'name':'Brent',\n",
    "    'age':'none of yo business',\n",
    "    'height':'tall',\n",
    "    'hair':'thinning',\n",
    "    'occupation':'mad scientist'\n",
    "}"
   ]
  }
 ],
 "metadata": {
  "anaconda-cloud": {},
  "kernelspec": {
   "display_name": "Python [conda root]",
   "language": "python",
   "name": "conda-root-py"
  },
  "language_info": {
   "codemirror_mode": {
    "name": "ipython",
    "version": 2
   },
   "file_extension": ".py",
   "mimetype": "text/x-python",
   "name": "python",
   "nbconvert_exporter": "python",
   "pygments_lexer": "ipython2",
   "version": "2.7.12"
  }
 },
 "nbformat": 4,
 "nbformat_minor": 1
}
