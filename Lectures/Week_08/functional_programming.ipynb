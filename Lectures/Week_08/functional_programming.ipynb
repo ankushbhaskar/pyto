{
 "cells": [
  {
   "cell_type": "markdown",
   "metadata": {
    "slideshow": {
     "slide_type": "slide"
    }
   },
   "source": [
    "# Python Class - Fall 2016\n",
    "\n",
    "---\n",
    "\n",
    "Functional Programming and Objects"
   ]
  },
  {
   "cell_type": "markdown",
   "metadata": {
    "slideshow": {
     "slide_type": "subslide"
    }
   },
   "source": [
    "# A small Review\n",
    "\n",
    "---\n",
    "\n",
    "You should know by now:\n",
    "\n",
    "- Run Python code\n",
    "- Variables\n",
    "- Data Types\n",
    "- Strings & Formatting\n",
    "- Input / Output\n",
    "- Imports\n",
    "- Lists, Tuples, Dictionaries\n",
    "- Loops\n",
    "- Conditionals\n",
    "- Functions"
   ]
  },
  {
   "cell_type": "markdown",
   "metadata": {
    "slideshow": {
     "slide_type": "subslide"
    }
   },
   "source": [
    "# Functional Programming\n",
    "\n",
    "---\n",
    "\n",
    "In programming there are several approaches to how you design more complext systems of code. One is functional programming, and quite literally this means to structure your code using functions. Why?"
   ]
  },
  {
   "cell_type": "code",
   "execution_count": null,
   "metadata": {
    "collapsed": false,
    "slideshow": {
     "slide_type": "subslide"
    }
   },
   "outputs": [],
   "source": [
    "import dog\n",
    "import cat\n",
    "\n",
    "dog.walk()\n",
    "cat.pedicure(cat.getLegs())\n",
    "dog.pedicure()"
   ]
  },
  {
   "cell_type": "markdown",
   "metadata": {
    "slideshow": {
     "slide_type": "slide"
    }
   },
   "source": [
    "# But, is this efficient?"
   ]
  },
  {
   "cell_type": "markdown",
   "metadata": {
    "slideshow": {
     "slide_type": "fragment"
    }
   },
   "source": [
    "This is essentially where functional programming and object-oriented programming diverge. Efficiency."
   ]
  },
  {
   "cell_type": "code",
   "execution_count": null,
   "metadata": {
    "collapsed": true,
    "slideshow": {
     "slide_type": "subslide"
    }
   },
   "outputs": [],
   "source": [
    "# Functional Programming (more compact, but more code if many cases)\n",
    "import dog\n",
    "import cat\n",
    "\n",
    "dog.walk()\n",
    "cat.walk()"
   ]
  },
  {
   "cell_type": "code",
   "execution_count": null,
   "metadata": {
    "collapsed": true,
    "slideshow": {
     "slide_type": "subslide"
    }
   },
   "outputs": [],
   "source": [
    "# Object-Oriented Programming (allows many items/flexibility)\n",
    "import animal\n",
    "\n",
    "dog = animal.Animal(type='dog', name='Fido', legs=3, speak='wags', bad_speak='barks', tail=False)\n",
    "dog.walk()\n",
    "cat = animal.Animal(type='cat', name='Milo', legs=4, speak='purs', bad_speak='hisses')\n",
    "cat.walk()"
   ]
  }
 ],
 "metadata": {
  "anaconda-cloud": {},
  "celltoolbar": "Slideshow",
  "kernelspec": {
   "display_name": "Python [Root]",
   "language": "python",
   "name": "Python [Root]"
  },
  "language_info": {
   "codemirror_mode": {
    "name": "ipython",
    "version": 2
   },
   "file_extension": ".py",
   "mimetype": "text/x-python",
   "name": "python",
   "nbconvert_exporter": "python",
   "pygments_lexer": "ipython2",
   "version": "2.7.12"
  }
 },
 "nbformat": 4,
 "nbformat_minor": 0
}
