{
 "cells": [
  {
   "cell_type": "markdown",
   "metadata": {},
   "source": [
    "# Assignment!\n",
    "\n",
    "---\n",
    "\n",
    "__Note: These assignments are here to expand your knowledge. Search, dig, whatever to find out how to solve these problems.__\n",
    "\n",
    "1. Operate on the following variable to change its type to an integer:\n",
    "\n",
    "    ```python\n",
    "    x = 3.14\n",
    "    ```\n",
    "_Remember:_ You can see the type of a variable via:\n",
    "    \n",
    "    ```python\n",
    "    print(type(x))\n",
    "    ```\n",
    "\n",
    "2. Calculate the area of a circle with radius of 5.0m as a floating-point number.\n",
    "3. What does 3 + 2 < 5 - 7 evaluate to? Why?\n",
    "\n",
    "Submit, via email, solutions to these problems in a Jupyter/IPython notebook before our next class time."
   ]
  },
  {
   "cell_type": "markdown",
   "metadata": {},
   "source": [
    "# Answers:"
   ]
  },
  {
   "cell_type": "markdown",
   "metadata": {},
   "source": [
    "#### Question 1:"
   ]
  },
  {
   "cell_type": "code",
   "execution_count": 1,
   "metadata": {
    "collapsed": false
   },
   "outputs": [
    {
     "name": "stdout",
     "output_type": "stream",
     "text": [
      "<type 'int'>\n",
      "3\n"
     ]
    }
   ],
   "source": [
    "x = 3.14\n",
    "x = int(3.14)\n",
    "print(type(x))\n",
    "print(x)"
   ]
  },
  {
   "cell_type": "markdown",
   "metadata": {},
   "source": [
    "#### Question 2:\n",
    "\n",
    "The area of a circle is defined by $$A = \\pi r^2$$ We want to be as precise as possible, so one could look up how to retrieve the constant of pi within the math function, or use an approximated constant such as 3.14. I chose the more precise route below."
   ]
  },
  {
   "cell_type": "code",
   "execution_count": 2,
   "metadata": {
    "collapsed": false
   },
   "outputs": [
    {
     "name": "stdout",
     "output_type": "stream",
     "text": [
      "Area: 78.5398163397 m^2\n"
     ]
    }
   ],
   "source": [
    "import math\n",
    "area = math.pi * 5.**2\n",
    "print('Area: ' + str(area) + ' m^2')"
   ]
  },
  {
   "cell_type": "markdown",
   "metadata": {},
   "source": [
    "#### Question 3:"
   ]
  },
  {
   "cell_type": "code",
   "execution_count": 3,
   "metadata": {
    "collapsed": false
   },
   "outputs": [
    {
     "data": {
      "text/plain": [
       "False"
      ]
     },
     "execution_count": 3,
     "metadata": {},
     "output_type": "execute_result"
    }
   ],
   "source": [
    "3 + 2 < 5 - 7"
   ]
  },
  {
   "cell_type": "markdown",
   "metadata": {},
   "source": [
    "The reason it evaluates to False is due to that the mathematical expressions each are computed as such:"
   ]
  },
  {
   "cell_type": "code",
   "execution_count": 4,
   "metadata": {
    "collapsed": false
   },
   "outputs": [
    {
     "data": {
      "text/plain": [
       "5"
      ]
     },
     "execution_count": 4,
     "metadata": {},
     "output_type": "execute_result"
    }
   ],
   "source": [
    "3+2"
   ]
  },
  {
   "cell_type": "code",
   "execution_count": 5,
   "metadata": {
    "collapsed": false
   },
   "outputs": [
    {
     "data": {
      "text/plain": [
       "-2"
      ]
     },
     "execution_count": 5,
     "metadata": {},
     "output_type": "execute_result"
    }
   ],
   "source": [
    "5-7"
   ]
  },
  {
   "cell_type": "markdown",
   "metadata": {},
   "source": [
    "So, because the order of operations still hold for this expression, 5 is indeed not less than -2."
   ]
  }
 ],
 "metadata": {
  "kernelspec": {
   "display_name": "Python 2",
   "language": "python",
   "name": "python2"
  },
  "language_info": {
   "codemirror_mode": {
    "name": "ipython",
    "version": 2
   },
   "file_extension": ".py",
   "mimetype": "text/x-python",
   "name": "python",
   "nbconvert_exporter": "python",
   "pygments_lexer": "ipython2",
   "version": "2.7.11"
  }
 },
 "nbformat": 4,
 "nbformat_minor": 0
}
