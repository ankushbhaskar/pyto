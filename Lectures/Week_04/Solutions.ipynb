{
 "cells": [
  {
   "cell_type": "markdown",
   "metadata": {},
   "source": [
    "# Assignment\n",
    "\n",
    "Continuing with our 1-D Linear Convection project, we will note the equation again as\n",
    "\n",
    "$$\\frac{\\partial{u}}{\\partial{t}} + c\\frac{\\partial{u}}{\\partial{x}}=0$$  \n",
    "\n",
    "and from last week's assignment, we have the initial conditions of an initial wave with speed `c`. We will this week now set an initial condition of the wave to be:\n",
    "\n",
    "$$u(x, 0)=u_0(x)$$  \n",
    "\n",
    "which means that the wave at $t=0$ is equal to a 1-D, spatial wave $u_0(x)$. Don't worry if this is all confusing as it will make more sense when we start adding in more details.\n",
    "\n",
    "1. Last week you prompted the user for values for dx, nx, dt, and nt. This week, modify your code and change dx to be fixed across a spatial domain that is 2 units of length wide (i.e., $x_i \\in (0,2)$) so we don't have an irregular grid (as some of you were trying to do). We want this to be evenly spaced depending upon the variable __`nx`__.\n",
    "\n",
    "    __Hint:__ Don't make this too hard and I will make sure we all have the same dx equation next week. Just try to attempt at solving this one as it's more math than Python.  \n",
    "    __Extra Hint:__ Imagine a 1-D x-axis space from 0 to 2. `nx` is the number of boxes to place inside this space. As `nx` increases, `dx` decreases because we are trying to fit more boxes in the same amount of space and vice versa.\n",
    "2. Create a numpy array of ones, size nx. Now, modify it for the following initial conditions:\n",
    "\n",
    "    $$u_0=\\left\\{\n",
    "    \\begin{array}{ll}\n",
    "    2,&0.5\\leq x\\leq 1\\\\\n",
    "    1,&\\text{everwhere else in }(0,2)\n",
    "    \\end{array}\n",
    "    \\right.$$\n",
    "\n",
    "    __Hint:__ You will use your new dx to slice the numpy array and fix the subset of values to be equal to 2.  \n",
    "    __Extra Hint:__ This is a piecewise, step function. The placement of the step depends upon `nx`, the number of boxes between 0 and 2.\n",
    "3. To deviate a little from our project, make a plot of a line with slope 5 and y-intercept of 2.\n",
    "\n",
    "    __Hint:__ You will need to use lists for this one.  \n",
    "    __Extra Hint:__ Notice I did not specify an x- or y- domain. You will have to specify this."
   ]
  },
  {
   "cell_type": "code",
   "execution_count": 1,
   "metadata": {
    "collapsed": false
   },
   "outputs": [
    {
     "name": "stdout",
     "output_type": "stream",
     "text": [
      "This program is intended to build and analyze a fluid dynamics model using Python.\n",
      "\n",
      "Please enter the number of grid boxes: 41\n",
      "Please enter the number of time steps: 25\n",
      "Please enter the size of each time step: 0.025\n",
      "\n",
      "Based on your input, we now have our spatial and time domains as follows:\n",
      "41 grid boxes of size 0.05\n",
      "25 time steps of size 0.025\n",
      "With the assumption of the wave speed as 1.0\n"
     ]
    }
   ],
   "source": [
    "'''\n",
    "Solutions to Week 4 Python Class Assignment\n",
    "Author: Brent Smith\n",
    "\n",
    "Purpose: To build and analyze a fluid dynamics model within Python.\n",
    "'''\n",
    "import numpy as np\n",
    "\n",
    "print('This program is intended to build and analyze a fluid dynamics model using Python.\\n')\n",
    "\n",
    "nx = int(raw_input('Please enter the number of grid boxes: '))\n",
    "dx = 2./(nx-1) # assumes more than 1 box\n",
    "nt = int(raw_input('Please enter the number of time steps: '))\n",
    "dt = float(raw_input('Please enter the size of each time step: '))\n",
    "c = 1.\n",
    "\n",
    "print('\\nBased on your input, we now have our spatial and time domains as follows:')\n",
    "print('{0} grid boxes of size {1}\\n{2} time steps of size {3}'.format(nx, dx, nt, dt))\n",
    "print('With the assumption of the wave speed as {0}'.format(c))"
   ]
  },
  {
   "cell_type": "code",
   "execution_count": 2,
   "metadata": {
    "collapsed": false
   },
   "outputs": [
    {
     "name": "stdout",
     "output_type": "stream",
     "text": [
      "[ 1.  1.  1.  1.  1.  1.  1.  1.  1.  1.  2.  2.  2.  2.  2.  2.  2.  2.\n",
      "  2.  2.  2.  1.  1.  1.  1.  1.  1.  1.  1.  1.  1.  1.  1.  1.  1.  1.\n",
      "  1.  1.  1.  1.  1.]\n"
     ]
    }
   ],
   "source": [
    "u = np.ones(nx)\n",
    "u[int(.5/dx) : int(1/dx+1)] = 2 # sets u=2 between 0.5 and 1 from our I.C.s\n",
    "# note: +1 because we want to offset the slicing to include 1.\n",
    "print(u)"
   ]
  },
  {
   "cell_type": "code",
   "execution_count": 3,
   "metadata": {
    "collapsed": false
   },
   "outputs": [
    {
     "data": {
      "text/plain": [
       "[<matplotlib.lines.Line2D at 0x1119dfe10>]"
      ]
     },
     "execution_count": 3,
     "metadata": {},
     "output_type": "execute_result"
    },
    {
     "data": {
      "image/png": "[encoded data removed]",
      "text/plain": [
       "<matplotlib.figure.Figure at 0x10c5e2090>"
      ]
     },
     "metadata": {},
     "output_type": "display_data"
    }
   ],
   "source": [
    "# to visualize this\n",
    "from matplotlib import pyplot\n",
    "%matplotlib inline\n",
    "\n",
    "pyplot.plot(np.linspace(0, 2, nx), u) # notice the slanted sides?"
   ]
  },
  {
   "cell_type": "code",
   "execution_count": 4,
   "metadata": {
    "collapsed": false
   },
   "outputs": [
    {
     "data": {
      "text/plain": [
       "[<matplotlib.lines.Line2D at 0x111d80c90>]"
      ]
     },
     "execution_count": 4,
     "metadata": {},
     "output_type": "execute_result"
    },
    {
     "data": {
      "image/png": "[encoded data removed]",
      "text/plain": [
       "<matplotlib.figure.Figure at 0x10c7a1950>"
      ]
     },
     "metadata": {},
     "output_type": "display_data"
    }
   ],
   "source": [
    "m = 5\n",
    "y_intercept = 2\n",
    "\n",
    "x = [-2., -1., 0., 1., 2.]\n",
    "y = [m*x[0]+y_intercept, m*x[1]+y_intercept, m*x[2]+y_intercept, m*x[3]+y_intercept, m*x[4]+y_intercept]\n",
    "\n",
    "# plotting the axes for a pretty picture\n",
    "pyplot.plot([x[0], x[-1]], [0, 0], 'k-')\n",
    "pyplot.plot([0, 0], [-15, 15], 'k-')\n",
    "\n",
    "# now to plot the answer\n",
    "pyplot.plot(x, y, 'r-')\n",
    "pyplot.plot(x, y, 'ko')"
   ]
  }
 ],
 "metadata": {
  "kernelspec": {
   "display_name": "Python 2",
   "language": "python",
   "name": "python2"
  },
  "language_info": {
   "codemirror_mode": {
    "name": "ipython",
    "version": 2
   },
   "file_extension": ".py",
   "mimetype": "text/x-python",
   "name": "python",
   "nbconvert_exporter": "python",
   "pygments_lexer": "ipython2",
   "version": "2.7.11"
  }
 },
 "nbformat": 4,
 "nbformat_minor": 0
}
