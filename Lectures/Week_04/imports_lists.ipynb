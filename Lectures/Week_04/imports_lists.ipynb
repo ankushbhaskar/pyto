{
 "cells": [
  {
   "cell_type": "markdown",
   "metadata": {
    "slideshow": {
     "slide_type": "slide"
    }
   },
   "source": [
    "# Python Class - Fall 2016\n",
    "\n",
    "--\n",
    "\n",
    "Import Statements and Lists"
   ]
  },
  {
   "cell_type": "code",
   "execution_count": null,
   "metadata": {
    "collapsed": false,
    "slideshow": {
     "slide_type": "fragment"
    }
   },
   "outputs": [],
   "source": [
    "# for a little fun\n",
    "import antigravity\n",
    "import this"
   ]
  },
  {
   "cell_type": "markdown",
   "metadata": {
    "slideshow": {
     "slide_type": "slide"
    }
   },
   "source": [
    "## The Import Statement"
   ]
  },
  {
   "cell_type": "markdown",
   "metadata": {
    "slideshow": {
     "slide_type": "subslide"
    }
   },
   "source": [
    "![Do all the things!](http://img-9gag-fun.9cache.com/photo/apLg50p_700b.jpg)"
   ]
  },
  {
   "cell_type": "markdown",
   "metadata": {
    "slideshow": {
     "slide_type": "subslide"
    }
   },
   "source": [
    "The basic syntax for import statements are as follows:\n",
    "\n",
    "```python\n",
    "import package_name\n",
    "```\n",
    "\n",
    "There are several other details, but this is the most recommended way.\n",
    "\n",
    "* [PEP 8 - Style Guide for Python Code](http://www.python.org/dev/peps/pep-0008/)\n",
    "* [pep8.org](http://pep8.org) This one was created by a user, Kenneth Reitz (not official).\n",
    "* [pycodestyle](http://pycodestyle.readthedocs.io/en/latest/) Python package that checks your style for you and created this year as requested by Guido (creator of Python).\n",
    "* [pep8](http://pep8.readthedocs.io/en/release-1.7.x/) The older package superceeded by pycodestyle (should be available to you and run from terminal)."
   ]
  },
  {
   "cell_type": "markdown",
   "metadata": {
    "slideshow": {
     "slide_type": "subslide"
    }
   },
   "source": [
    "But, how do we know what we can import?"
   ]
  },
  {
   "cell_type": "code",
   "execution_count": null,
   "metadata": {
    "collapsed": false,
    "slideshow": {
     "slide_type": "fragment"
    }
   },
   "outputs": [],
   "source": [
    "# warning: takes a while to load\n",
    "help(\"modules\")"
   ]
  },
  {
   "cell_type": "markdown",
   "metadata": {
    "slideshow": {
     "slide_type": "fragment"
    }
   },
   "source": [
    "Imports allow us to use code that has already been written. It is quite a powerful tool in Python."
   ]
  },
  {
   "cell_type": "markdown",
   "metadata": {
    "slideshow": {
     "slide_type": "fragment"
    }
   },
   "source": [
    "Okay, but now what?"
   ]
  },
  {
   "cell_type": "markdown",
   "metadata": {
    "slideshow": {
     "slide_type": "subslide"
    }
   },
   "source": [
    "Once you have imported a package, you can then use it and all of the modules within it. For example..."
   ]
  },
  {
   "cell_type": "code",
   "execution_count": null,
   "metadata": {
    "collapsed": false,
    "slideshow": {
     "slide_type": "fragment"
    }
   },
   "outputs": [],
   "source": [
    "import numpy\n",
    "print(numpy.ones(5))"
   ]
  },
  {
   "cell_type": "markdown",
   "metadata": {
    "slideshow": {
     "slide_type": "fragment"
    }
   },
   "source": [
    "Above, we have imported the numerical Python package (numpy) and then used the __`ones`__ module to create a numerical column-array of length 5 filled with floating-point values of 1."
   ]
  },
  {
   "cell_type": "markdown",
   "metadata": {
    "slideshow": {
     "slide_type": "subslide"
    }
   },
   "source": [
    "We can rename imports (as I often do this to save typing):\n",
    "\n",
    "```python\n",
    "import numpy as np\n",
    "```\n",
    "\n",
    "Which means, now we can just say `np.ones(5)` and save us from typing the full package name. But, be forewarned! This could cause conflicts of namespace and Python uses the most recent namespace."
   ]
  },
  {
   "cell_type": "markdown",
   "metadata": {
    "slideshow": {
     "slide_type": "fragment"
    }
   },
   "source": [
    "Another package that will be useful for the class project is __`matplotlib`__.\n",
    "\n",
    "* [matplotlib](http://matplotlib.org/index.html)\n",
    "* [Gallery of Examples](http://matplotlib.org/gallery.html)\n",
    "* [Basemap](http://matplotlib.org/basemap/) For data on maps and such."
   ]
  },
  {
   "cell_type": "markdown",
   "metadata": {
    "collapsed": true,
    "slideshow": {
     "slide_type": "subslide"
    }
   },
   "source": [
    "Here's a very basic example of plotting a point."
   ]
  },
  {
   "cell_type": "code",
   "execution_count": 1,
   "metadata": {
    "collapsed": false,
    "slideshow": {
     "slide_type": "fragment"
    }
   },
   "outputs": [
    {
     "data": {
      "text/plain": [
       "[<matplotlib.lines.Line2D at 0x1119a4dd0>]"
      ]
     },
     "execution_count": 1,
     "metadata": {},
     "output_type": "execute_result"
    },
    {
     "data": {
      "image/png": "[encoded data removed]",
      "text/plain": [
       "<matplotlib.figure.Figure at 0x10c6d1050>"
      ]
     },
     "metadata": {},
     "output_type": "display_data"
    }
   ],
   "source": [
    "import numpy as np\n",
    "import matplotlib\n",
    "import matplotlib.pyplot as plt\n",
    "%matplotlib inline\n",
    "\n",
    "#plt.plot(x, y, 'red-circle')\n",
    "plt.plot(2.5, 4.1, 'ro')"
   ]
  },
  {
   "cell_type": "markdown",
   "metadata": {
    "slideshow": {
     "slide_type": "fragment"
    }
   },
   "source": [
    "_Note:_ The statement __`%matplotlib inline`__ is only for the notebook and tells the interpreter to display the plot within the notebook.\n",
    "\n",
    "If you were to put this in a .py script, you will want either of the following:\n",
    "\n",
    "* __`plt.show()`__ if you are running a script and want to view the plot interactively.\n",
    "* __`plt.savefig('filename.png')`__ if you want to save the image to a file."
   ]
  },
  {
   "cell_type": "markdown",
   "metadata": {
    "slideshow": {
     "slide_type": "slide"
    }
   },
   "source": [
    "## Lists\n",
    "\n",
    "---\n",
    "\n",
    "A list is just that, a grouping of items into a single collection."
   ]
  },
  {
   "cell_type": "code",
   "execution_count": null,
   "metadata": {
    "collapsed": true,
    "slideshow": {
     "slide_type": "fragment"
    }
   },
   "outputs": [],
   "source": [
    "mylist = []\n",
    "mylist = ['the', 'earth', 'revolves', 'around', 'the', 'sun']"
   ]
  },
  {
   "cell_type": "code",
   "execution_count": null,
   "metadata": {
    "collapsed": true,
    "slideshow": {
     "slide_type": "subslide"
    }
   },
   "outputs": [],
   "source": [
    "# slicing a list is similar to string slicing\n",
    "print(mylist[0])\n",
    "print(mylist[2:4])\n",
    "print(mylist[-2])"
   ]
  },
  {
   "cell_type": "code",
   "execution_count": null,
   "metadata": {
    "collapsed": true,
    "slideshow": {
     "slide_type": "fragment"
    }
   },
   "outputs": [],
   "source": [
    "L = []          # declare empty list\n",
    "L.append(1.2)   # add a number 1.2\n",
    "L.append('a’)   # add a text\n",
    "L[0] = 1.3      # change an item\n",
    "del L[1]        # delete an item\n",
    "len(L)          # length of list\n",
    "L.count(x)      # count the number of times x occurs\n",
    "L.index(x)      # return the index of the first occurrence of x\n",
    "L.remove(x)     # delete the first occurrence of x\n",
    "L.reverse       # reverse the order of elements in the list"
   ]
  },
  {
   "cell_type": "markdown",
   "metadata": {
    "slideshow": {
     "slide_type": "subslide"
    }
   },
   "source": [
    "### List Operations\n",
    "\n",
    "---"
   ]
  },
  {
   "cell_type": "code",
   "execution_count": null,
   "metadata": {
    "collapsed": true,
    "slideshow": {
     "slide_type": "fragment"
    }
   },
   "outputs": [],
   "source": [
    "# concatenation\n",
    "mylist = mylist + ['sure']\n",
    "print(mylist)\n",
    "# appending\n",
    "mylist += ['whatever']\n",
    "print(mylist)\n",
    "\n",
    "# repeating\n",
    "mylist *= 2\n",
    "print(mylist)"
   ]
  },
  {
   "cell_type": "markdown",
   "metadata": {
    "slideshow": {
     "slide_type": "subslide"
    }
   },
   "source": [
    "### n-D Dimensional Lists\n",
    "\n",
    "---"
   ]
  },
  {
   "cell_type": "code",
   "execution_count": null,
   "metadata": {
    "collapsed": false,
    "slideshow": {
     "slide_type": "fragment"
    }
   },
   "outputs": [],
   "source": [
    "mylist = [[1, 2, 3], [4, 5, 6]]\n",
    "print(mylist)"
   ]
  },
  {
   "cell_type": "markdown",
   "metadata": {
    "slideshow": {
     "slide_type": "slide"
    }
   },
   "source": [
    "# Assignment\n",
    "\n",
    "Continuing with our 1-D Linear Convection project, we will note the equation again as\n",
    "\n",
    "$$\\frac{\\partial{u}}{\\partial{t}} + c\\frac{\\partial{u}}{\\partial{x}}=0$$  \n",
    "\n",
    "and from last week's assignment, we have the initial conditions of an initial wave with speed `c`. We will this week now set an initial condition of the wave to be:\n",
    "\n",
    "$$u(x, 0)=u_0(x)$$  \n",
    "\n",
    "which means that the wave at $t=0$ is equal to a 1-D, spatial wave $u_0(x)$. Don't worry if this is all confusing as it will make more sense when we start adding in more details.\n",
    "\n",
    "1. Last week you prompted the user for values for dx, nx, dt, and nt. This week, modify your code and change dx to be fixed across a spatial domain that is 2 units of length wide (i.e., $x_i \\in (0,2)$) so we don't have an irregular grid (as some of you were trying to do). We want this to be evenly spaced depending upon the variable __`nx`__.\n",
    "\n",
    "    __Hint:__ Don't make this too hard and I will make sure we all have the same dx equation next week. Just try to attempt at solving this one as it's more math than Python.\n",
    "2. Create a numpy array of ones, size nx. Now, modify it for the following initial conditions:\n",
    "\n",
    "    $$u_0=\\left\\{\n",
    "    \\begin{array}{ll}\n",
    "    2,&0.5\\leq x\\leq 1\\\\\n",
    "    1,&\\text{everwhere else in }(0,2)\n",
    "    \\end{array}\n",
    "    \\right.$$\n",
    "\n",
    "    __Hint:__ You will use your new dx to slice the numpy array and fix the subset of values to be equal to 2.\n",
    "3. To deviate a little from our project, make a plot of a line with slope 5 and y-intercept of 2.\n",
    "\n",
    "    __Hint:__ You will need to use lists for this one."
   ]
  }
 ],
 "metadata": {
  "celltoolbar": "Slideshow",
  "kernelspec": {
   "display_name": "Python 2",
   "language": "python",
   "name": "python2"
  },
  "language_info": {
   "codemirror_mode": {
    "name": "ipython",
    "version": 2
   },
   "file_extension": ".py",
   "mimetype": "text/x-python",
   "name": "python",
   "nbconvert_exporter": "python",
   "pygments_lexer": "ipython2",
   "version": "2.7.11"
  }
 },
 "nbformat": 4,
 "nbformat_minor": 0
}
