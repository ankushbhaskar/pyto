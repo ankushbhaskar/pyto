{
 "cells": [
  {
   "cell_type": "markdown",
   "metadata": {},
   "source": [
    "# Assignment\n",
    "\n",
    "---\n",
    "\n",
    "Going back to our original equation, the 1-D Linear Convection equation,\n",
    "\n",
    "$$\\frac{\\partial{u}}{\\partial{t}}+c\\frac{\\partial{u}}{\\partial{x}}=0$$\n",
    "\n",
    "and given our initial conditions (a wave) $u(x,0)=u_0(x)$, we know that the exact solution is $u(x,t)=u_0(x-ct)$.\n",
    "\n",
    "But, this doesn't tell us anything about what the solution looks like or even how it behaves over time. We are going to be doing a comparison eventually between the exact solution and an approximation, but this week, we are just going to plot the approximation this week.\n",
    "\n",
    "1. Let your initial wave, u, be that step function from our last homework. Remember, to use the solution that I provided.\n",
    "2. Using this initial wave, we are going to modify u using a finite difference scheme. You will not be deriving this scheme, but instead trying to visualize the resulting equation of it. \n",
    "   $$u_i^{n+1}=u_i^n-c\\frac{\\Delta t}{\\Delta x}(u_i^n-u_{i-1}^n)$$\n",
    "\n",
    "   is our equation and I will aid in stating that n and n+1 are consecutive steps in time and i and i+1 are consecutive steps in space. Finite difference schemes always build upon a prior solution which you will need to have.\n",
    "\n",
    "   So using loops, and what prior knowledge you have, produce a plot of the resulting wave (u) after nt time steps over nx spatial grid points.\n",
    "\n",
    "3. Has our wave from question 1 changed? If so, explain. If not, why not?"
   ]
  },
  {
   "cell_type": "code",
   "execution_count": 1,
   "metadata": {
    "collapsed": false
   },
   "outputs": [
    {
     "name": "stdout",
     "output_type": "stream",
     "text": [
      "This program is intended to build and analyze a fluid dynamics model using Python.\n",
      "\n",
      "Please enter the number of grid boxes: 41\n",
      "Please enter the number of time steps: 25\n",
      "Please enter the size of each time step: 0.025\n"
     ]
    },
    {
     "data": {
      "text/plain": [
       "[<matplotlib.lines.Line2D at 0x10e96c790>]"
      ]
     },
     "execution_count": 1,
     "metadata": {},
     "output_type": "execute_result"
    },
    {
     "data": {
      "image/png": "[encoded data removed]",
      "text/plain": [
       "<matplotlib.figure.Figure at 0x106170dd0>"
      ]
     },
     "metadata": {},
     "output_type": "display_data"
    }
   ],
   "source": [
    "'''\n",
    "Solutions to Week 6 Python Class Assignment\n",
    "Author: Brent Smith\n",
    "\n",
    "Purpose: To build and analyze a fluid dynamics model within Python.\n",
    "'''\n",
    "\n",
    "import numpy as np\n",
    "import matplotlib as mpl\n",
    "%matplotlib inline\n",
    "\n",
    "print('This program is intended to build and analyze a fluid dynamics model using Python.\\n')\n",
    "\n",
    "nx = int(raw_input('Please enter the number of grid boxes: '))\n",
    "dx = 2./(nx-1) # assumes more than 1 box\n",
    "nt = int(raw_input('Please enter the number of time steps: '))\n",
    "dt = float(raw_input('Please enter the size of each time step: '))\n",
    "c = 1.\n",
    "\n",
    "# Question 1\n",
    "u = np.ones(nx)\n",
    "u[int(.5/dx) : int(1/dx+1)] = 2\n",
    "\n",
    "mpl.pyplot.plot(np.linspace(0, 2, nx), u)"
   ]
  },
  {
   "cell_type": "code",
   "execution_count": 2,
   "metadata": {
    "collapsed": false
   },
   "outputs": [
    {
     "data": {
      "text/plain": [
       "[<matplotlib.lines.Line2D at 0x10ed1e650>]"
      ]
     },
     "execution_count": 2,
     "metadata": {},
     "output_type": "execute_result"
    },
    {
     "data": {
      "image/png": "[encoded data removed]",
      "text/plain": [
       "<matplotlib.figure.Figure at 0x106170a50>"
      ]
     },
     "metadata": {},
     "output_type": "display_data"
    }
   ],
   "source": [
    "# Question 2\n",
    "\n",
    "# initialize a temporary array\n",
    "un = np.ones(nx)\n",
    "\n",
    "for n in range(nt):\n",
    "    # copy existing values of u\n",
    "    un = u.copy()\n",
    "    \n",
    "    # remember that we have to start at index 1 (due to the equation of the finite difference scheme)\n",
    "    for i in range(1, nx):\n",
    "        u[i] = un[i] - c*(dt/dx)*(un[i]-un[i-1])\n",
    "\n",
    "mpl.pyplot.plot(np.linspace(0, 2, nx), u)"
   ]
  },
  {
   "cell_type": "markdown",
   "metadata": {},
   "source": [
    "Question 3\n",
    "\n",
    "It has indeed changed because this is showing the evolution of a wave after some time ($dt * nt$) moving with speed $c$. The final product is an approximation to the solution of our initial wave moving and that is shown by the smoothing of the step function."
   ]
  }
 ],
 "metadata": {
  "kernelspec": {
   "display_name": "Python 2",
   "language": "python",
   "name": "python2"
  },
  "language_info": {
   "codemirror_mode": {
    "name": "ipython",
    "version": 2
   },
   "file_extension": ".py",
   "mimetype": "text/x-python",
   "name": "python",
   "nbconvert_exporter": "python",
   "pygments_lexer": "ipython2",
   "version": "2.7.11"
  }
 },
 "nbformat": 4,
 "nbformat_minor": 0
}
