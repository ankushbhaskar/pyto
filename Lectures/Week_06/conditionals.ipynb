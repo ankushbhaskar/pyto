{
 "cells": [
  {
   "cell_type": "markdown",
   "metadata": {
    "slideshow": {
     "slide_type": "slide"
    }
   },
   "source": [
    "# Python Class - Fall 2016\n",
    "\n",
    "---\n",
    "\n",
    "Conditionals, Tuples, and Dictionaries"
   ]
  },
  {
   "cell_type": "markdown",
   "metadata": {
    "slideshow": {
     "slide_type": "slide"
    }
   },
   "source": [
    "## A Slight Review\n",
    "\n",
    "---\n",
    "\n",
    "You should know these topics now..."
   ]
  },
  {
   "cell_type": "markdown",
   "metadata": {
    "slideshow": {
     "slide_type": "subslide"
    }
   },
   "source": [
    "* Running Python code from a script, in a Jupyter notebook, from the IPython shell, and the interactive Python shell.\n",
    "* Use Python as a calculator for simple math.\n",
    "* Commenting/docummenting your code.\n",
    "* Change data types (i.e., turn a string into an integer)\n",
    "* All about strings (inputs, types, and formatting)\n",
    "* Using import statements\n",
    "* Loops to reuse code"
   ]
  },
  {
   "cell_type": "markdown",
   "metadata": {
    "slideshow": {
     "slide_type": "slide"
    }
   },
   "source": [
    "## Tuples\n",
    "\n",
    "---\n",
    "\n",
    "Tuples are an immutable (cannot be changed) sequence type. They usually contain different types of data (unlike lists) where the elements are _unpacked_."
   ]
  },
  {
   "cell_type": "code",
   "execution_count": null,
   "metadata": {
    "collapsed": false,
    "slideshow": {
     "slide_type": "subslide"
    }
   },
   "outputs": [],
   "source": [
    "# basic tuple creation (like unpacking, but into only one variable)\n",
    "a = (1, 2, 3)\n",
    "\n",
    "# unpacking\n",
    "x, y, z = (1, 2, 3)"
   ]
  },
  {
   "cell_type": "markdown",
   "metadata": {
    "slideshow": {
     "slide_type": "fragment"
    }
   },
   "source": [
    "Try this one:\n",
    "```python\n",
    "a = (1, 2, 3)\n",
    "a[1] = 5\n",
    "```"
   ]
  },
  {
   "cell_type": "markdown",
   "metadata": {
    "slideshow": {
     "slide_type": "fragment"
    }
   },
   "source": [
    "But, why have this data type at all? What's its purpose? Why not use lists instead?"
   ]
  },
  {
   "cell_type": "markdown",
   "metadata": {
    "slideshow": {
     "slide_type": "subslide"
    }
   },
   "source": [
    "Tuples are like records or to group data. Actually, there is the `namedtuple` and that is more appropriately thought of as a record (i.e., each value has a specific meaning).\n",
    "\n",
    "* [namedtuple](http://docs.python.org/dev/library/collections.html#collections.namedtuple)\n",
    "* [tuples](http://docs.python.org/2/tutorial/datastructures.html#tuples-and-sequences)"
   ]
  },
  {
   "cell_type": "code",
   "execution_count": 8,
   "metadata": {
    "collapsed": false,
    "slideshow": {
     "slide_type": "fragment"
    }
   },
   "outputs": [
    {
     "name": "stdout",
     "output_type": "stream",
     "text": [
      "3.80788655293\n"
     ]
    }
   ],
   "source": [
    "# an example of a namedtuple\n",
    "from collections import namedtuple\n",
    "from math import sqrt\n",
    "\n",
    "Point = namedtuple('Point', 'x y')\n",
    "pt1 = Point(1.0, 5.0)\n",
    "pt2 = Point(2.5, 1.5)\n",
    "\n",
    "line_length = sqrt((pt1.x-pt2.x)**2 + (pt1.y-pt2.y)**2)\n",
    "print(line_length)"
   ]
  },
  {
   "cell_type": "code",
   "execution_count": 5,
   "metadata": {
    "collapsed": false,
    "slideshow": {
     "slide_type": "subslide"
    }
   },
   "outputs": [
    {
     "name": "stdout",
     "output_type": "stream",
     "text": [
      "('hello',)\n"
     ]
    }
   ],
   "source": [
    "# special cases for 0/1 element tuples\n",
    "empty = ()\n",
    "single = 'hello',\n",
    "\n",
    "print(single)"
   ]
  },
  {
   "cell_type": "markdown",
   "metadata": {
    "slideshow": {
     "slide_type": "slide"
    }
   },
   "source": [
    "## Dictionaries\n",
    "\n",
    "---\n",
    "\n",
    "Dictionaries (dict) are basically key-value lists (yes, they are mutable) where you specify the key as a number or a string (like a word in a dictionary and its definition)."
   ]
  },
  {
   "cell_type": "code",
   "execution_count": 14,
   "metadata": {
    "collapsed": false,
    "slideshow": {
     "slide_type": "subslide"
    }
   },
   "outputs": [
    {
     "name": "stdout",
     "output_type": "stream",
     "text": [
      "None of your business.\n",
      "{'age': 'None of your business.', 'name': 'Bertha'}\n",
      "['age', 'name']\n",
      "True\n"
     ]
    }
   ],
   "source": [
    "a = {'name':'Bob', 'age':'None of your business.', 'height':6.5}\n",
    "\n",
    "# some operations\n",
    "\n",
    "print(a['age'])\n",
    "a['name'] = 'Bertha'\n",
    "del a['height']\n",
    "print(a)\n",
    "print(a.keys())\n",
    "print('age' in a)"
   ]
  },
  {
   "cell_type": "code",
   "execution_count": 18,
   "metadata": {
    "collapsed": false,
    "slideshow": {
     "slide_type": "subslide"
    }
   },
   "outputs": [
    {
     "name": "stdout",
     "output_type": "stream",
     "text": [
      "('sape', 4966.8)\n",
      "('jack', 4917.6)\n",
      "('guido', 4952.4)\n"
     ]
    }
   ],
   "source": [
    "# converting a list into a dictionary\n",
    "students = dict([('sape', 4139), ('guido', 4127), ('jack', 4098)])\n",
    "\n",
    "# dictionaries in loops\n",
    "for name, score in students.items():\n",
    "    print(name, score+score*.2)"
   ]
  },
  {
   "cell_type": "markdown",
   "metadata": {
    "slideshow": {
     "slide_type": "slide"
    }
   },
   "source": [
    "## Conditionals\n",
    "\n",
    "---"
   ]
  },
  {
   "cell_type": "markdown",
   "metadata": {},
   "source": [
    "![conditional](http://imgs.xkcd.com/comics/traffic_lights.gif)"
   ]
  },
  {
   "cell_type": "code",
   "execution_count": null,
   "metadata": {
    "collapsed": true,
    "slideshow": {
     "slide_type": "subslide"
    }
   },
   "outputs": [],
   "source": [
    "if condition:\n",
    "    # do stuff\n",
    "elif another_condition:\n",
    "    # do other stuff\n",
    "    # can have many elif statements\n",
    "else:\n",
    "    # if condition and another_condition\n",
    "    # both evaluate to False"
   ]
  },
  {
   "cell_type": "code",
   "execution_count": null,
   "metadata": {
    "collapsed": true,
    "slideshow": {
     "slide_type": "fragment"
    }
   },
   "outputs": [],
   "source": [
    "# an example\n",
    "a=1\n",
    "b=0\n",
    "if a>b:\n",
    "    print('Hi there. I am True.')"
   ]
  },
  {
   "cell_type": "markdown",
   "metadata": {
    "slideshow": {
     "slide_type": "subslide"
    }
   },
   "source": [
    "### Conditional Testing"
   ]
  },
  {
   "cell_type": "markdown",
   "metadata": {
    "slideshow": {
     "slide_type": "fragment"
    }
   },
   "source": [
    "There are various ways to insert booleans:\n",
    "\n",
    "- True/False\n",
    "- variables (i.e. the value of variable)\n",
    "- Numbers (1 is True; 0 is False)\n",
    "- Empty objects (you will learn more about these later; [], {}, None, '')\n",
    "- Comparisons between things:\n",
    "    - 1 > 2\n",
    "    - 1 == 2\n",
    "    - 1 >= 2\n",
    "    - 1 != 2\n",
    "    - 1 is 2 (be careful! this looks at the memory id of the object)\n",
    "    - 1 is not 2\n",
    "    - 1 in 2 (works only in lists, strings, and other iterable objects)\n",
    "- Evalueated values (1 + 2)"
   ]
  },
  {
   "cell_type": "markdown",
   "metadata": {
    "slideshow": {
     "slide_type": "fragment"
    }
   },
   "source": [
    "__Note:__ [Operator Precedence](http://docs.python.org/2.7/reference/expressions.html#operator-precedence)"
   ]
  },
  {
   "cell_type": "code",
   "execution_count": null,
   "metadata": {
    "collapsed": true,
    "slideshow": {
     "slide_type": "subslide"
    }
   },
   "outputs": [],
   "source": [
    "# combining conditionals\n",
    "if (1 > 2) or True:\n",
    "    print('Am I true or false?')\n",
    "\n",
    "# and, or, not"
   ]
  },
  {
   "cell_type": "markdown",
   "metadata": {
    "slideshow": {
     "slide_type": "slide"
    }
   },
   "source": [
    "# Assignment\n",
    "\n",
    "---\n",
    "\n",
    "Going back to our original equation, the 1-D Linear Convection equation,\n",
    "\n",
    "$$\\frac{\\partial{u}}{\\partial{t}}+c\\frac{\\partial{u}}{\\partial{x}}=0$$\n",
    "\n",
    "and given our initial conditions (a wave) $u(x,0)=u_0(x)$, we know that the exact solution is $u(x,t)=u_0(x-ct)$.\n",
    "\n",
    "But, this doesn't tell us anything about what the solution looks like or even how it behaves over time. We are going to be doing a comparison eventually between the exact solution and an approximation, but this week, we are just going to plot the approximation this week.\n",
    "\n",
    "1. Let your initial wave, u, be that step function from our last homework. Remember, to use the solution that I provided.\n",
    "2. Using this initial wave, we are going to modify u using a finite difference scheme. You will not be deriving this scheme, but instead trying to visualize the resulting equation of it. \n",
    "   $$u_i^{n+1}=u_i^n-c\\frac{\\Delta t}{\\Delta x}(u_i^n-u_{i-1}^n)$$\n",
    "\n",
    "   is our equation and I will aid in stating that n and n+1 are consecutive steps in time and i and i+1 are consecutive steps in space. Finite difference schemes always build upon a prior solution which you will need to have.\n",
    "\n",
    "   So using loops, and what prior knowledge you have, produce a plot of the resulting wave (u) after nt time steps over nx spatial grid points.\n",
    "\n",
    "3. Has our wave from question 1 changed? If so, explain. If not, why not?"
   ]
  }
 ],
 "metadata": {
  "celltoolbar": "Slideshow",
  "kernelspec": {
   "display_name": "Python 2",
   "language": "python",
   "name": "python2"
  },
  "language_info": {
   "codemirror_mode": {
    "name": "ipython",
    "version": 2
   },
   "file_extension": ".py",
   "mimetype": "text/x-python",
   "name": "python",
   "nbconvert_exporter": "python",
   "pygments_lexer": "ipython2",
   "version": "2.7.11"
  }
 },
 "nbformat": 4,
 "nbformat_minor": 0
}
