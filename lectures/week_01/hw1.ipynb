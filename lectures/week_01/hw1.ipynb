{
 "cells": [
  {
   "cell_type": "markdown",
   "metadata": {},
   "source": [
    "# Homework 1\n",
    "\n",
    "---\n",
    "\n",
    "1. Describe what you want to accomplish by taking this Python class.\n",
    "2. Describe your current knowledge and experience with Python programming.\n",
    "3. What projects/disciplines do you work on?\n",
    "4. Now, take all of these answers and put them in a Jupyter notebook and have Python print them out. Email me both the text and Jupyter notebook versions.\n",
    "\n",
    "I also recommend you putting these in a .py file and see the differences between a Jupyter notebook and a .py script."
   ]
  }
 ],
 "metadata": {
  "kernelspec": {
   "display_name": "Python 3",
   "language": "python",
   "name": "python3"
  },
  "language_info": {
   "codemirror_mode": {
    "name": "ipython",
    "version": 3
   },
   "file_extension": ".py",
   "mimetype": "text/x-python",
   "name": "python",
   "nbconvert_exporter": "python",
   "pygments_lexer": "ipython3",
   "version": "3.6.2"
  }
 },
 "nbformat": 4,
 "nbformat_minor": 2
}
