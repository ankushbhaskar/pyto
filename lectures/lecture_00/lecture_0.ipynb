{
 "cells": [
  {
   "cell_type": "markdown",
   "metadata": {},
   "source": [
    "# Class 0: Setup and Introduction"
   ]
  },
  {
   "cell_type": "markdown",
   "metadata": {},
   "source": [
    "### 0.1.1 About\n",
    "\n",
    "---\n",
    "\n",
    "* Me\n",
    "  * Self-Taught but now I teach others.\n",
    "  * I program in Python __every single day__.\n",
    "  * Projects I am involved in:\n",
    "    * Visualizations and Data Analysis\n",
    "    * Data Manipulations\n",
    "    * Web Sites built with Python\n",
    "    * Operational Scripts used for mission support"
   ]
  },
  {
   "cell_type": "markdown",
   "metadata": {},
   "source": [
    "![obiwan](https://github.com/edmondb/pyto/blob/master/lectures/lecture_01/obiwan.jpg?raw=true)"
   ]
  },
  {
   "cell_type": "markdown",
   "metadata": {},
   "source": [
    "### 0.1.2 This Course\n",
    "\n",
    "---\n",
    "\n",
    "__Goals:__\n",
    "* Learn the basics of Python programming\n",
    "* Adopt better programming habits\n",
    "* Use Python for mostly scientific applications\n",
    "* New approach: half class, half application\n",
    "\n",
    "__Links:__\n",
    "* All material will be online (free):\n",
    "  * Lectures: [http://github.com/edmondb/pyto](http://github.com/edmondb/pyto)\n",
    "  * Schedule: [http://github.com/edmondb/pyto/wiki](http://github.com/edmondb/pyto/wiki)\n",
    "  * Resources: [http://github.com/edmondb/pyto/wiki/Resources](http://github.com/edmondb/pyto/wiki/Resources)\n",
    "* No grades so you get out what you put into this course.\n",
    "\n",
    "_If you notice a pyto, let me know!_"
   ]
  },
  {
   "cell_type": "markdown",
   "metadata": {},
   "source": [
    "### 0.2.1 Software Requirements\n",
    "\n",
    "__Required:__\n",
    "* Anaconda Distribution for Python 3.x\n",
    "* Text Editor (ASCII; not MS Word)\n",
    "* Terminal/Command Prompt\n",
    "\n",
    "__Optional:__\n",
    "* Microsoft VS Code Editor\n",
    "* Git - Used for downloading lectures\n",
    "* Anaconda Navigator\n",
    "* A more fancy text editor (MS Word is not allowed)\n",
    "* Etc."
   ]
  },
  {
   "cell_type": "markdown",
   "metadata": {},
   "source": [
    "__Warning:__ Mac OS users be sure to be using the Anaconda Python interpreter rather than the default one that comes with your operating system. To check, open a terminal, and type:\n",
    "\n",
    "```bash\n",
    "which python\n",
    "```\n",
    "\n",
    "If it is _/usr/bin/python_, this is the default operating system Python. You will need to modify your environment (most likely your PATH variable) to include your Anaconda install."
   ]
  },
  {
   "cell_type": "markdown",
   "metadata": {},
   "source": [
    "### 0.3.1 Python Background\n",
    "\n",
    "---\n",
    "\n",
    "* Guido van Rossum (Dutch) in 1991\n",
    "  * New this year: Guido handed over the reigns of Python development to the community\n",
    "  * [Article](http://www.mail-archive.com/python-committers@python.org/msg05628.html)\n",
    "* Open Source - Community Developed and very popular\n",
    "* Named after a Monty Python movie. (can you guess which one?)\n",
    "* High-level, interpreted and portable programming language"
   ]
  },
  {
   "cell_type": "markdown",
   "metadata": {},
   "source": [
    "![Guido](http://cacm.acm.org/system/assets/0002/3442/042516_VN_Guido-van-Rossum.large.jpg?1476779512&1461595074)"
   ]
  },
  {
   "cell_type": "markdown",
   "metadata": {},
   "source": [
    "### 0.3.2 Python 3.x\n",
    "\n",
    "---\n",
    "\n",
    "Python 3.x is the newest stream of development of Python that breaks backward compatibility with the Python 2.x series. In this class, I will show you how to write Python 3 code that is also backward compatible.\n",
    "\n",
    "_Look at the References page for more links for this topic._"
   ]
  },
  {
   "cell_type": "markdown",
   "metadata": {},
   "source": [
    "![py3](https://github.com/edmondb/pyto/blob/master/lectures/lecture_01/py3.jpg?raw=true)"
   ]
  },
  {
   "cell_type": "markdown",
   "metadata": {},
   "source": [
    "### 0.3.3 Running Python Code\n",
    "\n",
    "---\n",
    "\n",
    "* From the terminal/Anaconda Prompt:\n",
    "  * as a script\n",
    "  * using an interactive shell\n",
    "    * regular Python shell\n",
    "    * the Ipython shell\n",
    "* Launching a Jupyter notebook (a local web server that uses interactive JSON-based files)\n",
    "* Using a separate IDE"
   ]
  },
  {
   "cell_type": "markdown",
   "metadata": {},
   "source": [
    "### 0.3.4 As a script\n",
    "\n",
    "---\n",
    "\n",
    "1. Open your text editor (Microsoft Word or other rich text editors will not work).\n",
    "2. Add this code:\n",
    "\n",
    "    ```python\n",
    "    print('Hello universe.')\n",
    "    ```\n",
    "\n",
    "3. Save this file with a `.py` extension.\n",
    "4. In a terminal (_Mac OS & Linux_)/Anaconda prompt (_Windows_), change directories to the folder containing the file you just saved.\n",
    "5. In that same prompt, execute:\n",
    "\n",
    "    ```bash\n",
    "    python script_name.py\n",
    "    ```\n",
    "\n",
    "6. You should now see the output produced by the Python interpreter upon the code you wrote.\n",
    "\n",
    "__Caveat:__ Your prompt should be at the directory containg the script_name.py script. (Perform an ```ls``` (_Mac OS & Linux_) or ```dir``` (_Windows_) to see if that file is in your current working directory."
   ]
  },
  {
   "cell_type": "markdown",
   "metadata": {},
   "source": [
    "__Warning:__ Mac OS users be sure to be using the Anaconda Python interpreter rather than the default one that comes with your operating system. To check, open a terminal, and type:\n",
    "\n",
    "```bash\n",
    "which python\n",
    "```\n",
    "\n",
    "If it is _/usr/bin/python_, this is the default operating system Python. You will need to modify your environment (most likely your PATH variable) to include your Anaconda install."
   ]
  },
  {
   "cell_type": "markdown",
   "metadata": {},
   "source": [
    "### 0.3.5 In the python shell\n",
    "\n",
    "---\n",
    "\n",
    "1. Open your terminal/command prompt/Anaconda prompt and type:\n",
    "\n",
    "    ```bash\n",
    "    python\n",
    "    ```\n",
    "\n",
    "2. From this interactive shell, you will notice that the prompt is ```>>>```. This is now allowing us to type Python code directly and execute it.\n",
    "3. Type and press Enter:\n",
    "\n",
    "    ```python\n",
    "    print('Anyone out there?')\n",
    "    ```\n",
    "\n",
    "4. You will see the output directly now.\n",
    "5. Exit via __```exit()```__ or __```Cntrl-D```__."
   ]
  },
  {
   "cell_type": "markdown",
   "metadata": {},
   "source": [
    "### 0.3.6 In IPython shell\n",
    "\n",
    "---\n",
    "\n",
    "1. From terminal/command prompt/Anaconda prompt type:\n",
    "\n",
    "    ```bash\n",
    "    ipython\n",
    "    ```\n",
    "\n",
    "2. This is an enhanced interactive shell that has many features (tab-completion, woot!). It also has a prompt that is numbered.\n",
    "3. Type and press Enter:\n",
    "\n",
    "    ```python\n",
    "    print('Aliens? *crickets*')\n",
    "    ```\n",
    "\n",
    "4. You will also see the output directly now.\n",
    "5. Exit via __```exit()```__ or __```Cntrl-D```__."
   ]
  },
  {
   "cell_type": "markdown",
   "metadata": {},
   "source": [
    "### 0.3.7 Jupyter notebook\n",
    "\n",
    "---\n",
    "\n",
    "1. From terminal/Anaconda prompt type:\n",
    "\n",
    "    ```bash\n",
    "    jupyter notebook\n",
    "    ```\n",
    "2. This directs you to a web browser and you can navigate to an already existing notebook or create one (right side menu New -> Python 3).\n",
    "3. This will open up a new Untitled notebook where you can directly input Python code, Markup formatted text, or have raw text.\n",
    "4. Type in the first cell:\n",
    "\n",
    "    ```python\n",
    "    print('Pythonistas? Huzzah!')\n",
    "    ```\n",
    "\n",
    "5. Press __```Shift-Enter```__ or click __Cells -> Run Cells__ or use the Play button near the top of the page.\n",
    "6. You will see the output now.\n",
    "7. Exit via closing the browser windows and stopping the server running in the terminal/command prompt. (stopping the server running is usually by ```Cntrl-C```)\n",
    "\n",
    "__Caveat:__ The directory your terminal/Anaconda prompt is at when you launch the notebook will be the top-most directory available. This means if you needed to use a file from a parent directory, you will have to stop the interpreter/server and change directories before relaunching the notebook."
   ]
  },
  {
   "cell_type": "markdown",
   "metadata": {},
   "source": [
    "# Class 0: Assignment\n",
    "\n",
    "---\n",
    "\n",
    "1. Install the Anaconda distribution to your computer.\n",
    "2. Run the following Python code using any of the prior 4 ways to run Python code and email me the output when complete:\n",
    "\n",
    "```python\n",
    "import this\n",
    "```"
   ]
  }
 ],
 "metadata": {
  "kernelspec": {
   "display_name": "Python 3",
   "language": "python",
   "name": "python3"
  },
  "language_info": {
   "codemirror_mode": {
    "name": "ipython",
    "version": 3
   },
   "file_extension": ".py",
   "mimetype": "text/x-python",
   "name": "python",
   "nbconvert_exporter": "python",
   "pygments_lexer": "ipython3",
   "version": "3.6.5"
  }
 },
 "nbformat": 4,
 "nbformat_minor": 2
}
