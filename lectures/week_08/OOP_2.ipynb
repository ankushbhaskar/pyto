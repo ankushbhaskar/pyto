{
 "cells": [
  {
   "cell_type": "markdown",
   "metadata": {},
   "source": [
    "# Python Class - Spring 2017\n",
    "\n",
    "---\n",
    "\n",
    "__Object-Oriented Programming in Python (Part 2)__"
   ]
  },
  {
   "cell_type": "markdown",
   "metadata": {},
   "source": [
    "# Inheritance\n",
    "\n",
    "---\n",
    "\n",
    "Inheritance is for the basis of reusable code. A child/sub class can inherit from a parent class."
   ]
  },
  {
   "cell_type": "code",
   "execution_count": null,
   "metadata": {
    "collapsed": false
   },
   "outputs": [],
   "source": [
    "class Animal(object):\n",
    "    def set_owner(self, name=''):\n",
    "        self.owner = name\n",
    "    \n",
    "    def get_owner(self):\n",
    "        return self.owner\n",
    "\n",
    "class Dog(Animal):\n",
    "    pass\n",
    "\n",
    "# Hi there!\n",
    "doug = Dog()\n",
    "doug.set_owner('Me')\n",
    "doug.get_owner()"
   ]
  },
  {
   "cell_type": "code",
   "execution_count": null,
   "metadata": {
    "collapsed": false
   },
   "outputs": [],
   "source": [
    "print(Dog.__bases__)"
   ]
  },
  {
   "cell_type": "markdown",
   "metadata": {},
   "source": [
    "# Overloading / Polymorphism\n",
    "\n",
    "---\n",
    "\n",
    "If we want a child class to behave differently than the parent, then we write the same method in the child class with the new behavior."
   ]
  },
  {
   "cell_type": "code",
   "execution_count": null,
   "metadata": {
    "collapsed": false
   },
   "outputs": [],
   "source": [
    "class Animal(object):\n",
    "    def set_owner(self, name=''):\n",
    "        self.owner = name\n",
    "    \n",
    "    def get_owner(self):\n",
    "        return self.owner\n",
    "\n",
    "class Dog(Animal):\n",
    "    def get_owner(self):\n",
    "        return self.owner + ', Hi there!'\n",
    "\n",
    "# Hi there!\n",
    "doug = Dog()\n",
    "doug.set_owner('Me')\n",
    "doug.get_owner()"
   ]
  }
 ],
 "metadata": {
  "kernelspec": {
   "display_name": "Python 3",
   "language": "python",
   "name": "python3"
  },
  "language_info": {
   "codemirror_mode": {
    "name": "ipython",
    "version": 3
   },
   "file_extension": ".py",
   "mimetype": "text/x-python",
   "name": "python",
   "nbconvert_exporter": "python",
   "pygments_lexer": "ipython3",
   "version": "3.6.0"
  }
 },
 "nbformat": 4,
 "nbformat_minor": 2
}
