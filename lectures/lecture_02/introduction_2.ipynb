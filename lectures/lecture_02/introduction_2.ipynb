{
 "cells": [
  {
   "cell_type": "markdown",
   "metadata": {
    "collapsed": true
   },
   "source": [
    "# Python Class - Fall 2017\n",
    "\n",
    "---\n",
    "\n",
    "Introduction (Continued)"
   ]
  },
  {
   "cell_type": "markdown",
   "metadata": {},
   "source": [
    "# Python as a Calculator\n",
    "\n",
    "[Arimethic Operations (Official Docs)](https://docs.python.org/3.6/library/stdtypes.html#typesnumeric) | [Operators and Expressions](http://pymbook.readthedocs.io/en/latest/operatorsexpressions.html) | [Order of Operations](https://docs.python.org/3.6/reference/expressions.html#operator-precedence)\n",
    "\n",
    "---\n",
    "\n",
    "Floor Division: [PEP 238](https://www.python.org/dev/peps/pep-0238/)\n",
    "* Python 2.x continues to return integers\n",
    "* Python 3.x will return floating point (decimal) numbers"
   ]
  },
  {
   "cell_type": "markdown",
   "metadata": {},
   "source": [
    "## Example\n",
    "\n",
    "```python\n",
    "3/2\n",
    "\n",
    "3//2```\n",
    "\n",
    "Run these calculations in Python 3.x. Now, try running from Python 2.x. Why are these different?\n",
    "\n",
    "__Note:__ For those in this class, you only have Python 3.x. If you would like Python 2.x, I recommend installing Python 2.7 as that is the latest stable release of the 2.x series."
   ]
  },
  {
   "cell_type": "markdown",
   "metadata": {},
   "source": [
    "# Python Data Types\n",
    "\n",
    "---\n",
    "\n",
    "Representing differences between integers, floating-point numbers, null values, and logical values."
   ]
  },
  {
   "cell_type": "code",
   "execution_count": null,
   "metadata": {},
   "outputs": [],
   "source": [
    "print(type('Hi there!'))"
   ]
  },
  {
   "cell_type": "code",
   "execution_count": null,
   "metadata": {},
   "outputs": [],
   "source": [
    "print(type(5))\n",
    "print(type(2+2)) # can find the type of the result!"
   ]
  },
  {
   "cell_type": "code",
   "execution_count": null,
   "metadata": {},
   "outputs": [],
   "source": [
    "print(type(3.)) # notice no trailing zero is needed\n",
    "print(True) # boolean values\n",
    "print(type(True))\n",
    "print(type(None)) # null value"
   ]
  },
  {
   "cell_type": "markdown",
   "metadata": {},
   "source": [
    "# A Comment about Comments\n",
    "\n",
    "---\n",
    "\n",
    "Use the `#`-symbol to make a single-line comment. It can be inline with code too!"
   ]
  },
  {
   "cell_type": "markdown",
   "metadata": {},
   "source": [
    "```python\n",
    "'''here is a multi-line\n",
    "comment'''\n",
    "\n",
    "\"\"\"here is another\n",
    "one but with double quotes\"\"\"\n",
    "\n",
    "# single-line comments\n",
    "print('Hi there!') # inline code comment of value\n",
    "```"
   ]
  },
  {
   "cell_type": "markdown",
   "metadata": {},
   "source": [
    "# Variables\n",
    "\n",
    "---\n",
    "\n",
    "> A variable is a user-friendly way to associate memory locations of data.\n",
    "\n",
    "A variable can:\n",
    "* hold any type of data,\n",
    "* has no initialization statement,\n",
    "* can be re-assigned, deleted, and copied,\n",
    "* be named (almost) whatever name you like,\n",
    "* is tied to a single memory location (groups of numbers, i.e. an array)."
   ]
  },
  {
   "cell_type": "code",
   "execution_count": null,
   "metadata": {
    "collapsed": true
   },
   "outputs": [],
   "source": [
    "x = 2\n",
    "y = 3.\n",
    "\n",
    "print(x/y)\n",
    "\n",
    "# prints hexidecimal representation of memory location/address\n",
    "print(hex(id(x)))\n",
    "print(hex(id(y)))"
   ]
  },
  {
   "cell_type": "code",
   "execution_count": null,
   "metadata": {
    "collapsed": true
   },
   "outputs": [],
   "source": [
    "x = y\n",
    "print(x)\n",
    "print(y)\n",
    "\n",
    "print(hex(id(x)))\n",
    "print(hex(id(y)))"
   ]
  },
  {
   "cell_type": "markdown",
   "metadata": {},
   "source": [
    "# BreakOut! - 1 minute\n",
    "\n",
    "---\n",
    "\n",
    "__Note: These small breakouts are here to expand your knowledge. Search, dig, whatever to find out how to solve these problems.__\n",
    "\n",
    "1. Convert the following variable type to an integer:\n",
    "\n",
    "    ```python\n",
    "    x = 3.14\n",
    "    ```\n",
    "_Remember:_ You can see the type of a variable via:\n",
    "    \n",
    "    ```python\n",
    "    print(type(x))\n",
    "    ```"
   ]
  },
  {
   "cell_type": "markdown",
   "metadata": {},
   "source": [
    "# Strings (a start)\n",
    "\n",
    "---\n",
    "\n",
    "Strings are just a group of characters (not numbers)."
   ]
  },
  {
   "cell_type": "code",
   "execution_count": null,
   "metadata": {
    "collapsed": true
   },
   "outputs": [],
   "source": [
    "# single line\n",
    "print('a string')\n",
    "print(\"a string\")\n",
    "\n",
    "# multi-line\n",
    "print('''a string\n",
    "that spans\n",
    "more than one line''')\n",
    "\n",
    "print(\"\"\"can be composed\n",
    "of single or double\n",
    "quotation marks\"\"\")"
   ]
  },
  {
   "cell_type": "code",
   "execution_count": null,
   "metadata": {
    "collapsed": true
   },
   "outputs": [],
   "source": [
    "# escaping\n",
    "print(\"don't mix \\\"quotes\\\" unless you need them\")\n",
    "print('same for double \"quotes\" or vice versa')"
   ]
  },
  {
   "cell_type": "code",
   "execution_count": null,
   "metadata": {
    "collapsed": true
   },
   "outputs": [],
   "source": [
    "# raw strings (treat backslash as a literal character)\n",
    "print('here is a \\ttab \\nnewline')\n",
    "\n",
    "# ignoring end of line returns\n",
    "print('''when you want\n",
    "to remove the end of line\n",
    "characters, just use a forward\\\n",
    "slash''')"
   ]
  },
  {
   "cell_type": "code",
   "execution_count": null,
   "metadata": {
    "collapsed": true
   },
   "outputs": [],
   "source": [
    "# concatenation\n",
    "print('a ' + 'string' + ' apart' + \", yet \" + '''together''')\n",
    "\n",
    "# multiplication\n",
    "print('squirrel! '*3)"
   ]
  },
  {
   "cell_type": "markdown",
   "metadata": {
    "collapsed": true
   },
   "source": [
    "# Slicing\n",
    "\n",
    "---\n",
    "\n",
    "```\n",
    " +---+---+---+---+---+---+  \n",
    " | P | y | t | h | o | n |  \n",
    " +---+---+---+---+---+---+  \n",
    " 0   1   2   3   4   5   6  \n",
    "-6  -5  -4  -3  -2  -1```\n",
    "\n",
    "> In Python, indexes start at zero, not one."
   ]
  },
  {
   "cell_type": "code",
   "execution_count": null,
   "metadata": {
    "collapsed": true
   },
   "outputs": [],
   "source": [
    "# A Python Slicing Example\n",
    "sample = 'Python'\n",
    "\n",
    "print(sample[0])\n",
    "print(sample[:2])\n",
    "print(sample[2:])\n",
    "print(sample[1:4])\n",
    "print(sample[-1])\n",
    "print(sample[2:-1])"
   ]
  },
  {
   "cell_type": "markdown",
   "metadata": {},
   "source": [
    "# User-Input\n",
    "\n",
    "---\n",
    "\n",
    "```python\n",
    "raw_input() # Python 2.x\n",
    "input() # Python 3.x\n",
    "```"
   ]
  },
  {
   "cell_type": "code",
   "execution_count": null,
   "metadata": {
    "collapsed": true
   },
   "outputs": [],
   "source": [
    "answer = input('Question? ')\n",
    "print(answer)\n",
    "\n",
    "# How could this be something bad to incorporate?"
   ]
  },
  {
   "cell_type": "markdown",
   "metadata": {},
   "source": [
    "# Formatting Strings\n",
    "\n",
    "---\n",
    "\n",
    "A great resource: [PyFormat](http://pyformat.info)"
   ]
  },
  {
   "cell_type": "code",
   "execution_count": null,
   "metadata": {
    "collapsed": true
   },
   "outputs": [],
   "source": [
    "# old format (yet still available in Python 2/3):\n",
    "print('%2e' % 0.34)\n",
    "print('%6d' % 5)\n",
    "print('%-.3s' % 'a really long string that I do not want to print')\n",
    "\n",
    "# new format\n",
    "print('{:>10}'.format('test'))\n",
    "print('{:^10}'.format('test'))\n",
    "print('{:03.2f}'.format(3.1415296))\n",
    "\n",
    "print('{first} {last} {first}'.format(first='Brent', last='Smith'))"
   ]
  },
  {
   "cell_type": "markdown",
   "metadata": {},
   "source": [
    "### Unicode...\n",
    "\n",
    "[What Is Unicode](http://www.unicode.org/standard/WhatIsUnicode.html)"
   ]
  },
  {
   "cell_type": "code",
   "execution_count": null,
   "metadata": {
    "collapsed": true
   },
   "outputs": [],
   "source": [
    "print('Hello World!')\n",
    "print(u'Hello World!')\n",
    "print('Hello\\u0020World!')"
   ]
  },
  {
   "cell_type": "markdown",
   "metadata": {},
   "source": [
    "### Changing Strings\n",
    "\n",
    "---\n",
    "\n",
    "> Mutable/Immutable Types: A string is an immutable type. That is, it cannot be changed."
   ]
  },
  {
   "cell_type": "code",
   "execution_count": null,
   "metadata": {
    "collapsed": true
   },
   "outputs": [],
   "source": [
    "sample = 'A sample string.'\n",
    "sample[3] = 'f'"
   ]
  },
  {
   "cell_type": "code",
   "execution_count": null,
   "metadata": {
    "collapsed": true
   },
   "outputs": [],
   "source": [
    "# To get the desired result, we create a new string altogether.\n",
    "sample = 'A sample string.'\n",
    "sample = sample[:3] + 'f' + sample[4:]\n",
    "print(sample)"
   ]
  }
 ],
 "metadata": {
  "kernelspec": {
   "display_name": "Python 3",
   "language": "python",
   "name": "python3"
  },
  "language_info": {
   "codemirror_mode": {
    "name": "ipython",
    "version": 3
   },
   "file_extension": ".py",
   "mimetype": "text/x-python",
   "name": "python",
   "nbconvert_exporter": "python",
   "pygments_lexer": "ipython3",
   "version": "3.6.2"
  }
 },
 "nbformat": 4,
 "nbformat_minor": 2
}
