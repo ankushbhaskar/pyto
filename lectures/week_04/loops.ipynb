{
 "cells": [
  {
   "cell_type": "markdown",
   "metadata": {},
   "source": [
    "# Python Class - Spring 2017\n",
    "\n",
    "---\n",
    "\n",
    "__Recap and More!__"
   ]
  },
  {
   "cell_type": "markdown",
   "metadata": {},
   "source": [
    "# Last time..."
   ]
  },
  {
   "cell_type": "code",
   "execution_count": null,
   "metadata": {
    "collapsed": true
   },
   "outputs": [],
   "source": [
    "# strings, slicing and formatting\n",
    "a = 'a string {greeting}'\n",
    "print(a[-3])\n",
    "print(a[4:].format(greeting='hello'))\n",
    "\n",
    "# imports\n",
    "from numpy.ma import masked_array as my_masked_array\n",
    "\n",
    "# lists\n",
    "groceries = ['eggs', 2, {'a':'dictionary'}, ['nested', 0, 'lists']]"
   ]
  },
  {
   "cell_type": "markdown",
   "metadata": {},
   "source": [
    "# Sequences\n",
    "\n",
    "---\n",
    "\n",
    "A grouping of more than one \"thing\"."
   ]
  },
  {
   "cell_type": "code",
   "execution_count": null,
   "metadata": {
    "collapsed": false
   },
   "outputs": [],
   "source": [
    "# list (can be changed...what was that called again?)\n",
    "x = [0, 1, 2, 3, 4]\n",
    "print(x[2])\n",
    "\n",
    "# tuple (cannot be changed)\n",
    "x = (0, 1, 2, 3, 4)\n",
    "print(x[2])\n",
    "\n",
    "# range (Python 2.x range was a list, now it's like xrange)\n",
    "x = range(4)\n",
    "print(x[2])\n",
    "\n",
    "# xrange (only in Python2.x)\n",
    "#x = xrange(4)\n",
    "#print(x[2])"
   ]
  },
  {
   "cell_type": "markdown",
   "metadata": {},
   "source": [
    "The differences between `range` and `xrange` are subtle. In Python 2.x, range created a list in memory whereas `xrange` created a sequence object that evaluates lazily (upon request). Now, in Python 3.x, there is no `xrange`, but a new sequence type of `range` which is like the Python 2.x `xrange`."
   ]
  },
  {
   "cell_type": "code",
   "execution_count": null,
   "metadata": {
    "collapsed": true
   },
   "outputs": [],
   "source": [
    "# basic tuple creation (like unpacking, but into only one variable)\n",
    "a = (1, 2, 3)\n",
    "\n",
    "# unpacking\n",
    "x, y, z = (1, 2, 3)"
   ]
  },
  {
   "cell_type": "markdown",
   "metadata": {},
   "source": [
    "Tuples are like records or to group data. Actually, there is the `namedtuple` and that is more appropriately thought of as a record (i.e., each value has a specific meaning).\n",
    "\n",
    "* [namedtuple](http://docs.python.org/dev/library/collections.html#collections.namedtuple)\n",
    "* [tuples](http://docs.python.org/3.6/tutorial/datastructures.html#tuples-and-sequences)"
   ]
  },
  {
   "cell_type": "code",
   "execution_count": null,
   "metadata": {
    "collapsed": false
   },
   "outputs": [],
   "source": [
    "# an example of a namedtuple\n",
    "import math\n",
    "import collections\n",
    "\n",
    "Point = collections.namedtuple('Point', 'x y')\n",
    "pt1 = Point(1.0, 5.0)\n",
    "pt2 = Point(2.5, 1.5)\n",
    "\n",
    "distance = math.sqrt((pt1.x-pt2.x)**2 + (pt1.y-pt2.y)**2)\n",
    "print(distance)"
   ]
  },
  {
   "cell_type": "code",
   "execution_count": null,
   "metadata": {
    "collapsed": false
   },
   "outputs": [],
   "source": [
    "# special cases for 0/1 element tuples\n",
    "empty = ()\n",
    "single = 'hello',\n",
    "\n",
    "print(single)"
   ]
  },
  {
   "cell_type": "markdown",
   "metadata": {},
   "source": [
    "__Exercise:__\n",
    "\n",
    "1. What happens when you try to create a range of -10?\n",
    "2. Create a list of even numbers from 0 to 20."
   ]
  },
  {
   "cell_type": "markdown",
   "metadata": {},
   "source": [
    "# Loops"
   ]
  },
  {
   "cell_type": "markdown",
   "metadata": {},
   "source": [
    "### The `for` Loop\n",
    "\n",
    "---\n",
    "\n",
    "When we want to iterate through a portion of the sequence (item-by-item), we choose `for` loops. These are very powerful for programmers to perform repetitative operations."
   ]
  },
  {
   "cell_type": "code",
   "execution_count": null,
   "metadata": {
    "collapsed": false
   },
   "outputs": [],
   "source": [
    "days_in_year = 365\n",
    "\n",
    "for day in range(days_in_year):\n",
    "    print('Day {today}'.format(today=day))"
   ]
  },
  {
   "cell_type": "markdown",
   "metadata": {},
   "source": [
    "To explain, the for loop assigns the variable `name` to each item within the list of names as it proceeds to iterate through every element of the list. Following the for loop line, following statements indented (by either 2 spaces, 4 spaces, or a tab) contextually. That means, that you can then proceed to use the variable `name`'s current value (which is the current item in the list) to do any sorts of operations upon it.\n",
    "\n",
    "If the list is empty, there is nothing to iterate upon so the statements that follow and indented are ignored."
   ]
  },
  {
   "cell_type": "markdown",
   "metadata": {},
   "source": [
    "For (pun intended) example:\n",
    "\n",
    "```python\n",
    "files = [...]\n",
    "\n",
    "for file in files:\n",
    "    # perform some operation upon each file\n",
    "    # like reading the data\n",
    "    # like renaming the file\n",
    "    # like appending data to an array\n",
    "    # like calculating the mean across many files\n",
    "    # and so on...\n",
    "```"
   ]
  },
  {
   "cell_type": "code",
   "execution_count": null,
   "metadata": {
    "collapsed": true
   },
   "outputs": [],
   "source": [
    "# a helpful example\n",
    "for (i, name) in enumerate(['Bob', 'Joe', 'Mary']):\n",
    "    print(name + \"'s student id is \" + str(i))"
   ]
  },
  {
   "cell_type": "markdown",
   "metadata": {},
   "source": [
    "Here, `i, name` are actually a tuple (parentheses aren't necessary) where these items change only when the next item of the list is used. Each iteration, a new tuple of values is used."
   ]
  },
  {
   "cell_type": "markdown",
   "metadata": {},
   "source": [
    "### The `while` Loop\n",
    "\n",
    "---\n",
    "\n",
    "When you don't know the number of items or want to go forever until a condition is met, use the `while` loop.\n",
    "\n",
    "__WARNING:__ Be careful not to create an endless loop!"
   ]
  },
  {
   "cell_type": "markdown",
   "metadata": {},
   "source": [
    "![flowchart](http://imgs.xkcd.com/comics/flowchart.png)"
   ]
  },
  {
   "cell_type": "markdown",
   "metadata": {},
   "source": [
    "```python\n",
    "while condition:\n",
    "    do stuff\n",
    "```"
   ]
  },
  {
   "cell_type": "code",
   "execution_count": null,
   "metadata": {
    "collapsed": false
   },
   "outputs": [],
   "source": [
    "age = 30\n",
    "\n",
    "while age < 50:\n",
    "    print('I am {current_age} years old.'.format(current_age=age))\n",
    "    age += 1"
   ]
  },
  {
   "cell_type": "markdown",
   "metadata": {},
   "source": [
    "__Exercise:__\n",
    "\n",
    "1. Print out the letters of the alphabet.\n",
    "2. Find how many 'the's are in the Declaration of Independence (do not count by hand!)."
   ]
  },
  {
   "cell_type": "markdown",
   "metadata": {},
   "source": [
    "# List Comprehensions\n",
    "\n",
    "---\n",
    "\n",
    "A more compact way to iterate through lists."
   ]
  },
  {
   "cell_type": "code",
   "execution_count": null,
   "metadata": {
    "collapsed": false
   },
   "outputs": [],
   "source": [
    "result = [x for x in range(0, 20, 2)]\n",
    "print(result)"
   ]
  },
  {
   "cell_type": "code",
   "execution_count": null,
   "metadata": {
    "collapsed": false
   },
   "outputs": [],
   "source": [
    "students = [('Brent', 'Smith'), ('Bob', 'LastName'), ('FirstName', 'Blah')]\n",
    "full_names = [first + ' ' + last for first,last in students]\n",
    "print(full_names)"
   ]
  }
 ],
 "metadata": {
  "kernelspec": {
   "display_name": "Python 3",
   "language": "python",
   "name": "python3"
  },
  "language_info": {
   "codemirror_mode": {
    "name": "ipython",
    "version": 3
   },
   "file_extension": ".py",
   "mimetype": "text/x-python",
   "name": "python",
   "nbconvert_exporter": "python",
   "pygments_lexer": "ipython3",
   "version": "3.6.0"
  }
 },
 "nbformat": 4,
 "nbformat_minor": 2
}
