{
 "cells": [
  {
   "cell_type": "markdown",
   "metadata": {
    "slideshow": {
     "slide_type": "slide"
    }
   },
   "source": [
    "# Python Class - Fall 2017"
   ]
  },
  {
   "cell_type": "markdown",
   "metadata": {
    "slideshow": {
     "slide_type": "fragment"
    }
   },
   "source": [
    "![python](http://imgs.xkcd.com/comics/python.png)"
   ]
  },
  {
   "cell_type": "markdown",
   "metadata": {
    "slideshow": {
     "slide_type": "slide"
    }
   },
   "source": [
    "# About this Class"
   ]
  },
  {
   "cell_type": "markdown",
   "metadata": {
    "slideshow": {
     "slide_type": "subslide"
    }
   },
   "source": [
    "### Me\n",
    "\n",
    "* Self-taught Python programmer\n",
    "* I program in Python __every__ __single__ __day__.\n",
    "* Projects I work on:\n",
    "  * Visualizations and data analysis\n",
    "  * Data manipulations\n",
    "  * Web sites built with Python\n",
    "  * Operational scripts and utilities for missions support and analysis\n",
    "\n",
    "![obi](https://github.com/edmondb/pyto/blob/master/lectures/lecture_01/obiwan.jpg?raw=true)"
   ]
  },
  {
   "cell_type": "markdown",
   "metadata": {
    "slideshow": {
     "slide_type": "subslide"
    }
   },
   "source": [
    "### You\n",
    "\n",
    "* Many background, same objective: learn Python\n",
    "\n",
    "![you](https://github.com/edmondb/pyto/blob/master/lectures/lecture_01/class.jpg?raw=true)"
   ]
  },
  {
   "cell_type": "markdown",
   "metadata": {
    "slideshow": {
     "slide_type": "subslide"
    }
   },
   "source": [
    "### Main Objective: To do X\n",
    "\n",
    "---\n",
    "\n",
    "* Learn basics to advanced topics of Python programming\n",
    "* All material is online and free:\n",
    "  * Lectures: http://github.com/edmondb/pyto\n",
    "  * Agenda/Schedule: http://github.com/edmondb/pyto/wiki\n",
    "  * Resources (new this semester!): http://github.com/edmondb/pyto/wiki/Resources\n",
    "* Ask questions, collaborate with your neighbor, and contact me whenever you need help!\n",
    "* Homework/assignments will be assigned that are meant to give you real-life applications. I will return them with input/recommendations."
   ]
  },
  {
   "cell_type": "markdown",
   "metadata": {
    "slideshow": {
     "slide_type": "subslide"
    }
   },
   "source": [
    "__No attendance records. No grades. You get out what you put in.__\n",
    "\n",
    "__If you see a pyto, please tell me!__"
   ]
  },
  {
   "cell_type": "markdown",
   "metadata": {
    "slideshow": {
     "slide_type": "slide"
    }
   },
   "source": [
    "# Python, A (little) History"
   ]
  },
  {
   "cell_type": "markdown",
   "metadata": {
    "slideshow": {
     "slide_type": "subslide"
    }
   },
   "source": [
    "* Guido van Rossum (Dutch) in 1991\n",
    "* Named after a Monty Python movie. (can you guess which one?)\n",
    "* High-level (do you know what this means?), interpreted language\n",
    "\n",
    "![Guido](http://cacm.acm.org/system/assets/0002/3442/042516_VN_Guido-van-Rossum.large.jpg?1476779512&1461595074)"
   ]
  },
  {
   "cell_type": "markdown",
   "metadata": {
    "slideshow": {
     "slide_type": "subslide"
    }
   },
   "source": [
    "![interpreter](http://2.bp.blogspot.com/-P85bhD_LJA4/Vg52ZrB1ZTI/AAAAAAAAJxM/k28udeGkyvc/s640/python.jpg)"
   ]
  },
  {
   "cell_type": "markdown",
   "metadata": {
    "slideshow": {
     "slide_type": "subslide"
    }
   },
   "source": [
    "### Resources\n",
    "\n",
    "---\n",
    "\n",
    "* http://www.python.org\n",
    "* Documentation: http://docs.python.org/3/\n",
    "* Goddard Python Users Group (PUG) - let me know if you want to join"
   ]
  },
  {
   "cell_type": "markdown",
   "metadata": {
    "slideshow": {
     "slide_type": "slide"
    }
   },
   "source": [
    "# Python 2 vs 3?"
   ]
  },
  {
   "cell_type": "markdown",
   "metadata": {
    "slideshow": {
     "slide_type": "subslide"
    }
   },
   "source": [
    "* Main reason: Unicode\n",
    "* We use Python 3.6 because you can program such that it will work for Python 2.7 and it's coming soon.\n",
    "* You will learn differences as we go and attempt to create Python2/3 compatible code.\n",
    "* http://python-future.org\n",
    "* http://pythonclock.org"
   ]
  },
  {
   "cell_type": "markdown",
   "metadata": {
    "slideshow": {
     "slide_type": "subslide"
    }
   },
   "source": [
    "![py3](https://github.com/edmondb/pyto/blob/master/lectures/lecture_01/py3.jpg?raw=true)"
   ]
  },
  {
   "cell_type": "markdown",
   "metadata": {
    "slideshow": {
     "slide_type": "slide"
    }
   },
   "source": [
    "# How to execute Python code (4 ways)"
   ]
  },
  {
   "cell_type": "markdown",
   "metadata": {
    "slideshow": {
     "slide_type": "subslide"
    }
   },
   "source": [
    "### As a script\n",
    "\n",
    "---\n",
    "\n",
    "1. Open your text editor (Microsoft Word or other rich text editors will not work).\n",
    "2. Add this code:\n",
    "\n",
    "    ```python\n",
    "    print('Hello universe.')\n",
    "    ```\n",
    "\n",
    "3. Save this file with a `.py` extension.\n",
    "4. In a terminal (_Mac OS & Linux_)/Anaconda prompt (_Windows_), change directories to the folder containing the file you just saved.\n",
    "5. In that same prompt, execute:\n",
    "\n",
    "    ```bash\n",
    "    $ python script_name.py\n",
    "    ```\n",
    "\n",
    "6. You should now see the output produced by the Python interpreter upon the code you wrote.\n",
    "\n",
    "__Caveat:__ Your prompt should be at the directory containg the script_name.py script. (Perform an ```ls``` (_Mac OS & Linux_) or ```dir``` (_Windows_) to see if that file is in your current working directory."
   ]
  },
  {
   "cell_type": "markdown",
   "metadata": {
    "slideshow": {
     "slide_type": "subslide"
    }
   },
   "source": [
    "### In the python shell\n",
    "\n",
    "---\n",
    "\n",
    "1. Open your terminal/command prompt/Anaconda prompt and type:\n",
    "\n",
    "    ```bash\n",
    "    python\n",
    "    ```\n",
    "\n",
    "2. From this interactive shell, you will notice that the prompt is ```>>>```. This is now allowing us to type Python code directly and execute it.\n",
    "3. Type and press Enter:\n",
    "\n",
    "    ```python\n",
    "    print('Anyone out there?')\n",
    "    ```\n",
    "\n",
    "4. You will see the output directly now.\n",
    "5. Exit via __```exit()```__ or __```Cntrl-D```__."
   ]
  },
  {
   "cell_type": "markdown",
   "metadata": {
    "slideshow": {
     "slide_type": "subslide"
    }
   },
   "source": [
    "### In IPython shell\n",
    "\n",
    "---\n",
    "\n",
    "1. From terminal/command prompt/Anaconda prompt type:\n",
    "\n",
    "    ```bash\n",
    "    ipython\n",
    "    ```\n",
    "\n",
    "2. This is an enhanced interactive shell that has many features (tab-completion, woot!). It also has a prompt that is numbered.\n",
    "3. Type:\n",
    "\n",
    "    ```python\n",
    "    print('Aliens? *crickets*')\n",
    "    ```\n",
    "\n",
    "4. You will also see the output directly now.\n",
    "5. Exit via __```exit()```__ or __```Cntrl-D```__."
   ]
  },
  {
   "cell_type": "markdown",
   "metadata": {
    "slideshow": {
     "slide_type": "subslide"
    }
   },
   "source": [
    "### Jupyter notebook\n",
    "\n",
    "---\n",
    "\n",
    "1. From terminal/Anaconda prompt type:\n",
    "\n",
    "    ```bash\n",
    "    jupyter notebook\n",
    "    ```\n",
    "\n",
    "__Note:__ Windows users, the command for you from the Anaconda Prompt is __`ipython notebook`__ (as of last Fall). Due to the split ~2 years ago between IPython and Jupyter not completely finished, there is this remaining confusing step.\n",
    "\n",
    "2. This directs you to a web browser and you can navigate to an already existing notebook or create one (right side menu New -> Python 3).\n",
    "3. This will open up a new Untitled notebook where you can directly input Python code, Markup formatted text, or have raw text.\n",
    "4. Type:\n",
    "\n",
    "    ```python\n",
    "    print('Pythonistas? Huzzah!')\n",
    "    ```\n",
    "\n",
    "5. Press __```Shift-Enter```__ or click __Cells -> Run Cells__ or use the Play button near the top of the page.\n",
    "6. You will see the output now.\n",
    "7. Exit via closing the browser windows and stopping the server running in the terminal/command prompt."
   ]
  },
  {
   "cell_type": "markdown",
   "metadata": {
    "slideshow": {
     "slide_type": "slide"
    }
   },
   "source": [
    "# You now can run Python code.\n",
    "\n",
    "---\n",
    "\n",
    "![python](http://cdn.meme.am/cache/instances/folder928/67267928.jpg)"
   ]
  },
  {
   "cell_type": "markdown",
   "metadata": {
    "slideshow": {
     "slide_type": "slide"
    }
   },
   "source": [
    "# Python as a Calculator"
   ]
  },
  {
   "cell_type": "code",
   "execution_count": null,
   "metadata": {
    "slideshow": {
     "slide_type": "fragment"
    }
   },
   "outputs": [],
   "source": [
    "print(2+2) # addition, subtraction, multiplication, etc."
   ]
  },
  {
   "cell_type": "code",
   "execution_count": null,
   "metadata": {
    "slideshow": {
     "slide_type": "fragment"
    }
   },
   "outputs": [],
   "source": [
    "print(17/3.) # floating-point arithmetic"
   ]
  },
  {
   "cell_type": "code",
   "execution_count": null,
   "metadata": {
    "slideshow": {
     "slide_type": "fragment"
    }
   },
   "outputs": [],
   "source": [
    "print(j*1j) # complex numbers too!"
   ]
  },
  {
   "cell_type": "code",
   "execution_count": null,
   "metadata": {
    "collapsed": true
   },
   "outputs": [],
   "source": []
  }
 ],
 "metadata": {
  "celltoolbar": "Slideshow",
  "kernelspec": {
   "display_name": "Python 3",
   "language": "python",
   "name": "python3"
  },
  "language_info": {
   "codemirror_mode": {
    "name": "ipython",
    "version": 3
   },
   "file_extension": ".py",
   "mimetype": "text/x-python",
   "name": "python",
   "nbconvert_exporter": "python",
   "pygments_lexer": "ipython3",
   "version": "3.6.2"
  }
 },
 "nbformat": 4,
 "nbformat_minor": 2
}
