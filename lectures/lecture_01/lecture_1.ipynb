{
 "cells": [
  {
   "cell_type": "markdown",
   "metadata": {},
   "source": [
    "# Class 1: Data in Python"
   ]
  },
  {
   "cell_type": "markdown",
   "metadata": {},
   "source": [
    "### Semester-Long Project\n",
    "\n",
    "Through this semster, the application portion of the class will be assembling a larger project that spans many aspects of programming while we leran Python. I have selected the DSCOVR mission as a focus as it applies to the majority of the disciplines in this course: Earth Science and Space Science. I will be giving real-world in-class exercises for you to put your new knowledge to work.\n",
    "\n",
    "To find more information about this mission, visit [here](http://www.nesdis.noaa.gov/content/dscovr-deep-space-climate-observatory).\n",
    "\n",
    "![DSCOVR Logo](http://www.nesdis.noaa.gov/sites/default/files/assets/images/DSCOVR-Logo_NOAA_NASA_USAF.png)"
   ]
  },
  {
   "cell_type": "markdown",
   "metadata": {},
   "source": [
    "### 1.1.1 Data in Python\n",
    "\n",
    "In order to make proper calculations and analyses, we need to know how Python handles numerical data."
   ]
  },
  {
   "cell_type": "markdown",
   "metadata": {},
   "source": [
    "### 1.1.2 Data Types\n",
    "\n",
    "---\n",
    "\n",
    "The following are the basics of how a computer \"sees\" data:\n",
    "\n",
    "* Strings\n",
    "* Numbers (integers, floatint point numbers, exponentials, complex, etc.)\n",
    "* Logical (True/False, 0/1, Null)"
   ]
  },
  {
   "cell_type": "code",
   "execution_count": null,
   "metadata": {},
   "outputs": [],
   "source": [
    "print(type('Hi there!'))"
   ]
  },
  {
   "cell_type": "code",
   "execution_count": null,
   "metadata": {},
   "outputs": [],
   "source": [
    "print(type(5))\n",
    "print(type(2+2)) # can find the type of the result!"
   ]
  },
  {
   "cell_type": "code",
   "execution_count": null,
   "metadata": {},
   "outputs": [],
   "source": [
    "print(type(3.)) # notice no trailing zero is needed\n",
    "print(True) # boolean values\n",
    "print(type(True))\n",
    "print(type(None)) # null value"
   ]
  },
  {
   "cell_type": "markdown",
   "metadata": {},
   "source": [
    "### 1.1.3 Python as a Calculator\n",
    "\n",
    "[Arimethic Operations (Official Docs)](http://docs.python.org/3.7/library/stdtypes.html#typesnumeric) | [Operators and Expressions](http://pymbook.readthedocs.io/en/latest/operatorsexpressions.html) | [Order of Operations](https://docs.python.org/3.7/reference/expressions.html#operator-precedence)\n",
    "\n",
    "---\n",
    "\n",
    "Floor Division: [PEP 238](https://www.python.org/dev/peps/pep-0238/)\n",
    "* Python 2.x continues to return integers\n",
    "* Python 3.x will return floating point (decimal) numbers"
   ]
  },
  {
   "cell_type": "markdown",
   "metadata": {},
   "source": [
    "### Example\n",
    "\n",
    "```python\n",
    "3/2\n",
    "\n",
    "3//2```\n",
    "\n",
    "Run these calculations in Python 3.x. Now, try running from Python 2.x. Why are these different?\n",
    "\n",
    "__Note:__ For those in this class, you only have Python 3.x. If you would like Python 2.x, I recommend installing Python 2.7 as that is the latest stable release of the 2.x series."
   ]
  },
  {
   "cell_type": "code",
   "execution_count": null,
   "metadata": {},
   "outputs": [],
   "source": [
    "print(3.2)\n",
    "print(float(3.2)) # double precision\n",
    "print(1e10) # exponentials\n",
    "print(1+10j * 1j) # complex numbers"
   ]
  },
  {
   "cell_type": "markdown",
   "metadata": {},
   "source": [
    "### 1.1.4 A Comment about Comments\n",
    "\n",
    "---\n",
    "\n",
    "Use the `#`-symbol to make a single-line comment. It can be inline with code too!"
   ]
  },
  {
   "cell_type": "markdown",
   "metadata": {},
   "source": [
    "```python\n",
    "'''here is a multi-line\n",
    "comment'''\n",
    "\n",
    "\"\"\"here is another\n",
    "one but with double quotes\"\"\"\n",
    "\n",
    "# single-line comments\n",
    "print('Hi there!') # inline code comment of value\n",
    "```"
   ]
  },
  {
   "cell_type": "markdown",
   "metadata": {},
   "source": [
    "### 1.2.0 Variables\n",
    "\n",
    "---\n",
    "\n",
    "> A variable is a user-friendly way to associate memory locations of data.\n",
    "\n",
    "A variable can:\n",
    "* hold any type of data,\n",
    "* has no initialization statement,\n",
    "* can be re-assigned, deleted, and copied,\n",
    "* be named (almost) whatever name you like,\n",
    "* is tied to a single memory location (groups of numbers, i.e. an array)."
   ]
  },
  {
   "cell_type": "code",
   "execution_count": null,
   "metadata": {},
   "outputs": [],
   "source": [
    "x = 2\n",
    "y = 3.\n",
    "\n",
    "print(x/y)"
   ]
  },
  {
   "cell_type": "markdown",
   "metadata": {},
   "source": [
    "__WARNING!__\n",
    "\n",
    "The intent of variables is to have names that are actually meaningful. I warn you to not rename standard library functions unintentially:"
   ]
  },
  {
   "cell_type": "code",
   "execution_count": null,
   "metadata": {},
   "outputs": [],
   "source": [
    "type = 3"
   ]
  },
  {
   "cell_type": "code",
   "execution_count": null,
   "metadata": {},
   "outputs": [],
   "source": [
    "print(type('a string'))"
   ]
  },
  {
   "cell_type": "markdown",
   "metadata": {},
   "source": [
    "## BreakOut! - 1 minute\n",
    "\n",
    "---\n",
    "\n",
    "__Note: These small breakouts are here to expand your knowledge. Search, dig, whatever to find out how to solve these problems.__\n",
    "\n",
    "1. Cast the following variable type to an integer:\n",
    "\n",
    "    ```python\n",
    "    x = 3.14\n",
    "    ```\n",
    "_Remember:_ You can see the type of a variable via:\n",
    "    \n",
    "    ```python\n",
    "    print(type(x))\n",
    "    ```"
   ]
  },
  {
   "cell_type": "markdown",
   "metadata": {},
   "source": [
    "### 1.3.0 Strings (a start)\n",
    "\n",
    "---\n",
    "\n",
    "Strings are just a group of characters (not numbers)."
   ]
  },
  {
   "cell_type": "code",
   "execution_count": null,
   "metadata": {},
   "outputs": [],
   "source": [
    "# single line\n",
    "print('a string')\n",
    "print(\"a string\")\n",
    "\n",
    "# multi-line\n",
    "print('''a string\n",
    "that spans\n",
    "more than one line''')\n",
    "\n",
    "print(\"\"\"can be composed\n",
    "of single or double\n",
    "quotation marks\"\"\")"
   ]
  },
  {
   "cell_type": "code",
   "execution_count": null,
   "metadata": {},
   "outputs": [],
   "source": [
    "# escaping\n",
    "print(\"don't mix \\\"quotes\\\" unless you need them\")\n",
    "print('same for double \"quotes\" or vice versa')"
   ]
  },
  {
   "cell_type": "code",
   "execution_count": null,
   "metadata": {},
   "outputs": [],
   "source": [
    "# raw strings (treat backslash as a literal character)\n",
    "print('here is a \\ttab \\nnewline')\n",
    "\n",
    "# ignoring end of line returns\n",
    "print('''when you want\n",
    "to remove the end of line\n",
    "characters, just use a forward\\\n",
    "slash''')"
   ]
  },
  {
   "cell_type": "code",
   "execution_count": null,
   "metadata": {},
   "outputs": [],
   "source": [
    "# concatenation\n",
    "print('a ' + 'string' + ' apart' + \", yet \" + '''together''')\n",
    "\n",
    "# multiplication\n",
    "print('squirrel! '*3)"
   ]
  },
  {
   "cell_type": "markdown",
   "metadata": {},
   "source": [
    "### 1.3.1 User-Input\n",
    "\n",
    "---\n",
    "\n",
    "```python\n",
    "raw_input() # Python 2.x\n",
    "input() # Python 3.x\n",
    "```"
   ]
  },
  {
   "cell_type": "code",
   "execution_count": null,
   "metadata": {},
   "outputs": [],
   "source": [
    "answer = input('Question? ')\n",
    "print(answer)\n",
    "\n",
    "# How could this be something bad to incorporate?"
   ]
  },
  {
   "cell_type": "markdown",
   "metadata": {},
   "source": [
    "### 1.3.2 Formatting Strings\n",
    "\n",
    "---\n",
    "\n",
    "A great resource: [PyFormat](http://pyformat.info)"
   ]
  },
  {
   "cell_type": "code",
   "execution_count": null,
   "metadata": {},
   "outputs": [],
   "source": [
    "# old format (yet still available in Python 2/3):\n",
    "print('%2e' % 0.34)\n",
    "print('%6d' % 5)\n",
    "print('%-.3s' % 'a really long string that I do not want to print')\n",
    "\n",
    "# new format\n",
    "print('{:>10}'.format('test'))\n",
    "print('{:^10}'.format('test'))\n",
    "print('{:03.2f}'.format(3.1415296))\n",
    "\n",
    "print('{first} {last} {first}'.format(first='Brent', last='Smith'))"
   ]
  },
  {
   "cell_type": "markdown",
   "metadata": {},
   "source": [
    "### 1.3.3 Changing Strings\n",
    "\n",
    "---\n",
    "\n",
    "> Mutable/Immutable Types: A string is an immutable type. That is, it cannot be changed."
   ]
  },
  {
   "cell_type": "code",
   "execution_count": null,
   "metadata": {},
   "outputs": [],
   "source": [
    "sample = 'A sample string.'\n",
    "sample[3] = 'f'"
   ]
  },
  {
   "cell_type": "code",
   "execution_count": null,
   "metadata": {},
   "outputs": [],
   "source": [
    "# To get the desired result, we create a new string altogether.\n",
    "sample = 'A sample string.'\n",
    "sample = sample[:3] + 'f' + sample[4:]\n",
    "print(sample)"
   ]
  },
  {
   "cell_type": "markdown",
   "metadata": {},
   "source": [
    "# In-Class Exercise\n",
    "\n",
    "Familiarity with the Jupyter notebook:"
   ]
  },
  {
   "cell_type": "markdown",
   "metadata": {},
   "source": [
    "\n",
    "_You are going to learn a new feature of the Jupyter notebooks this week as part of your homework. This feature is how we can present formatting of text within a notebook aside from our Python code. [Markdown](http://jupyter-notebook.readthedocs.io/en/latest/examples/Notebook/Working%20With%20Markdown%20Cells.html) is what is used in notebook cells of type \"Markdown\" (see the drop down on the Toolbar)._\n",
    "\n",
    "__Put all of your responses in Markdown and submit the final Jupyter notebook.__ You can download and use this notebook as an example.\n",
    "1. Name the instruments and products (i.e., what is it measuring?) that are on board DSCOVR.\n",
    "2. What does DSCOVR's orbit look like? Where is it now?\n",
    "3. We want to look at the overall project at this stage from a high level. Write down the logical steps you would take to download data from DSCOVR, analyze it, and then visualize it. Do not write code.\n",
    "4. Next, write how you might approach automating the steps you wrote in #3. Again, do not write code."
   ]
  }
 ],
 "metadata": {
  "kernelspec": {
   "display_name": "Python 3",
   "language": "python",
   "name": "python3"
  },
  "language_info": {
   "codemirror_mode": {
    "name": "ipython",
    "version": 3
   },
   "file_extension": ".py",
   "mimetype": "text/x-python",
   "name": "python",
   "nbconvert_exporter": "python",
   "pygments_lexer": "ipython3",
   "version": "3.6.5"
  }
 },
 "nbformat": 4,
 "nbformat_minor": 2
}
