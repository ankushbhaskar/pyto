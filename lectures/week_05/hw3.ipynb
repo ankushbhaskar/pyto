{
 "cells": [
  {
   "cell_type": "markdown",
   "metadata": {},
   "source": [
    "# Homework 3\n",
    "\n",
    "---\n",
    "\n",
    "__Semester-Long Project:__ We are going to create an automated, real-time, solar wind single-page application (possibly GUI/web) to visualize and analyze data from the DSCOVR observatory.\n",
    "\n",
    "An example of such a product commercially is here (the top map only which uses an auroral model): [SpaceWeatherLive.com](https://www.spaceweatherlive.com).\n",
    "\n",
    "---\n",
    "\n",
    "__Put all of your responses in Markdown and submit the final Jupyter notebook.__ You can download and use this notebook as an example.\n",
    "1. Using the last homework as a guide, download the most current solar wind data from DISCOVR using Python (do not just download by hand). As a reference, a real-time visualization is here: [http://www.swpc.noaa.gov/products/real-time-solar-wind](http://www.swpc.noaa.gov/products/real-time-solar-wind). Make sure to give your source of where you are finding this data.\n",
    "2. If we were using this data to warn humans on Earth about geomagnetic events, describe what checks would be placed on the data after it is downloaded.\n",
    "3. Use matplotlib to plot the latest 7-days plasma density of the solar wind."
   ]
  },
  {
   "cell_type": "markdown",
   "metadata": {},
   "source": [
    "# Answers\n",
    "\n",
    "Question 1. \n",
    "\n",
    "We can download the JSON data for the last 7-days which will aid us in solving question #3."
   ]
  },
  {
   "cell_type": "code",
   "execution_count": 1,
   "metadata": {
    "collapsed": false
   },
   "outputs": [],
   "source": [
    "import json\n",
    "import urllib.request\n",
    "\n",
    "url = 'http://services.swpc.noaa.gov/products/solar-wind/plasma-7-day.json'\n",
    "with urllib.request.urlopen(url) as f:\n",
    "    data = json.loads(f.read().decode())"
   ]
  },
  {
   "cell_type": "markdown",
   "metadata": {},
   "source": [
    "Question 2.\n",
    "\n",
    "We would want certain checks in place that will alert us when the plasma density exceeds certain values for geomagnetic storms (i.e., certain outages that would affect satellites or our electronic devices). We also would want to do sanity checks of the data to make sure that the data was downloaded correctly and to entirety."
   ]
  },
  {
   "cell_type": "markdown",
   "metadata": {},
   "source": [
    "Question 3."
   ]
  },
  {
   "cell_type": "code",
   "execution_count": 2,
   "metadata": {
    "collapsed": false
   },
   "outputs": [
    {
     "data": {
      "text/plain": [
       "<matplotlib.lines.Line2D at 0x118ac1278>"
      ]
     },
     "execution_count": 2,
     "metadata": {},
     "output_type": "execute_result"
    },
    {
     "data": {
      "image/png": "[encoded data removed]",
      "text/plain": [
       "<matplotlib.figure.Figure at 0x118aef358>"
      ]
     },
     "metadata": {},
     "output_type": "display_data"
    }
   ],
   "source": [
    "import numpy as np\n",
    "import datetime as dt\n",
    "import matplotlib.pyplot as plt\n",
    "%matplotlib inline\n",
    "\n",
    "# put data in numpy arrays\n",
    "dates = []\n",
    "density = []\n",
    "for entry in data[1:]:\n",
    "    time, d, speed, temp = entry\n",
    "    dates.append(dt.datetime.strptime(time, '%Y-%m-%d %H:%M:%S.%f'))\n",
    "    density.append(d)\n",
    "dates = np.array(dates)\n",
    "density = np.array(density)\n",
    "\n",
    "# plot\n",
    "plt.plot(dates, density, 'r-', linewidth=0.5)\n",
    "plt.yscale('log')\n",
    "plt.xlim(dates[0], dates[-1])\n",
    "plt.axhline(y=10, color='k', linestyle='--')"
   ]
  }
 ],
 "metadata": {
  "kernelspec": {
   "display_name": "Python 3",
   "language": "python",
   "name": "python3"
  },
  "language_info": {
   "codemirror_mode": {
    "name": "ipython",
    "version": 3
   },
   "file_extension": ".py",
   "mimetype": "text/x-python",
   "name": "python",
   "nbconvert_exporter": "python",
   "pygments_lexer": "ipython3",
   "version": "3.6.0"
  }
 },
 "nbformat": 4,
 "nbformat_minor": 2
}
