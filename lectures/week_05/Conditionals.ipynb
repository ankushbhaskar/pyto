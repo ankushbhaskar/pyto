{
 "cells": [
  {
   "cell_type": "markdown",
   "metadata": {},
   "source": [
    "# Python Class - Spring 2017\n",
    "\n",
    "---\n",
    "\n",
    "__Conditionals__"
   ]
  },
  {
   "cell_type": "markdown",
   "metadata": {},
   "source": [
    "### But first...\n",
    "\n",
    "---\n",
    "\n",
    "Jupyter Notebook 5.0 Released Today!  \n",
    "[http://blog.jupyter.org/2017/04/04/jupyter-notebook-5-0/](http://blog.jupyter.org/2017/04/04/jupyter-notebook-5-0/)"
   ]
  },
  {
   "cell_type": "markdown",
   "metadata": {},
   "source": [
    "### Dictionaries - A Last Data Type\n",
    "\n",
    "---\n",
    "\n",
    "Dictionaries (dict) are basically key-value lists (yes, they are mutable) where you specify the key as a number or a string (like a word in a dictionary and its definition)."
   ]
  },
  {
   "cell_type": "code",
   "execution_count": null,
   "metadata": {
    "collapsed": true
   },
   "outputs": [],
   "source": [
    "a = {'name':'Bob', 'age':'None of your business.', 'height':6.5}\n",
    "\n",
    "# some operations\n",
    "print(a['age'])\n",
    "a['name'] = 'Bertha'\n",
    "del a['height']\n",
    "print(a)\n",
    "print(a.keys())\n",
    "print('age' in a)"
   ]
  },
  {
   "cell_type": "code",
   "execution_count": null,
   "metadata": {
    "collapsed": true
   },
   "outputs": [],
   "source": [
    "# converting a list into a dictionary\n",
    "students = dict([('sape', 4139), ('guido', 4127), ('jack', 4098)])\n",
    "\n",
    "# dictionaries in loops\n",
    "for name, score in students.items():\n",
    "    print(name, score+score*.2)"
   ]
  },
  {
   "cell_type": "markdown",
   "metadata": {},
   "source": [
    "### Conditionals\n",
    "\n",
    "---\n",
    "\n",
    "Allows decision-based operation of a script based upon Boolean values."
   ]
  },
  {
   "cell_type": "markdown",
   "metadata": {},
   "source": [
    "### if:\n",
    "\n",
    "---\n",
    "\n",
    "```python\n",
    "if condition:\n",
    "    # do stuff if condition evaluates to True\n",
    "```"
   ]
  },
  {
   "cell_type": "markdown",
   "metadata": {},
   "source": [
    "### elif:\n",
    "\n",
    "---\n",
    "\n",
    "```python\n",
    "if false_condition:\n",
    "    # this will be skipped\n",
    "elif another_condition:\n",
    "    # do stuff if another_conditon evaluates to True\n",
    "```"
   ]
  },
  {
   "cell_type": "markdown",
   "metadata": {},
   "source": [
    "### else:\n",
    "\n",
    "---\n",
    "\n",
    "```python\n",
    "if false_condition:\n",
    "    # this will be skipped\n",
    "else:\n",
    "    # do stuff\n",
    "```"
   ]
  },
  {
   "cell_type": "code",
   "execution_count": 3,
   "metadata": {
    "collapsed": false
   },
   "outputs": [
    {
     "name": "stdout",
     "output_type": "stream",
     "text": [
      "door 3\n"
     ]
    }
   ],
   "source": [
    "# an example\n",
    "a = 1\n",
    "b = 5\n",
    "\n",
    "if a == b:\n",
    "    print('door 1')\n",
    "elif a > 5:\n",
    "    print('door 2')\n",
    "else:\n",
    "    print('door 3')"
   ]
  },
  {
   "cell_type": "code",
   "execution_count": null,
   "metadata": {
    "collapsed": true
   },
   "outputs": [],
   "source": [
    "# another example\n",
    "if 2:\n",
    "    print('This class is awesome!')"
   ]
  },
  {
   "cell_type": "markdown",
   "metadata": {},
   "source": [
    "__Note:__ [Operator Precedence](http://docs.python.org/3.6/reference/expressions.html#operator-precedence)\n",
    "\n",
    "You can also combine expressions/conditionals using `or`, `and`, `not`, and `in` (`in` is usually used when evaluating strings or elements of a list)."
   ]
  },
  {
   "cell_type": "markdown",
   "metadata": {},
   "source": [
    "> At this point, you have learned all the fundamental building blocks of Python. We will start working toward higher levels of abstraction (functions, modules, classes, etc.), but you can essentially program anything with a little research to break something down to the basics. We are going to focus now on solidifying that knowledge and slowly introducing Object-Oriented principles."
   ]
  }
 ],
 "metadata": {
  "kernelspec": {
   "display_name": "Python 3",
   "language": "python",
   "name": "python3"
  },
  "language_info": {
   "codemirror_mode": {
    "name": "ipython",
    "version": 3
   },
   "file_extension": ".py",
   "mimetype": "text/x-python",
   "name": "python",
   "nbconvert_exporter": "python",
   "pygments_lexer": "ipython3",
   "version": "3.6.0"
  }
 },
 "nbformat": 4,
 "nbformat_minor": 2
}
