{
 "cells": [
  {
   "cell_type": "markdown",
   "metadata": {
    "slideshow": {
     "slide_type": "slide"
    }
   },
   "source": [
    "# Python Class - Spring 2017\n",
    "\n",
    "---\n",
    "\n",
    "__Python Introduction Continued__"
   ]
  },
  {
   "cell_type": "markdown",
   "metadata": {
    "collapsed": true,
    "slideshow": {
     "slide_type": "subslide"
    }
   },
   "source": [
    "Now that we can start the Python interpreter, let's see one of its uses.\n",
    "\n",
    "![Bacon](http://imgs.xkcd.com/comics/stove_ownership.png)"
   ]
  },
  {
   "cell_type": "markdown",
   "metadata": {
    "slideshow": {
     "slide_type": "slide"
    }
   },
   "source": [
    "## Python as a Calculator\n",
    "\n",
    "---\n",
    "\n",
    "Some simple mathematcial operations (with in-class breakout sessions)!"
   ]
  },
  {
   "cell_type": "code",
   "execution_count": null,
   "metadata": {
    "collapsed": false,
    "slideshow": {
     "slide_type": "fragment"
    }
   },
   "outputs": [],
   "source": [
    "print(2+2) # addition, subtraction, multiplication, etc."
   ]
  },
  {
   "cell_type": "code",
   "execution_count": null,
   "metadata": {
    "collapsed": false,
    "slideshow": {
     "slide_type": "fragment"
    }
   },
   "outputs": [],
   "source": [
    "print(17/3) # division (Python 2.x behaves differently!)\n",
    "print(17//3) # integer division"
   ]
  },
  {
   "cell_type": "code",
   "execution_count": null,
   "metadata": {
    "collapsed": false,
    "slideshow": {
     "slide_type": "fragment"
    }
   },
   "outputs": [],
   "source": [
    "print(17/3.) # floating-point arithmetic"
   ]
  },
  {
   "cell_type": "code",
   "execution_count": null,
   "metadata": {
    "collapsed": false,
    "slideshow": {
     "slide_type": "fragment"
    }
   },
   "outputs": [],
   "source": [
    "print(1j*1j) # complex numbers too!"
   ]
  },
  {
   "cell_type": "markdown",
   "metadata": {
    "slideshow": {
     "slide_type": "subslide"
    }
   },
   "source": [
    "[Arimethic Operations (Official Docs)](https://docs.python.org/3.6/library/stdtypes.html#typesnumeric)  \n",
    "[Operators and Expressions](http://pymbook.readthedocs.io/en/latest/operatorsexpressions.html)\n",
    "\n",
    "---\n",
    "\n",
    "Floor Division: [PEP 238](https://www.python.org/dev/peps/pep-0238/)\n",
    "* Python 2.2+ continues to return integers\n",
    "* Python 3.x will return floating point (decimal) numbers\n",
    "\n",
    "---\n",
    "\n",
    "Don't forget about [__order of operations__](https://docs.python.org/3.6/reference/expressions.html#operator-precedence)!"
   ]
  },
  {
   "cell_type": "markdown",
   "metadata": {
    "collapsed": true,
    "slideshow": {
     "slide_type": "slide"
    }
   },
   "source": [
    "## Python Data Types\n",
    "\n",
    "---\n",
    "\n",
    "Representing differences between integers, floating-point numbers, null values, and logical values."
   ]
  },
  {
   "cell_type": "code",
   "execution_count": null,
   "metadata": {
    "collapsed": true,
    "slideshow": {
     "slide_type": "fragment"
    }
   },
   "outputs": [],
   "source": [
    "print(type(5))\n",
    "print(type(2+2)) # can find the type of the result!"
   ]
  },
  {
   "cell_type": "code",
   "execution_count": null,
   "metadata": {
    "collapsed": true,
    "slideshow": {
     "slide_type": "fragment"
    }
   },
   "outputs": [],
   "source": [
    "print(type(3.)) # notice no trailing zero is needed"
   ]
  },
  {
   "cell_type": "code",
   "execution_count": null,
   "metadata": {
    "collapsed": false,
    "slideshow": {
     "slide_type": "fragment"
    }
   },
   "outputs": [],
   "source": [
    "print(True) # boolean values"
   ]
  },
  {
   "cell_type": "code",
   "execution_count": null,
   "metadata": {
    "collapsed": false,
    "slideshow": {
     "slide_type": "fragment"
    }
   },
   "outputs": [],
   "source": [
    "print(type(True))"
   ]
  },
  {
   "cell_type": "code",
   "execution_count": null,
   "metadata": {
    "collapsed": false,
    "slideshow": {
     "slide_type": "fragment"
    }
   },
   "outputs": [],
   "source": [
    "print(type(None)) # null value"
   ]
  },
  {
   "cell_type": "markdown",
   "metadata": {
    "slideshow": {
     "slide_type": "subslide"
    }
   },
   "source": [
    "Other Data Types (will be covered)\n",
    "\n",
    "---\n",
    "\n",
    "* Strings\n",
    "* Lists\n",
    "* Dictionaries\n",
    "* Tuples\n",
    "* Objects (e.g., Numpy Array)\n",
    "* Custom (e.g., Cat, Dog)"
   ]
  },
  {
   "cell_type": "markdown",
   "metadata": {
    "slideshow": {
     "slide_type": "slide"
    }
   },
   "source": [
    "## A Note about Commenting\n",
    "\n",
    "---\n",
    "\n",
    "Use the `#`-symbol to make a single-line comment. It can be inline with code too!"
   ]
  },
  {
   "cell_type": "markdown",
   "metadata": {
    "slideshow": {
     "slide_type": "slide"
    }
   },
   "source": [
    "## Variables\n",
    "\n",
    "---\n",
    "\n",
    "> A variable is a user-friendly way to associate memory locations of data.\n",
    "\n",
    "A variable can:\n",
    "* hold any type of data,\n",
    "* has no initialization statement,\n",
    "* can be re-assigned, deleted, and copied,\n",
    "* be named whatever name you like,\n",
    "* is tied to a single memory location (groups of numbers, i.e. an array)."
   ]
  },
  {
   "cell_type": "code",
   "execution_count": null,
   "metadata": {
    "collapsed": false,
    "slideshow": {
     "slide_type": "subslide"
    }
   },
   "outputs": [],
   "source": [
    "x = 2\n",
    "y = 3.\n",
    "\n",
    "print(x/y)\n",
    "\n",
    "# prints hexidecimal representation of memory location/address\n",
    "print(hex(id(x)))\n",
    "print(hex(id(y)))"
   ]
  },
  {
   "cell_type": "code",
   "execution_count": null,
   "metadata": {
    "collapsed": false,
    "slideshow": {
     "slide_type": "subslide"
    }
   },
   "outputs": [],
   "source": [
    "x = y\n",
    "print(x)\n",
    "print(y)\n",
    "\n",
    "print(id(x))\n",
    "print(id(y))\n",
    "\n",
    "print(hex(id(x)))\n",
    "print(hex(id(y)))"
   ]
  },
  {
   "cell_type": "markdown",
   "metadata": {
    "slideshow": {
     "slide_type": "slide"
    }
   },
   "source": [
    "# BreakOut! - 3 minutes\n",
    "\n",
    "---\n",
    "\n",
    "__Note: These small breakouts are here to expand your knowledge. Search, dig, whatever to find out how to solve these problems.__\n",
    "\n",
    "1. Operate on the following variable to change its type to an integer:\n",
    "\n",
    "    ```python\n",
    "    x = 3.14\n",
    "    ```\n",
    "_Remember:_ You can see the type of a variable via:\n",
    "    \n",
    "    ```python\n",
    "    print(type(x))\n",
    "    ```"
   ]
  },
  {
   "cell_type": "markdown",
   "metadata": {
    "slideshow": {
     "slide_type": "slide"
    }
   },
   "source": [
    "## Strings (a start)\n",
    "\n",
    "---\n",
    "\n",
    "Strings are just a group of characters (not numbers)."
   ]
  },
  {
   "cell_type": "code",
   "execution_count": null,
   "metadata": {
    "collapsed": false,
    "slideshow": {
     "slide_type": "subslide"
    }
   },
   "outputs": [],
   "source": [
    "# single line\n",
    "print('a string')\n",
    "print(\"a string\")\n",
    "\n",
    "# multi-line\n",
    "print('''a string\n",
    "that spans\n",
    "more than one line''')\n",
    "\n",
    "print(\"\"\"can be composed\n",
    "of single or double\n",
    "quotation marks\"\"\")"
   ]
  },
  {
   "cell_type": "code",
   "execution_count": null,
   "metadata": {
    "collapsed": false,
    "slideshow": {
     "slide_type": "subslide"
    }
   },
   "outputs": [],
   "source": [
    "# escaping\n",
    "print(\"don't mix \\\"quotes\\\" unless you need them\")\n",
    "print('same for double \"quotes\" or vice versa')"
   ]
  },
  {
   "cell_type": "code",
   "execution_count": null,
   "metadata": {
    "collapsed": false,
    "slideshow": {
     "slide_type": "subslide"
    }
   },
   "outputs": [],
   "source": [
    "# raw strings (treat backslash as a literal character)\n",
    "print('here is a \\tab \\newline')\n",
    "\n",
    "# ignoring end of line returns\n",
    "print('''when you want\n",
    "to remove the end of line\n",
    "characters, just use a forward\\\n",
    "slash''')"
   ]
  },
  {
   "cell_type": "code",
   "execution_count": null,
   "metadata": {
    "collapsed": true,
    "slideshow": {
     "slide_type": "subslide"
    }
   },
   "outputs": [],
   "source": [
    "# concatenation\n",
    "print('a ' + 'string' + ' apart' + \", yet \" + '''together''')\n",
    "\n",
    "# multiplication\n",
    "print('squirrel! '*3)"
   ]
  }
 ],
 "metadata": {
  "celltoolbar": "Slideshow",
  "kernelspec": {
   "display_name": "Python 3",
   "language": "python",
   "name": "python3"
  },
  "language_info": {
   "codemirror_mode": {
    "name": "ipython",
    "version": 3
   },
   "file_extension": ".py",
   "mimetype": "text/x-python",
   "name": "python",
   "nbconvert_exporter": "python",
   "pygments_lexer": "ipython3",
   "version": "3.6.0"
  }
 },
 "nbformat": 4,
 "nbformat_minor": 2
}
