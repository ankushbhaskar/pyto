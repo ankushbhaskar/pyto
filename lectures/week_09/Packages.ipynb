{
 "cells": [
  {
   "cell_type": "markdown",
   "metadata": {},
   "source": [
    "# Python Class - Spring 2017\n",
    "\n",
    "---\n",
    "\n",
    "__Python Packages__  \n",
    "[Python Packaging User Guide](http://packaging.python.org)"
   ]
  },
  {
   "cell_type": "markdown",
   "metadata": {},
   "source": [
    "### What is a Package?\n",
    "\n",
    "---\n",
    "\n",
    "A package is literally just a folder of Python modules/scripts."
   ]
  },
  {
   "cell_type": "markdown",
   "metadata": {},
   "source": [
    "### PyPI\n",
    "\n",
    "---\n",
    "\n",
    "The Python Package Index (PyPI) is the main index of all available Python packages. It is maintained by the Python Packaging Authority (PyPA).\n",
    "\n",
    "* [http://pypi.python.org/pypi](http://pypi.python.org/pypi)\n",
    "* [http://www.pypa.io/en/latest/](http://www.pypa.io/en/latest/)\n",
    "\n",
    "__New for PyPI!__\n",
    "\n",
    "---\n",
    "\n",
    "PyPI is being remade into _Warehouse_. [https://pypi.org](https://pypi.org)"
   ]
  },
  {
   "cell_type": "markdown",
   "metadata": {},
   "source": [
    "Individuals, groups, aliens create packages and then put them on the PyPI for people to install/use them.\n",
    "\n",
    "Installation of these packages:\n",
    "\n",
    "1. __`conda install package_name`__\n",
    "2. __`pip install package_name`__ (PyPI recommended tool)\n",
    "3. `python setup.py install`\n",
    "4. `easy_install package_name` (last resort)"
   ]
  },
  {
   "cell_type": "markdown",
   "metadata": {},
   "source": [
    "### Eggs vs. Wheels\n",
    "\n",
    "---\n",
    "\n",
    "Python Eggs used to be the method to distribute bundled Python code (.zip file analogy), but has been replaced with Python Wheels. These are now standard to PyPI and for distributing Python packages.\n",
    "\n",
    "[http://pythonwheels.com](http://pythonwheels.com)"
   ]
  },
  {
   "cell_type": "markdown",
   "metadata": {},
   "source": [
    "### A Sample Package\n",
    "\n",
    "---\n",
    "\n",
    "PyPA provides a sample Python package to see the structure and code for bundling and distributing your Python code. There are parts of this that are highly opinionated so I've referenced a couple of them:\n",
    "\n",
    "* [http://packaging.python.org/distributing/#configuring-your-project](http://packaging.python.org/distributing/#configuring-your-project)\n",
    "  * Sample Project: [http://github.com/pypa/sampleproject](http://github.com/pypa/sampleproject)\n",
    "* [http://www.kennethreitz.org/essays/repository-structure-and-python](http://www.kennethreitz.org/essays/repository-structure-and-python)\n",
    "  * Sample Project: [http://github.com/kennethreitz/samplemod](http://github.com/kennethreitz/samplemod)"
   ]
  },
  {
   "cell_type": "markdown",
   "metadata": {},
   "source": [
    "### tl;dr\n",
    "\n",
    "---\n",
    "\n",
    "I've reduced these into the most basic structure here:\n",
    "\n",
    "* `funniest/`\n",
    "  * `funniest/`\n",
    "    * `__init__.py`\n",
    "    * `joke.py`\n",
    "  * `setup.py`"
   ]
  },
  {
   "cell_type": "code",
   "execution_count": null,
   "metadata": {
    "collapsed": false
   },
   "outputs": [],
   "source": [
    "import funniest.joke\n",
    "import funniest.funniest.joke"
   ]
  },
  {
   "cell_type": "markdown",
   "metadata": {},
   "source": [
    "> When importing the package, Python searches through the directories on `sys.path` looking for the package subdirectory."
   ]
  },
  {
   "cell_type": "code",
   "execution_count": null,
   "metadata": {
    "collapsed": false
   },
   "outputs": [],
   "source": [
    "# these work\n",
    "import funniest\n",
    "import funniest.setup"
   ]
  },
  {
   "cell_type": "code",
   "execution_count": null,
   "metadata": {
    "collapsed": false
   },
   "outputs": [],
   "source": [
    "# because our directory/path is wrong\n",
    "import os\n",
    "print(os.getcwd())"
   ]
  },
  {
   "cell_type": "code",
   "execution_count": null,
   "metadata": {
    "collapsed": false
   },
   "outputs": [],
   "source": [
    "# so we need to change our directory (os.chdir) or modify the PATH environment variable\n",
    "import sys\n",
    "sys.path.insert(0,'funniest')\n",
    "\n",
    "import funniest.joke"
   ]
  }
 ],
 "metadata": {
  "kernelspec": {
   "display_name": "Python 3",
   "language": "python",
   "name": "python3"
  },
  "language_info": {
   "codemirror_mode": {
    "name": "ipython",
    "version": 3
   },
   "file_extension": ".py",
   "mimetype": "text/x-python",
   "name": "python",
   "nbconvert_exporter": "python",
   "pygments_lexer": "ipython3",
   "version": "3.6.0"
  }
 },
 "nbformat": 4,
 "nbformat_minor": 2
}
