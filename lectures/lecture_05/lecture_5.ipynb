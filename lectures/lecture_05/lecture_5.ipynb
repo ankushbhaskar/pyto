{
 "cells": [
  {
   "cell_type": "markdown",
   "metadata": {},
   "source": [
    "# Data Applications"
   ]
  },
  {
   "cell_type": "markdown",
   "metadata": {},
   "source": [
    "Here, we will take what we have learned and use it to create a \"monitor\" of the last 2 hour solar wind properties."
   ]
  },
  {
   "cell_type": "markdown",
   "metadata": {},
   "source": [
    "### 5.1 Semester-Long Project\n",
    "\n",
    "Remember back in lecture 1 that I presented how we will be working through a larger project throughout the course? Well, this lecture continues that specifically in duplicating a space-weather plot of data."
   ]
  },
  {
   "cell_type": "markdown",
   "metadata": {},
   "source": [
    "### 5.1.1 Goal: Obtain Data\n",
    "\n",
    "---\n",
    "\n",
    "You should be quite familiar with this step from past lectures (hint: lecture 3)"
   ]
  },
  {
   "cell_type": "markdown",
   "metadata": {},
   "source": [
    "1. Obtain the latest 2-hour data the SWPC website as we have done before. Only this time, also read in the magnetic field file found in the same directory as the plasma 2-hourly JSON files."
   ]
  },
  {
   "cell_type": "markdown",
   "metadata": {},
   "source": [
    "### 5.1.2 Goal: Organize Data\n",
    "\n",
    "---\n",
    "\n",
    "This too should be familiar from a past lecture (hint: lecture 3 again)"
   ]
  },
  {
   "cell_type": "markdown",
   "metadata": {},
   "source": [
    "2. Break out the data from the file into different lists of floating-point numbers: $B_z$, $B_t$, Density, Speed, Temperature."
   ]
  },
  {
   "cell_type": "markdown",
   "metadata": {},
   "source": [
    "### 5.2.3 Goal: Plot the data.\n",
    "\n",
    "---\n",
    "\n",
    "Here is a harder problem as each of these arrays/lists of data correspond to a specific time/occurance when the value was measured. We can use our simple matplotlib plot again, but this time, instead of a single point, we need multiple ones. Below is an example of plotting multiple points on a matplotlib plot."
   ]
  },
  {
   "cell_type": "code",
   "execution_count": 1,
   "metadata": {},
   "outputs": [
    {
     "data": {
      "text/plain": [
       "[<matplotlib.lines.Line2D at 0x116d78860>]"
      ]
     },
     "execution_count": 1,
     "metadata": {},
     "output_type": "execute_result"
    },
    {
     "data": {
      "image/png": "[encoded data removed]",
      "text/plain": [
       "<Figure size 432x288 with 1 Axes>"
      ]
     },
     "metadata": {
      "needs_background": "light"
     },
     "output_type": "display_data"
    }
   ],
   "source": [
    "import matplotlib.pyplot as plt\n",
    "%matplotlib inline\n",
    "\n",
    "# plt.plot(x, y, 'red-circle')\n",
    "plt.plot([2.5, 3.0], [4.1, 5.0], 'ro')"
   ]
  },
  {
   "cell_type": "markdown",
   "metadata": {},
   "source": [
    "Like this, our data from the solar wind will be points on a plot. You can draw a line between them if you'd like, but for now, just plot points of different colors trying to match the following dynamic website:"
   ]
  },
  {
   "cell_type": "markdown",
   "metadata": {},
   "source": [
    "[https://www.swpc.noaa.gov/products/real-time-solar-wind](https://www.swpc.noaa.gov/products/real-time-solar-wind)"
   ]
  },
  {
   "cell_type": "markdown",
   "metadata": {},
   "source": [
    "But wait! The dates are strings and they need to go on the x-axis. Here are two links that will aid you in this:\n",
    "\n",
    "* [http://docs.python.org/3/library/datetime.html](http://docs.python.org/3/library/datetime.html)\n",
    "* [http://matplotlib.org/gallery/text_labels_and_annotations/date.html](http://matplotlib.org/gallery/text_labels_and_annotations/date.html)"
   ]
  },
  {
   "cell_type": "markdown",
   "metadata": {},
   "source": [
    "3. Try to create two separate lists of dates that are in the format of datetime objects.\n",
    "4. Then, try plotting one of the 5 values we gathered from number 2. Remember to plot it against the correct list of dates and times.\n",
    "5. If there is time, try plotting all 5 values on corresponding sub-plots like the website (we will ignore Phi for now). This will be harder because you have to make a design decision: duplicate the x-axes across all 5 plots, reuse the x-axis for each different group of data (i.e., density, speed, and temperature all have the same times since they are found in the same file), or have each use their own x-axis separately with labeling.\n",
    "\n",
    "   To help, here is a link for an example from the matplotlib website:\n",
    "\n",
    "   * [http://matplotlib.org/examples/pylab_examples/subplots_demo.html](http://matplotlib.org/examples/pylab_examples/subplots_demo.html)"
   ]
  },
  {
   "cell_type": "markdown",
   "metadata": {},
   "source": [
    "_Note:_ For those that want to advance this and have something dynamic and interactive, I suggest the following process:\n",
    "\n",
    "1. Look into interactive plots. This will eventually have you looking into websites and such, but for now, I would recommend one of the following: Bokeh or Plotly.\n",
    "2. If you want the data to continually update, you will need to look at some type of scheduler or automator. There are many many options. From a reliable source, here are some that are OS dependent for job scheduling: \"Task Scheduler on Windows, launchd on OS X, or the cron scheduler on Linux\". You could, essentially, create a Python task scheduler using the datetime, time, and multiprocessing packages to allow you to have a program execute at a specific time or even multiple programs going at once.\n",
    "3. Beyond this would be based on your needs and desires for the project. It can range from having an automated website like the one we are referencing or from a simple script that emails you warnings or specific event details."
   ]
  }
 ],
 "metadata": {
  "kernelspec": {
   "display_name": "Python 3",
   "language": "python",
   "name": "python3"
  },
  "language_info": {
   "codemirror_mode": {
    "name": "ipython",
    "version": 3
   },
   "file_extension": ".py",
   "mimetype": "text/x-python",
   "name": "python",
   "nbconvert_exporter": "python",
   "pygments_lexer": "ipython3",
   "version": "3.7.0"
  }
 },
 "nbformat": 4,
 "nbformat_minor": 2
}
