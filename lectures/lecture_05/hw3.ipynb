{
 "cells": [
  {
   "cell_type": "markdown",
   "metadata": {},
   "source": [
    "# Homework 3\n",
    "\n",
    "---\n",
    "\n",
    "__Semester-Long Project:__ We are going to create an automated, real-time, solar wind single-page application (possibly GUI/web) to visualize and analyze data from the DSCOVR observatory.\n",
    "\n",
    "An example of such a product commercially is here (the top map only which uses an auroral model): [SpaceWeatherLive.com](https://www.spaceweatherlive.com).\n",
    "\n",
    "---\n",
    "\n",
    "__Put all of your responses in Markdown and submit the final Jupyter notebook.__ You can download and use this notebook as an example.\n",
    "1. Using the last homework as a guide, download the most current solar wind data (a JSON file) from DISCOVR using Python (do not just download by hand). As a reference, a real-time visualization is here: [http://www.swpc.noaa.gov/products/real-time-solar-wind](http://www.swpc.noaa.gov/products/real-time-solar-wind). Make sure to give your source of where you are finding this data.\n",
    "2. If we were using this data to warn humans on Earth about geomagnetic events, describe what checks would be placed on the data after it is downloaded.\n",
    "3. Use matplotlib to plot the latest 7-days plasma density of the solar wind."
   ]
  }
 ],
 "metadata": {
  "kernelspec": {
   "display_name": "Python 3",
   "language": "python",
   "name": "python3"
  },
  "language_info": {
   "codemirror_mode": {
    "name": "ipython",
    "version": 3
   },
   "file_extension": ".py",
   "mimetype": "text/x-python",
   "name": "python",
   "nbconvert_exporter": "python",
   "pygments_lexer": "ipython3",
   "version": "3.6.2"
  }
 },
 "nbformat": 4,
 "nbformat_minor": 2
}
