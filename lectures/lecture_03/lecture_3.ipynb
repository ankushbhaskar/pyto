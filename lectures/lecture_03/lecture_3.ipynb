{
 "cells": [
  {
   "cell_type": "markdown",
   "metadata": {},
   "source": [
    "# Class 3: Data Structures"
   ]
  },
  {
   "cell_type": "markdown",
   "metadata": {},
   "source": [
    "### 3.1 Review\n",
    "\n",
    "---\n",
    "\n",
    "* Retrieving Data Files Manually\n",
    "* Reading in ASCII/Binary\n",
    "* Use of string manipulation"
   ]
  },
  {
   "cell_type": "markdown",
   "metadata": {},
   "source": [
    "### 3.2 Automation (somewhat)\n",
    "\n",
    "---\n",
    "\n",
    "In this section, we will revisit the problem we looked at during class to try to show how one might programatically automate this routine as well as learn more advanced ways of reading and manipulating data."
   ]
  },
  {
   "cell_type": "markdown",
   "metadata": {},
   "source": [
    "### 3.2.1. Imports\n",
    "\n",
    "---\n",
    "\n",
    "In programming, Python's true benefit is from the importation of the many community-developed packages/libraries that enable one to perform tasks easily and with less effort."
   ]
  },
  {
   "cell_type": "code",
   "execution_count": null,
   "metadata": {},
   "outputs": [],
   "source": [
    "import this # import statement with the package/module named 'this'"
   ]
  },
  {
   "cell_type": "markdown",
   "metadata": {},
   "source": [
    "This import statement we have seen before and I will reference this Python Enhancement Proposal to aid you in the proper way of importing:"
   ]
  },
  {
   "cell_type": "markdown",
   "metadata": {},
   "source": [
    "__PEP8__\n",
    "\n",
    "The Python Style Guide tells you the best way to perform imports, name functions, and overall coding advice. It used to be called PEP8 (Python Enhancement Proposal 8), but in 2016, it was renamed to pycodestyle.\n",
    "\n",
    "* [PEP8](http://www.python.org/dev/peps/pep-0008/)\n",
    "* [pycodestyle](http://github.com/PyCQA/pycodestyle)\n",
    "* [pep8](http://pep8.readthedocs.io/en/release-1.7.x/) - a Python package that checks your code for you.\n",
    "* [pep8.org](http://pep8.org) - a more human friendly approach"
   ]
  },
  {
   "cell_type": "markdown",
   "metadata": {},
   "source": [
    "For our automation, we need to import 2 packages to the Python interpreter environment. That is, we are now expanding what the interpreter recognizes as keywords or within its namespace."
   ]
  },
  {
   "cell_type": "code",
   "execution_count": null,
   "metadata": {},
   "outputs": [],
   "source": [
    "import urllib.request\n",
    "import json"
   ]
  },
  {
   "cell_type": "markdown",
   "metadata": {},
   "source": [
    "You can import multiple packages on the same coding line or separtely (as seen above). I usually chose the latter as it allows you to group them in a logical manner. Here, we have imported the sub-module 'request' in the urllib package which allows us to handle HTTP urls and send/retrieve requests from it. Secondly, we import the JSON package that aids in our particular data type that we are working with from the SWPC website.\n",
    "\n",
    "_Note:_ You do not have to re-import packages once they are in your environment, but you do import them every time you run this script otherwise you will get a namespace error as 'json' or 'urllib.request' are not variable names in a new Python session."
   ]
  },
  {
   "cell_type": "markdown",
   "metadata": {},
   "source": [
    "> Python imports are like libraries/utilities that others have written for you to use. You can import packages (set of scripts) or modules (single scripts).\n",
    "\n",
    "Basic Example:\n",
    "\n",
    "```python\n",
    "import numpy # a fantastic numerical Python package\n",
    "print(numpy)\n",
    "```\n",
    "    \n",
    "1. Imports can be renamed:\n",
    "\n",
    "  ```python\n",
    "  import numpy as np\n",
    "  print(np)\n",
    "  ```\n",
    "\n",
    "2. You can import submodules directly:\n",
    "\n",
    "  ```python\n",
    "  from numpy import ma\n",
    "  print(ma)\n",
    "  ```\n",
    "\n",
    "3. You can import specific parts of modules as well (i.e., an object, function, or class within the module):\n",
    "\n",
    "  ```python\n",
    "  from numpy.ma import masked_array\n",
    "  print(masked_array)\n",
    "  ```"
   ]
  },
  {
   "cell_type": "code",
   "execution_count": null,
   "metadata": {},
   "outputs": [],
   "source": [
    "url = 'http://services.swpc.noaa.gov/products/solar-wind/plasma-2-hour.json'\n",
    "with urllib.request.urlopen(url) as f:\n",
    "    data = json.loads(f.read().decode())"
   ]
  },
  {
   "cell_type": "markdown",
   "metadata": {},
   "source": [
    "Here, I had to add the decode method in order to decode the string into ascii so that the json loads method can operate upon the string."
   ]
  },
  {
   "cell_type": "markdown",
   "metadata": {},
   "source": [
    "### 3.3 Data Structures\n",
    "\n",
    "---\n",
    "\n",
    "We will only look at a single data structure at this time, but there are more that are adventagous that will we learn in the following lectures. All the features will not be presented, but you can keep this handy link as a reference:\n",
    "\n",
    "[Official Documentation - Data Structures](http://docs.python.org/3/tutorial/datastructures.html)"
   ]
  },
  {
   "cell_type": "markdown",
   "metadata": {},
   "source": [
    "### 3.3.1 Lists\n",
    "\n",
    "---\n",
    "\n",
    "A list is a mutable structure (i.e., changeable or allowed to be modified) that can be simply referred to as a grouping of items into a single collection. To aid in thinking about what these are like, I like to picture a grocery list. Items can be removed, moved, added and you can have varying types of items and quantities as well."
   ]
  },
  {
   "cell_type": "code",
   "execution_count": null,
   "metadata": {},
   "outputs": [],
   "source": [
    "my_list = []\n",
    "my_grocery_list = ['eggs', 2, ['a', nested, [list('string')]]]"
   ]
  },
  {
   "cell_type": "markdown",
   "metadata": {},
   "source": [
    "Lists, like most data/variables we see in Python does not have to be initialized nor have memory allocated for them ahead of time. In our example of the JSON for space weather data, the variable 'data' now is a type list due to the brackets we see when we print out this variable's contents."
   ]
  },
  {
   "cell_type": "markdown",
   "metadata": {},
   "source": [
    "### 3.3.2 Slicing\n",
    "\n",
    "---\n",
    "\n",
    "Just like strings, we can slice lists in order to select sections or create sub-lists from our larger grouping of data."
   ]
  },
  {
   "cell_type": "markdown",
   "metadata": {},
   "source": [
    "```\n",
    " +---+---+---+---+---+---+  \n",
    " | P | y | t | h | o | n |  \n",
    " +---+---+---+---+---+---+  \n",
    " 0   1   2   3   4   5   6  \n",
    "-6  -5  -4  -3  -2  -1```\n",
    "\n",
    "> In Python, indexes start at zero, not one."
   ]
  },
  {
   "cell_type": "code",
   "execution_count": null,
   "metadata": {},
   "outputs": [],
   "source": [
    "name = 'Brent Smith'\n",
    "last = name[5:]\n",
    "first = name[:5]\n",
    "first = name[:-5]\n",
    "skip = name[::2]\n",
    "substring = name[3:8]"
   ]
  },
  {
   "cell_type": "code",
   "execution_count": null,
   "metadata": {},
   "outputs": [],
   "source": [
    "print(substring)"
   ]
  },
  {
   "cell_type": "markdown",
   "metadata": {},
   "source": [
    "### 3.4 Loops\n",
    "\n",
    "---\n",
    "\n",
    "There are two types of loops that we will encounter in Python:\n",
    "* for\n",
    "* while"
   ]
  },
  {
   "cell_type": "markdown",
   "metadata": {},
   "source": [
    "### 3.4.1 The `for` Loop\n",
    "\n",
    "---\n",
    "\n",
    "When we want to iterate through a portion of the sequence (item-by-item), we choose `for` loops. These are very powerful for programmers to perform repetitative operations."
   ]
  },
  {
   "cell_type": "code",
   "execution_count": null,
   "metadata": {},
   "outputs": [],
   "source": [
    "for item in iterable:\n",
    "    # perform some type of operation\n",
    "    # item is now a variable within this context\n",
    "# if you used item here, it would refer to the last element in the iterable"
   ]
  },
  {
   "cell_type": "code",
   "execution_count": null,
   "metadata": {},
   "outputs": [],
   "source": [
    "days_in_year = 365\n",
    "\n",
    "for day in range(days_in_year):\n",
    "    print('Day {today}'.format(today=day))"
   ]
  },
  {
   "cell_type": "markdown",
   "metadata": {},
   "source": [
    "To explain, the for loop assigns the variable `day` to each item within the list of names as it proceeds to iterate through every element of the list. Following the for loop line, following statements indented (by either 2 spaces, 4 spaces, or a tab) contextually. That means, that you can then proceed to use the variable `day`'s current value (which is the current item in the list) to do any sorts of operations upon it.\n",
    "\n",
    "If the list is empty, there is nothing to iterate upon so the statements that follow and indented are ignored."
   ]
  },
  {
   "cell_type": "markdown",
   "metadata": {},
   "source": [
    "### 3.4.2 The `while` Loop\n",
    "\n",
    "---\n",
    "\n",
    "When you don't know the number of items or want to go forever until a condition is met, use the `while` loop.\n",
    "\n",
    "__WARNING:__ Be careful not to create an endless loop!"
   ]
  },
  {
   "cell_type": "code",
   "execution_count": null,
   "metadata": {},
   "outputs": [],
   "source": [
    "while condition:\n",
    "    # perform some type of operation"
   ]
  },
  {
   "cell_type": "markdown",
   "metadata": {},
   "source": [
    "![flowchart](http://imgs.xkcd.com/comics/flowchart.png)"
   ]
  },
  {
   "cell_type": "code",
   "execution_count": null,
   "metadata": {},
   "outputs": [],
   "source": [
    "age = 30\n",
    "\n",
    "while age < 50:\n",
    "    print('I am {current_age} years old.'.format(current_age=age))\n",
    "    age += 1"
   ]
  },
  {
   "cell_type": "markdown",
   "metadata": {},
   "source": [
    "### 3.5 List Comprehensions\n",
    "\n",
    "---\n",
    "\n",
    "A more compact way to iterate through lists."
   ]
  },
  {
   "cell_type": "code",
   "execution_count": null,
   "metadata": {},
   "outputs": [],
   "source": [
    "result = [x for x in range(0, 20, 2)]\n",
    "print(result)"
   ]
  },
  {
   "cell_type": "code",
   "execution_count": null,
   "metadata": {},
   "outputs": [],
   "source": [
    "students = [('Brent', 'Smith'), ('Bob', 'LastName'), ('FirstName', 'Blah')]\n",
    "full_names = [first + ' ' + last for first,last in students]\n",
    "print(full_names)"
   ]
  },
  {
   "cell_type": "markdown",
   "metadata": {},
   "source": [
    "### 3.6 The In-Class Project (from last time)\n",
    "\n",
    "---\n",
    "\n",
    "Last time, I had you download a file, read the contents, manipulate the contents, and then compute the average. The code below shows how compactly you can do all of this without leaving the Python interpreter. The next lecture we will see about how to analyze and visualize data."
   ]
  },
  {
   "cell_type": "code",
   "execution_count": null,
   "metadata": {},
   "outputs": [],
   "source": [
    "import urllib.request, json\n",
    "with urllib.request.urlopen('http://services.swpc.noaa.gov/products/solar-wind/plasma-2-hour.json') as url:\n",
    "    data = json.loads(url.read().decode())\n",
    "data = [float(entry[3]) for entry in data[1:]]\n",
    "data = sum(data)/len(data)\n",
    "data"
   ]
  }
 ],
 "metadata": {
  "kernelspec": {
   "display_name": "Python 3",
   "language": "python",
   "name": "python3"
  },
  "language_info": {
   "codemirror_mode": {
    "name": "ipython",
    "version": 3
   },
   "file_extension": ".py",
   "mimetype": "text/x-python",
   "name": "python",
   "nbconvert_exporter": "python",
   "pygments_lexer": "ipython3",
   "version": "3.7.0"
  }
 },
 "nbformat": 4,
 "nbformat_minor": 2
}
