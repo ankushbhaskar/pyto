{
 "cells": [
  {
   "cell_type": "markdown",
   "metadata": {},
   "source": [
    "# Python Class - Fall 2017\n",
    "\n",
    "---\n",
    "\n",
    "Data Structures: __Lists__"
   ]
  },
  {
   "cell_type": "markdown",
   "metadata": {},
   "source": [
    "![Do all the things!](http://img-9gag-fun.9cache.com/photo/apLg50p_700b.jpg)"
   ]
  },
  {
   "cell_type": "markdown",
   "metadata": {},
   "source": [
    "# Last time...\n",
    "\n",
    "Remember to review the last portion of the lecture concerning strings (formatting, unicode, and attempting to change/modify strings). Strings is a basic data structure which can also be thought of as an array of characters.\n",
    "\n",
    "We now continue on to learning about some more data structures."
   ]
  },
  {
   "cell_type": "markdown",
   "metadata": {},
   "source": [
    "# Lists\n",
    "\n",
    "---\n",
    "\n",
    "A list is a mutable structure (i.e., changeable or allowed to be modified) that can be simply referred to as a grouping of items into a single collection. To aid in thinking about what these are like, I like to picture a grocery list. Items can be removed, moved, added and you can have varying types of items and quantities as well."
   ]
  },
  {
   "cell_type": "code",
   "execution_count": 1,
   "metadata": {
    "collapsed": true
   },
   "outputs": [],
   "source": [
    "my_list = []"
   ]
  },
  {
   "cell_type": "markdown",
   "metadata": {},
   "source": [
    "Again, variables don't have to be initialized, but this line above is a way to create an empty list."
   ]
  },
  {
   "cell_type": "code",
   "execution_count": 2,
   "metadata": {
    "collapsed": true
   },
   "outputs": [],
   "source": [
    "my_list = ['the', 'earth', 'revolves', 'around', 'the', 'sun']"
   ]
  },
  {
   "cell_type": "code",
   "execution_count": 3,
   "metadata": {
    "collapsed": true
   },
   "outputs": [],
   "source": [
    "my_list[-1] = 'me'"
   ]
  },
  {
   "cell_type": "code",
   "execution_count": 4,
   "metadata": {},
   "outputs": [
    {
     "data": {
      "text/plain": [
       "['the', 'earth', 'revolves', 'around', 'the', 'me']"
      ]
     },
     "execution_count": 4,
     "metadata": {},
     "output_type": "execute_result"
    }
   ],
   "source": [
    "my_list"
   ]
  },
  {
   "cell_type": "markdown",
   "metadata": {},
   "source": [
    "These few lines show how we can have items that are strings within the list and even modifying the items within the list."
   ]
  },
  {
   "cell_type": "code",
   "execution_count": null,
   "metadata": {},
   "outputs": [],
   "source": [
    "# slicing a list is similar to string slicing\n",
    "print(my_list[0])\n",
    "print(my_list[2:4])\n",
    "print(my_list[-2])"
   ]
  },
  {
   "cell_type": "code",
   "execution_count": null,
   "metadata": {},
   "outputs": [],
   "source": [
    "# list operations\n",
    "my_list.append(1.2)   # add a number 1.2\n",
    "print(my_list)\n",
    "my_list.append('the')   # add a text\n",
    "print(my_list)\n",
    "my_list[0] = 1.3      # change an item\n",
    "print(my_list)\n",
    "del my_list[1]        # delete an item\n",
    "print(my_list)\n",
    "len(my_list)          # length of list\n",
    "\n",
    "print(my_list.count('the'))    # count the number of times x occurs\n",
    "print(my_list.index('around')) # return the index of the first occurrence of x\n",
    "my_list.remove('the')          # delete the first occurrence of x\n",
    "print(my_list)\n",
    "my_list.reverse()              # reverse the order of elements in the list\n",
    "print(my_list)"
   ]
  },
  {
   "cell_type": "code",
   "execution_count": null,
   "metadata": {},
   "outputs": [],
   "source": [
    "# concatenation\n",
    "my_list = my_list + ['sure']\n",
    "print(my_list)\n",
    "\n",
    "# appending\n",
    "my_list += ['whatever']\n",
    "my_list.append('whatever')\n",
    "print(my_list)\n",
    "\n",
    "# repeating\n",
    "my_list *= 2\n",
    "print(my_list)"
   ]
  },
  {
   "cell_type": "markdown",
   "metadata": {},
   "source": [
    "Don't worry about remembering all of these operations and methods. The can be found under the [official documentation](http://docs.python.org/3/tutorial/datastructures.html) for lists."
   ]
  },
  {
   "cell_type": "markdown",
   "metadata": {},
   "source": [
    "# n-D Dimensional Lists\n",
    "\n",
    "---\n",
    "\n",
    "```python\n",
    "mylist = [[1, 2, 3], [4, 5, 6]]\n",
    "print(mylist)\n",
    "```\n",
    "\n",
    "Remember, lists can contain multiple data types."
   ]
  },
  {
   "cell_type": "markdown",
   "metadata": {},
   "source": [
    "---\n",
    "\n",
    "So, now we are going to focus on a couple of other topics that do/don't fit within the Data Structures broad topic, but they will be useful for your homework."
   ]
  },
  {
   "cell_type": "markdown",
   "metadata": {},
   "source": [
    "# The import Statement\n",
    "\n",
    "---\n",
    "\n",
    "```python\n",
    "import antigravity\n",
    "import this\n",
    "```\n",
    "\n",
    "The import statement loads a Python module/package into the current session. This is where the true power of Python comes into light because these are code(s) that other(s) have written.\n",
    "  \n",
    "To see possibly what modules/packages are available (not the only way):"
   ]
  },
  {
   "cell_type": "code",
   "execution_count": null,
   "metadata": {
    "collapsed": true
   },
   "outputs": [],
   "source": [
    "# warning: takes a while to load - usual way to find out what is available to import\n",
    "help(\"modules\")\n",
    "\n",
    "# we can use the IPython command line interpreter to see this instead"
   ]
  },
  {
   "cell_type": "markdown",
   "metadata": {},
   "source": [
    "> Python imports are like libraries/utilities that others have written for you to use. You can import packages (set of scripts) or modules (single scripts).\n",
    "\n",
    "Basic Example:\n",
    "\n",
    "```python\n",
    "import numpy # a fantastic numerical Python package\n",
    "print(numpy)\n",
    "```\n",
    "    \n",
    "1. Imports can be renamed:\n",
    "\n",
    "  ```python\n",
    "  import numpy as np\n",
    "  print(np)\n",
    "  ```\n",
    "\n",
    "2. You can import submodules directly:\n",
    "\n",
    "  ```python\n",
    "  from numpy import ma\n",
    "  print(ma)\n",
    "  ```\n",
    "\n",
    "3. You can import specific parts of modules as well (i.e., an object, function, or class within the module):\n",
    "\n",
    "  ```python\n",
    "  from numpy.ma import masked_array\n",
    "  print(masked_array)\n",
    "  ```"
   ]
  },
  {
   "cell_type": "markdown",
   "metadata": {},
   "source": [
    "# PEP8\n",
    "\n",
    "The Python Style Guide tells you the best way to perform imports, name functions, and overall coding advice. It used to be called PEP8 (Python Enhancement Proposal 8), but in 2016, it was renamed to pycodestyle.\n",
    "\n",
    "* [PEP8](http://www.python.org/dev/peps/pep-0008/)\n",
    "* [pycodestyle](http://github.com/PyCQA/pycodestyle)\n",
    "* [pep8](http://pep8.readthedocs.io/en/release-1.7.x/) - a Python package that checks your code for you.\n",
    "* [pep8.org](http://pep8.org) - a more human friendly approach"
   ]
  },
  {
   "cell_type": "markdown",
   "metadata": {},
   "source": [
    "# matplotlib - A Simple Example"
   ]
  },
  {
   "cell_type": "code",
   "execution_count": 5,
   "metadata": {},
   "outputs": [
    {
     "data": {
      "text/plain": [
       "[<matplotlib.lines.Line2D at 0x10e3af048>]"
      ]
     },
     "execution_count": 5,
     "metadata": {},
     "output_type": "execute_result"
    },
    {
     "data": {
      "image/png": "[encoded data removed]",
      "text/plain": [
       "<matplotlib.figure.Figure at 0x1040e4cf8>"
      ]
     },
     "metadata": {},
     "output_type": "display_data"
    }
   ],
   "source": [
    "import matplotlib.pyplot as plt\n",
    "%matplotlib inline\n",
    "\n",
    "#this comment below explains what the following code does\n",
    "#plt.plot(x, y, 'red-circle')\n",
    "plt.plot(2.5, 4.1, 'ro')"
   ]
  },
  {
   "cell_type": "markdown",
   "metadata": {},
   "source": [
    "_Note:_ The statement __`%matplotlib inline`__ is only for the notebook and tells the interpreter to display the plot within the notebook.\n",
    "\n",
    "If you were to put this in a .py script, you will want either of the following:\n",
    "\n",
    "* __`plt.show()`__ if you are running a script and want to view the plot interactively.\n",
    "* __`plt.savefig('filename.png')`__ if you want to save the image to a file."
   ]
  },
  {
   "cell_type": "markdown",
   "metadata": {},
   "source": [
    "---\n",
    "\n",
    "_We will continue with a few more list operations next time (and a review) along with two other data structures and loops._"
   ]
  }
 ],
 "metadata": {
  "kernelspec": {
   "display_name": "Python 3",
   "language": "python",
   "name": "python3"
  },
  "language_info": {
   "codemirror_mode": {
    "name": "ipython",
    "version": 3
   },
   "file_extension": ".py",
   "mimetype": "text/x-python",
   "name": "python",
   "nbconvert_exporter": "python",
   "pygments_lexer": "ipython3",
   "version": "3.6.2"
  }
 },
 "nbformat": 4,
 "nbformat_minor": 2
}
