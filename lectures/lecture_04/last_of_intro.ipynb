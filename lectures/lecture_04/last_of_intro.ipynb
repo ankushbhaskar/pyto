{
 "cells": [
  {
   "cell_type": "markdown",
   "metadata": {},
   "source": [
    "# Python Class - Fall 2017\n",
    "\n",
    "---\n",
    "\n",
    "Data Structures: __Tuples, Dictionaries__  \n",
    "Loops  \n",
    "Conditionals"
   ]
  },
  {
   "cell_type": "markdown",
   "metadata": {},
   "source": [
    "# Quiz!\n",
    "\n",
    "---\n",
    "\n",
    "1. Strings are mutable/immutable (choose one).\n",
    "2. True/False: Lists can hold only one data type.\n",
    "3. `import this` is a valid Python statement.\n",
    "4. What does 3/2 evaluate to and why?\n",
    "5. Give an example of a multi-line comment.\n",
    "6. `'a string'[-4]` evaluates to what? Why?\n",
    "7. Name 2 ways to run Python code."
   ]
  },
  {
   "cell_type": "markdown",
   "metadata": {},
   "source": [
    "# Sequences (Tuples)\n",
    "\n",
    "---\n",
    "\n",
    "A grouping of more than one \"thing\"."
   ]
  },
  {
   "cell_type": "code",
   "execution_count": null,
   "metadata": {},
   "outputs": [],
   "source": [
    "# tuple (cannot be changed)\n",
    "x = (0, 1, 2, 3, 4)\n",
    "print(x[2])\n",
    "\n",
    "# range (Python 2.x range was a list, now it's like xrange)\n",
    "x = range(4)\n",
    "print(x[2])\n",
    "\n",
    "# xrange (only in Python2.x)\n",
    "#x = xrange(4)\n",
    "#print(x[2])"
   ]
  },
  {
   "cell_type": "markdown",
   "metadata": {},
   "source": [
    "The differences between `range` and `xrange` are subtle. In Python 2.x, range created a list in memory whereas `xrange` created a sequence object that evaluates lazily (upon request). Now, in Python 3.x, there is no `xrange`, but a new sequence type of `range` which is like the Python 2.x `xrange`."
   ]
  },
  {
   "cell_type": "code",
   "execution_count": null,
   "metadata": {
    "collapsed": true
   },
   "outputs": [],
   "source": [
    "# basic tuple creation (like unpacking, but into only one variable)\n",
    "a = (1, 2, 3)\n",
    "\n",
    "# unpacking\n",
    "x, y, z = (1, 2, 3)"
   ]
  },
  {
   "cell_type": "markdown",
   "metadata": {},
   "source": [
    "Tuples are like records or to group data. Actually, there is the `namedtuple` and that is more appropriately thought of as a record (i.e., each value has a specific meaning).\n",
    "\n",
    "* [namedtuple](http://docs.python.org/dev/library/collections.html#collections.namedtuple)\n",
    "* [tuples](http://docs.python.org/3.6/tutorial/datastructures.html#tuples-and-sequences)"
   ]
  },
  {
   "cell_type": "code",
   "execution_count": null,
   "metadata": {},
   "outputs": [],
   "source": [
    "# an example of a namedtuple\n",
    "import math\n",
    "import collections\n",
    "\n",
    "Point = collections.namedtuple('Point', 'x y')\n",
    "pt1 = Point(1.0, 5.0)\n",
    "pt2 = Point(2.5, 1.5)\n",
    "\n",
    "distance = math.sqrt((pt1.x-pt2.x)**2 + (pt1.y-pt2.y)**2)\n",
    "print(distance)"
   ]
  },
  {
   "cell_type": "code",
   "execution_count": null,
   "metadata": {},
   "outputs": [],
   "source": [
    "# special cases for 0/1 element tuples\n",
    "empty = ()\n",
    "single = 'hello',\n",
    "\n",
    "print(single)"
   ]
  },
  {
   "cell_type": "markdown",
   "metadata": {},
   "source": [
    "# Loops\n",
    "\n",
    "---\n",
    "\n",
    "`for` and `while` are the only two looping possibilities in Python."
   ]
  },
  {
   "cell_type": "markdown",
   "metadata": {},
   "source": [
    "## The `for` Loop\n",
    "\n",
    "---\n",
    "\n",
    "When we want to iterate through a portion of the sequence (item-by-item), we choose `for` loops. These are very powerful for programmers to perform repetitative operations."
   ]
  },
  {
   "cell_type": "code",
   "execution_count": null,
   "metadata": {},
   "outputs": [],
   "source": [
    "days_in_year = 365\n",
    "\n",
    "for day in range(days_in_year):\n",
    "    print('Day {today}'.format(today=day))"
   ]
  },
  {
   "cell_type": "markdown",
   "metadata": {},
   "source": [
    "To explain, the for loop assigns the variable `name` to each item within the list of names as it proceeds to iterate through every element of the list. Following the for loop line, following statements indented (by either 2 spaces, 4 spaces, or a tab) contextually. That means, that you can then proceed to use the variable `name`'s current value (which is the current item in the list) to do any sorts of operations upon it.\n",
    "\n",
    "If the list is empty, there is nothing to iterate upon so the statements that follow and indented are ignored."
   ]
  },
  {
   "cell_type": "markdown",
   "metadata": {},
   "source": [
    "For (pun intended) example:\n",
    "\n",
    "```python\n",
    "files = [...]\n",
    "\n",
    "for file in files:\n",
    "    # perform some operation upon each file\n",
    "    # like reading the data\n",
    "    # like renaming the file\n",
    "    # like appending data to an array\n",
    "    # like calculating the mean across many files\n",
    "    # and so on...\n",
    "```"
   ]
  },
  {
   "cell_type": "code",
   "execution_count": null,
   "metadata": {},
   "outputs": [],
   "source": [
    "# a helpful example\n",
    "for (i, name) in enumerate(['Bob', 'Joe', 'Mary']):\n",
    "    print(name + \"'s student id is \" + str(i))"
   ]
  },
  {
   "cell_type": "markdown",
   "metadata": {},
   "source": [
    "Here, `i, name` are actually a tuple (parentheses aren't necessary) where these items change only when the next item of the list is used. Each iteration, a new tuple of values is used."
   ]
  },
  {
   "cell_type": "markdown",
   "metadata": {},
   "source": [
    "## The `while` Loop\n",
    "\n",
    "---\n",
    "\n",
    "When you don't know the number of items or want to go forever until a condition is met, use the `while` loop.\n",
    "\n",
    "__WARNING:__ Be careful not to create an endless loop!"
   ]
  },
  {
   "cell_type": "markdown",
   "metadata": {},
   "source": [
    "![flowchart](http://imgs.xkcd.com/comics/flowchart.png)"
   ]
  },
  {
   "cell_type": "markdown",
   "metadata": {},
   "source": [
    "```python\n",
    "while condition:\n",
    "    do stuff\n",
    "```"
   ]
  },
  {
   "cell_type": "code",
   "execution_count": null,
   "metadata": {},
   "outputs": [],
   "source": [
    "age = 30\n",
    "\n",
    "while age < 50:\n",
    "    print('I am {current_age} years old.'.format(current_age=age))\n",
    "    age += 1"
   ]
  },
  {
   "cell_type": "markdown",
   "metadata": {},
   "source": [
    "# List Comprehensions\n",
    "\n",
    "---\n",
    "\n",
    "A more compact way to iterate through lists."
   ]
  },
  {
   "cell_type": "code",
   "execution_count": null,
   "metadata": {},
   "outputs": [],
   "source": [
    "result = [x for x in range(0, 20, 2)]\n",
    "print(result)"
   ]
  },
  {
   "cell_type": "code",
   "execution_count": null,
   "metadata": {},
   "outputs": [],
   "source": [
    "students = [('Brent', 'Smith'), ('Bob', 'LastName'), ('FirstName', 'Blah')]\n",
    "full_names = [first + ' ' + last for first,last in students]\n",
    "print(full_names)"
   ]
  },
  {
   "cell_type": "markdown",
   "metadata": {},
   "source": [
    "# Dictionaries - A Last Data Type\n",
    "\n",
    "---\n",
    "\n",
    "Dictionaries (dict) are basically key-value lists (yes, they are mutable) where you specify the key as a number or a string (like a word in a dictionary and its definition)."
   ]
  },
  {
   "cell_type": "code",
   "execution_count": null,
   "metadata": {},
   "outputs": [],
   "source": [
    "a = {'name':'Bob', 'age':'None of your business.', 'height':6.5}\n",
    "\n",
    "# some operations\n",
    "print(a['age'])\n",
    "a['name'] = 'Bertha'\n",
    "del a['height']\n",
    "print(a)\n",
    "print(a.keys())\n",
    "print('age' in a)"
   ]
  },
  {
   "cell_type": "markdown",
   "metadata": {},
   "source": [
    "# Conditionals\n",
    "\n",
    "---\n",
    "\n",
    "Allows decision-based operation of a script based upon Boolean values."
   ]
  },
  {
   "cell_type": "markdown",
   "metadata": {},
   "source": [
    "## if:\n",
    "\n",
    "---\n",
    "\n",
    "```python\n",
    "if condition:\n",
    "    # do stuff if condition evaluates to True\n",
    "```"
   ]
  },
  {
   "cell_type": "markdown",
   "metadata": {},
   "source": [
    "## elif:\n",
    "\n",
    "---\n",
    "\n",
    "```python\n",
    "if false_condition:\n",
    "    # this will be skipped\n",
    "elif another_condition:\n",
    "    # do stuff if another_conditon evaluates to True\n",
    "```"
   ]
  },
  {
   "cell_type": "markdown",
   "metadata": {},
   "source": [
    "## else:\n",
    "\n",
    "---\n",
    "\n",
    "```python\n",
    "if false_condition:\n",
    "    # this will be skipped\n",
    "else:\n",
    "    # do stuff\n",
    "```"
   ]
  },
  {
   "cell_type": "code",
   "execution_count": null,
   "metadata": {},
   "outputs": [],
   "source": [
    "# an example\n",
    "a = 1\n",
    "b = 5\n",
    "\n",
    "if a == b:\n",
    "    print('door 1')\n",
    "elif a > 5:\n",
    "    print('door 2')\n",
    "else:\n",
    "    print('door 3')"
   ]
  },
  {
   "cell_type": "code",
   "execution_count": null,
   "metadata": {},
   "outputs": [],
   "source": [
    "# another example\n",
    "if 2:\n",
    "    print('This class is awesome!')"
   ]
  },
  {
   "cell_type": "markdown",
   "metadata": {},
   "source": [
    "__Note:__ [Operator Precedence](http://docs.python.org/3.6/reference/expressions.html#operator-precedence)\n",
    "\n",
    "You can also combine expressions/conditionals using `or`, `and`, `not`, and `in` (`in` is usually used when evaluating strings or elements of a list)."
   ]
  },
  {
   "cell_type": "markdown",
   "metadata": {},
   "source": [
    "> At this point, you have learned all the fundamental building blocks of Python. We will start working toward higher levels of abstraction (functions, modules, classes, etc.), but you can essentially program anything with a little research to break something down to the basics. We are going to focus now on solidifying that knowledge and slowly introducing Object-Oriented principles."
   ]
  }
 ],
 "metadata": {
  "kernelspec": {
   "display_name": "Python 3",
   "language": "python",
   "name": "python3"
  },
  "language_info": {
   "codemirror_mode": {
    "name": "ipython",
    "version": 3
   },
   "file_extension": ".py",
   "mimetype": "text/x-python",
   "name": "python",
   "nbconvert_exporter": "python",
   "pygments_lexer": "ipython3",
   "version": "3.6.2"
  }
 },
 "nbformat": 4,
 "nbformat_minor": 2
}
