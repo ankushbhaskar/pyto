{
 "cells": [
  {
   "cell_type": "markdown",
   "metadata": {},
   "source": [
    "# Class 4: Data Structures (Continued)"
   ]
  },
  {
   "cell_type": "markdown",
   "metadata": {},
   "source": [
    "### 4.1 Review\n",
    "\n",
    "---\n",
    "\n",
    "* Imports\n",
    "* Loops: For/While\n",
    "* Data Structures: Lists\n",
    "* Slicing\n",
    "* List Comprehensions (assigned)"
   ]
  },
  {
   "cell_type": "markdown",
   "metadata": {},
   "source": [
    "### 4.2 Data Structures: Sequences (Tuples)\n",
    "\n",
    "---\n",
    "\n",
    "A grouping of more than one \"thing\"."
   ]
  },
  {
   "cell_type": "code",
   "execution_count": null,
   "metadata": {},
   "outputs": [],
   "source": [
    "my_tuple = (1, 2, 'hello')\n",
    "print(my_tuple)\n",
    "\n",
    "# unpacking into 3 variables\n",
    "x, y, z = my_tuple\n",
    "print(y)\n",
    "\n",
    "empty = ()\n",
    "single_element = 'hello',\n",
    "\n",
    "print(single)"
   ]
  },
  {
   "cell_type": "markdown",
   "metadata": {},
   "source": [
    "Tuples are __immutable__ types which means they cannot be changed. Tuples can be sliced just like lists and strings. Finally, a subset of tuples is the `set` which is the same as a tuple except there are not repeating elements."
   ]
  },
  {
   "cell_type": "code",
   "execution_count": 1,
   "metadata": {},
   "outputs": [
    {
     "name": "stdout",
     "output_type": "stream",
     "text": [
      "(0, 3, 6, 0)\n",
      "{0, 3, 6}\n"
     ]
    }
   ],
   "source": [
    "my_list = [0,3,6,0]\n",
    "\n",
    "print(tuple(my_list))\n",
    "print(set(my_list))"
   ]
  },
  {
   "cell_type": "markdown",
   "metadata": {},
   "source": [
    "Tuples are like records or to group data. Actually, there is the `namedtuple` and that is more appropriately thought of as a record (i.e., each value has a specific meaning).\n",
    "\n",
    "* [namedtuple](http://docs.python.org/dev/library/collections.html#collections.namedtuple)\n",
    "* [tuples](http://docs.python.org/dev/tutorial/datastructures.html#tuples-and-sequences)"
   ]
  },
  {
   "cell_type": "markdown",
   "metadata": {},
   "source": [
    "### 4.3 Data Structures: Dictionary\n",
    "\n",
    "---\n",
    "\n",
    "Dictionaries (dict) are basically key-value lists (yes, they are mutable) where you specify the key as a number or a string (like a word in a dictionary and its definition)."
   ]
  },
  {
   "cell_type": "code",
   "execution_count": null,
   "metadata": {},
   "outputs": [],
   "source": [
    "a = {'name':'Bob', 'age':'None of your business.', 'height':6.5}\n",
    "\n",
    "print(a['age'])\n",
    "\n",
    "# they can be changed (mutable type)\n",
    "a['name'] = 'Bertha'\n",
    "\n",
    "del a['height']\n",
    "print(a)\n",
    "\n",
    "# to get the keys\n",
    "print(a.keys())\n",
    "\n",
    "# to see if a key exists\n",
    "print('age' in a)"
   ]
  },
  {
   "cell_type": "markdown",
   "metadata": {},
   "source": [
    "### 4.4 Conditionals\n",
    "\n",
    "---\n",
    "\n",
    "Allows decision-based operation of a script based upon Boolean values."
   ]
  },
  {
   "cell_type": "markdown",
   "metadata": {},
   "source": [
    "```python\n",
    "if condition:\n",
    "    # do something if condition == True\n",
    "elif condition2:\n",
    "    # optional conditional\n",
    "    # do something if condition2 == True\n",
    "elif condition3:\n",
    "    # can have as many of these\n",
    "else:\n",
    "    # do something if condition != True\n",
    "    # and condition2 != True (if elif is present)\n",
    "```"
   ]
  },
  {
   "cell_type": "code",
   "execution_count": null,
   "metadata": {},
   "outputs": [],
   "source": [
    "# an example\n",
    "a = 1\n",
    "b = 5\n",
    "\n",
    "if a == b:\n",
    "    print('door 1')\n",
    "elif a > 5:\n",
    "    print('door 2')\n",
    "else:\n",
    "    print('door 3')"
   ]
  },
  {
   "cell_type": "code",
   "execution_count": null,
   "metadata": {},
   "outputs": [],
   "source": [
    "# another example\n",
    "if 2:\n",
    "    print('This class is awesome!')"
   ]
  },
  {
   "cell_type": "markdown",
   "metadata": {},
   "source": [
    "__Note:__ [Operator Precedence](http://docs.python.org/dev/reference/expressions.html#operator-precedence)\n",
    "\n",
    "You can also combine expressions/conditionals using `or`, `and`, `not`, and `in` (`in` is usually used when evaluating strings or elements of a list)."
   ]
  },
  {
   "cell_type": "markdown",
   "metadata": {},
   "source": [
    "> At this point, you have learned all the fundamental building blocks of Python. We will start working toward higher levels of abstraction (functions, modules, classes, etc.), but you can essentially program anything with a little research (using Google or the official Documentation) to break something down to the basics. We are going to focus now on solidifying that knowledge and slowly introducing Object-Oriented principles."
   ]
  },
  {
   "cell_type": "markdown",
   "metadata": {},
   "source": [
    "### 4.5 Data Visualization: matplotlib - A Simple Example\n",
    "\n",
    "---\n",
    "\n",
    "[Matplotlib's Homepage](http://matplotlib.org)"
   ]
  },
  {
   "cell_type": "code",
   "execution_count": null,
   "metadata": {},
   "outputs": [],
   "source": [
    "import matplotlib.pyplot as plt\n",
    "%matplotlib inline\n",
    "\n",
    "# plt.plot(x, y, 'red-circle')\n",
    "plt.plot(2.5, 4.1, 'ro')"
   ]
  },
  {
   "cell_type": "markdown",
   "metadata": {},
   "source": [
    "_Note:_ The statement __`%matplotlib inline`__ is only for the notebook and tells the interpreter to display the plot within the notebook.\n",
    "\n",
    "If you were to put this in a .py script, you will want either of the following:\n",
    "\n",
    "* __`plt.show()`__ if you are running a script and want to view the plot interactively.\n",
    "* __`plt.savefig('filename.png')`__ if you want to save the image to a file.\n",
    "\n",
    "Also, if you were trying to execute this as a .py script, sometimes you will need to specify the backend graphics engine. [Here](http://matplotlib.org/tutorials/introductory/usage.html#backends)'s a link for more information."
   ]
  }
 ],
 "metadata": {
  "kernelspec": {
   "display_name": "Python 3",
   "language": "python",
   "name": "python3"
  },
  "language_info": {
   "codemirror_mode": {
    "name": "ipython",
    "version": 3
   },
   "file_extension": ".py",
   "mimetype": "text/x-python",
   "name": "python",
   "nbconvert_exporter": "python",
   "pygments_lexer": "ipython3",
   "version": "3.7.0"
  }
 },
 "nbformat": 4,
 "nbformat_minor": 2
}
