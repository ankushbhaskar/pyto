{
 "cells": [
  {
   "cell_type": "markdown",
   "metadata": {
    "slideshow": {
     "slide_type": "slide"
    }
   },
   "source": [
    "# Python Class - Spring 2017\n",
    "\n",
    "---\n",
    "\n",
    "__Python Strings and Imports__"
   ]
  },
  {
   "cell_type": "markdown",
   "metadata": {
    "slideshow": {
     "slide_type": "slide"
    }
   },
   "source": [
    "![Do all the things!](http://img-9gag-fun.9cache.com/photo/apLg50p_700b.jpg)"
   ]
  },
  {
   "cell_type": "markdown",
   "metadata": {
    "slideshow": {
     "slide_type": "slide"
    }
   },
   "source": [
    "# Strings (Continued)"
   ]
  },
  {
   "cell_type": "markdown",
   "metadata": {
    "slideshow": {
     "slide_type": "subslide"
    }
   },
   "source": [
    "### Slicing\n",
    "\n",
    "---\n",
    "\n",
    "```\n",
    " +---+---+---+---+---+---+  \n",
    " | P | y | t | h | o | n |  \n",
    " +---+---+---+---+---+---+  \n",
    " 0   1   2   3   4   5   6  \n",
    "-6  -5  -4  -3  -2  -1```\n",
    "\n",
    "> In Python, indexes start at zero, not one."
   ]
  },
  {
   "cell_type": "code",
   "execution_count": null,
   "metadata": {
    "collapsed": false,
    "slideshow": {
     "slide_type": "subslide"
    }
   },
   "outputs": [],
   "source": [
    "# A Python Slicing Example\n",
    "sample = 'Python'\n",
    "\n",
    "print(sample[0])\n",
    "print(sample[:2])\n",
    "print(sample[2:])\n",
    "print(sample[1:4])\n",
    "print(sample[-1])\n",
    "print(sample[2:-1])"
   ]
  },
  {
   "cell_type": "markdown",
   "metadata": {
    "slideshow": {
     "slide_type": "subslide"
    }
   },
   "source": [
    "### User-Input\n",
    "\n",
    "---\n",
    "\n",
    "```python\n",
    "raw_input() # Python 2.x\n",
    "input() # Python 3.x\n",
    "```"
   ]
  },
  {
   "cell_type": "code",
   "execution_count": null,
   "metadata": {
    "collapsed": false,
    "slideshow": {
     "slide_type": "fragment"
    }
   },
   "outputs": [],
   "source": [
    "answer = input('Question? ')\n",
    "print(answer)\n",
    "\n",
    "# How could this be something bad to incorporate?"
   ]
  },
  {
   "cell_type": "markdown",
   "metadata": {
    "slideshow": {
     "slide_type": "subslide"
    }
   },
   "source": [
    "### Formatting Output"
   ]
  },
  {
   "cell_type": "code",
   "execution_count": null,
   "metadata": {
    "collapsed": false,
    "slideshow": {
     "slide_type": "fragment"
    }
   },
   "outputs": [],
   "source": [
    "# old format (yet still available in Python 2/3):\n",
    "print('%2e' % 0.34)\n",
    "print('%6d' % 5)\n",
    "print('%-.3s' % 'a really long string that I do not want to print')\n",
    "\n",
    "# new format\n",
    "print('{:>10}'.format('test'))\n",
    "print('{:^10}'.format('test'))\n",
    "print('{:03.2f}'.format(3.1415296))\n",
    "\n",
    "print('{first} {last} {first}'.format(first='Brent', last='Smith'))"
   ]
  },
  {
   "cell_type": "markdown",
   "metadata": {
    "slideshow": {
     "slide_type": "fragment"
    }
   },
   "source": [
    "A great resource: [PyFormat](http://pyformat.info)"
   ]
  },
  {
   "cell_type": "markdown",
   "metadata": {
    "slideshow": {
     "slide_type": "subslide"
    }
   },
   "source": [
    "### Unicode...\n",
    "\n",
    "[What Is Unicode](www.unicode.org/standard/WhatIsUnicode.html)"
   ]
  },
  {
   "cell_type": "code",
   "execution_count": null,
   "metadata": {
    "collapsed": false,
    "slideshow": {
     "slide_type": "fragment"
    }
   },
   "outputs": [],
   "source": [
    "print(u'Hello World!')\n",
    "print('Hello\\u0020World!')"
   ]
  },
  {
   "cell_type": "markdown",
   "metadata": {
    "slideshow": {
     "slide_type": "subslide"
    }
   },
   "source": [
    "### Changing Strings\n",
    "\n",
    "---\n",
    "\n",
    "> Mutable/Immutable Types: A string is an immutable type. That is, it cannot be changed."
   ]
  },
  {
   "cell_type": "code",
   "execution_count": null,
   "metadata": {
    "collapsed": false,
    "slideshow": {
     "slide_type": "fragment"
    }
   },
   "outputs": [],
   "source": [
    "sample = 'A sample string.'\n",
    "sample[3] = 'f'"
   ]
  },
  {
   "cell_type": "code",
   "execution_count": null,
   "metadata": {
    "collapsed": true,
    "slideshow": {
     "slide_type": "fragment"
    }
   },
   "outputs": [],
   "source": [
    "# To get the desired result, we create a new string altogether.\n",
    "sample = 'A sample string.'\n",
    "sample = sample[:3] + 'f' + sample[4:]\n",
    "print(sample)"
   ]
  },
  {
   "cell_type": "markdown",
   "metadata": {
    "slideshow": {
     "slide_type": "slide"
    }
   },
   "source": [
    "# The import Statement\n",
    "\n",
    "---\n",
    "\n",
    "```python\n",
    "import antigravity\n",
    "import this\n",
    "```"
   ]
  },
  {
   "cell_type": "code",
   "execution_count": null,
   "metadata": {
    "collapsed": true,
    "slideshow": {
     "slide_type": "subslide"
    }
   },
   "outputs": [],
   "source": [
    "# warning: takes a while to load - usual way to find out what is available to import\n",
    "help(\"modules\")\n",
    "\n",
    "# we can use the IPython interpreter within Jupyter to see this instead"
   ]
  },
  {
   "cell_type": "markdown",
   "metadata": {
    "slideshow": {
     "slide_type": "subslide"
    }
   },
   "source": [
    "> Python imports are like libraries/utilities that others have written for you to use. You can import packages (set of scripts) or modules (single scripts).\n",
    "\n",
    "Basic Example:\n",
    "\n",
    "```python\n",
    "import numpy\n",
    "print(numpy)\n",
    "```\n",
    "    \n",
    "1. Imports can be renamed:\n",
    "\n",
    "  ```python\n",
    "  import numpy as np\n",
    "  print(np)\n",
    "  ```\n",
    "\n",
    "2. You can import submodules directly:\n",
    "\n",
    "  ```python\n",
    "  from numpy import ma\n",
    "  print(ma)\n",
    "  ```\n",
    "\n",
    "3. You can import specific parts of modules as well (i.e., an object, function, or class within the module):\n",
    "\n",
    "  ```python\n",
    "  from numpy.ma import masked_array\n",
    "  print(masked_array)\n",
    "  ```"
   ]
  },
  {
   "cell_type": "markdown",
   "metadata": {
    "slideshow": {
     "slide_type": "subslide"
    }
   },
   "source": [
    "### PEP8\n",
    "\n",
    "The Python Style Guide tells you the best way to perform imports, name functions, and overall coding advice. It used to be called PEP8 (Python Enhancement Proposal 8), but in 2016, it was renamed to pycodestyle.\n",
    "\n",
    "* [PEP8](http://www.python.org/dev/peps/pep-0008/)\n",
    "* [pycodestyle](http://github.com/PyCQA/pycodestyle)\n",
    "* [pep8](http://pep8.readthedocs.io/en/release-1.7.x/) - a Python package that checks your code for you.\n",
    "* [pep8.org](http://pep8.org) - a more human friendly approach"
   ]
  },
  {
   "cell_type": "markdown",
   "metadata": {
    "slideshow": {
     "slide_type": "subslide"
    }
   },
   "source": [
    "### matplotlib - An Example"
   ]
  },
  {
   "cell_type": "code",
   "execution_count": null,
   "metadata": {
    "collapsed": false,
    "slideshow": {
     "slide_type": "fragment"
    }
   },
   "outputs": [],
   "source": [
    "import matplotlib.pyplot as plt\n",
    "%matplotlib inline\n",
    "\n",
    "#plt.plot(x, y, 'red-circle')\n",
    "plt.plot(2.5, 4.1, 'ro')"
   ]
  },
  {
   "cell_type": "markdown",
   "metadata": {
    "slideshow": {
     "slide_type": "subslide"
    }
   },
   "source": [
    "_Note:_ The statement __`%matplotlib inline`__ is only for the notebook and tells the interpreter to display the plot within the notebook.\n",
    "\n",
    "If you were to put this in a .py script, you will want either of the following:\n",
    "\n",
    "* __`plt.show()`__ if you are running a script and want to view the plot interactively.\n",
    "* __`plt.savefig('filename.png')`__ if you want to save the image to a file."
   ]
  },
  {
   "cell_type": "markdown",
   "metadata": {
    "slideshow": {
     "slide_type": "slide"
    }
   },
   "source": [
    "# Lists\n",
    "\n",
    "---\n",
    "\n",
    "A list is just that, a grouping of items into a single collection. Think grocery lists. They, unlike Strings, are mutable types."
   ]
  },
  {
   "cell_type": "code",
   "execution_count": null,
   "metadata": {
    "collapsed": true,
    "slideshow": {
     "slide_type": "fragment"
    }
   },
   "outputs": [],
   "source": [
    "mylist = [] # instantiation is not required\n",
    "mylist = ['the', 'earth', 'revolves', 'around', 'the', 'sun']"
   ]
  },
  {
   "cell_type": "code",
   "execution_count": null,
   "metadata": {
    "collapsed": false,
    "slideshow": {
     "slide_type": "subslide"
    }
   },
   "outputs": [],
   "source": [
    "# slicing a list is similar to string slicing\n",
    "print(mylist[0])\n",
    "print(mylist[2:4])\n",
    "print(mylist[-2])"
   ]
  },
  {
   "cell_type": "code",
   "execution_count": null,
   "metadata": {
    "collapsed": false,
    "slideshow": {
     "slide_type": "subslide"
    }
   },
   "outputs": [],
   "source": [
    "L = []          # declare empty list\n",
    "L.append(1.2)   # add a number 1.2\n",
    "L.append('a')   # add a text\n",
    "L[0] = 1.3      # change an item\n",
    "#del L[1]        # delete an item\n",
    "len(L)          # length of list\n",
    "\n",
    "x = 'a'\n",
    "\n",
    "L.count(x)      # count the number of times x occurs\n",
    "L.index(x)      # return the index of the first occurrence of x\n",
    "L.remove(x)     # delete the first occurrence of x\n",
    "L.reverse       # reverse the order of elements in the list"
   ]
  },
  {
   "cell_type": "code",
   "execution_count": null,
   "metadata": {
    "collapsed": false
   },
   "outputs": [],
   "source": [
    "# concatenation\n",
    "mylist = mylist + ['sure']\n",
    "print(mylist)\n",
    "\n",
    "# appending\n",
    "mylist += ['whatever']\n",
    "mylist.append('whatever')\n",
    "print(mylist)\n",
    "\n",
    "# repeating\n",
    "mylist *= 2\n",
    "print(mylist)"
   ]
  },
  {
   "cell_type": "markdown",
   "metadata": {},
   "source": [
    "### n-D Dimensional Lists\n",
    "\n",
    "---\n",
    "\n",
    "```python\n",
    "mylist = [[1, 2, 3], [4, 5, 6]]\n",
    "print(mylist)\n",
    "```\n",
    "\n",
    "Remember, lists can contain multiple data types."
   ]
  }
 ],
 "metadata": {
  "celltoolbar": "Slideshow",
  "kernelspec": {
   "display_name": "Python 3",
   "language": "python",
   "name": "python3"
  },
  "language_info": {
   "codemirror_mode": {
    "name": "ipython",
    "version": 3
   },
   "file_extension": ".py",
   "mimetype": "text/x-python",
   "name": "python",
   "nbconvert_exporter": "python",
   "pygments_lexer": "ipython3",
   "version": "3.6.0"
  }
 },
 "nbformat": 4,
 "nbformat_minor": 2
}
