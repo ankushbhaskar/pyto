{
 "cells": [
  {
   "cell_type": "markdown",
   "metadata": {},
   "source": [
    "# Homework 2\n",
    "\n",
    "---\n",
    "\n",
    "__Semester-Long Project:__ We are going to create an automated, real-time, solar wind single-page application (possibly GUI/web) to visualize and analyze data from the DSCOVR observatory.\n",
    "\n",
    "An example of such a product commercially is here (the top map only): [SpaceWeatherLive.com](https://www.spaceweatherlive.com).\n",
    "\n",
    "---\n",
    "\n",
    "_You are going to learn a new feature of the Jupyter notebooks this week as part of your homework. This feature is how we can present formatting of text within a notebook aside from our Python code. [Markdown](http://jupyter-notebook.readthedocs.io/en/latest/examples/Notebook/Working%20With%20Markdown%20Cells.html) is what is used in notebook cells of type \"Markdown\" (see the drop down on the Toolbar)._\n",
    "\n",
    "__Put all of your responses in Markdown and submit the final Jupyter notebook.__ You can download and use this notebook as an example.\n",
    "1. Name the instruments and products (i.e., what is it measuring?) that are on board DSCOVR.\n",
    "2. What does DSCOVR's orbit look like? Where is it now?\n",
    "3. We want to look at the overall project at this stage from a high level. Write down the programming steps you would take to download data from DSCOVR, analyze it, and then visualize it. Do not write code.\n",
    "4. Next, write how you might approach automating the steps you wrote in #3. Again, do not write code."
   ]
  }
 ],
 "metadata": {
  "kernelspec": {
   "display_name": "Python 3",
   "language": "python",
   "name": "python3"
  },
  "language_info": {
   "codemirror_mode": {
    "name": "ipython",
    "version": 3
   },
   "file_extension": ".py",
   "mimetype": "text/x-python",
   "name": "python",
   "nbconvert_exporter": "python",
   "pygments_lexer": "ipython3",
   "version": "3.6.0"
  }
 },
 "nbformat": 4,
 "nbformat_minor": 2
}
