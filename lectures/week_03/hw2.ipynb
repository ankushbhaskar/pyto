{
 "cells": [
  {
   "cell_type": "markdown",
   "metadata": {},
   "source": [
    "# Homework 2\n",
    "\n",
    "---\n",
    "\n",
    "__Semester-Long Project:__ We are going to create an automated, real-time, solar wind single-page application (possibly GUI/web) to visualize and analyze data from the DSCOVR observatory.\n",
    "\n",
    "An example of such a product commercially is here (the top map only): [SpaceWeatherLive.com](https://www.spaceweatherlive.com).\n",
    "\n",
    "---\n",
    "\n",
    "_You are going to learn a new feature of the Jupyter notebooks this week as part of your homework. This feature is how we can present formatting of text within a notebook aside from our Python code. [Markdown](http://jupyter-notebook.readthedocs.io/en/latest/examples/Notebook/Working%20With%20Markdown%20Cells.html) is what is used in notebook cells of type \"Markdown\" (see the drop down on the Toolbar)._\n",
    "\n",
    "__Put all of your responses in Markdown and submit the final Jupyter notebook.__ You can download and use this notebook as an example.\n",
    "1. Name the instruments and products (i.e., what is it measuring?) that are on board DSCOVR.\n",
    "2. What does DSCOVR's orbit look like? Where is it now?\n",
    "3. We want to look at the overall project at this stage from a high level. Write down the programming steps you would take to download data from DSCOVR, analyze it, and then visualize it. Do not write code.\n",
    "4. Next, write how you might approach automating the steps you wrote in #3. Again, do not write code."
   ]
  },
  {
   "cell_type": "markdown",
   "metadata": {},
   "source": [
    "# Answers\n",
    "\n",
    "---\n",
    "\n",
    "1. \n",
    "  * __EPIC__ (Enhanced Polychormatic Imaging Camera) CCD camera and telescope that maintains a constant view of the illuminated Earth (provides observations of ozone, vegetation, cloud height and aerosols in the atmosphere).\n",
    "  * __NISTAR__ (National Institute of Standards and Technology Advanced Radiometer) - measures the abolute, spectrally integrated irradiance reflected and emitted from the entire sunlit face of the Earth (cavity radiometer)\n",
    "  * __PlasMag__ (Plasma-Magnetometer) - measures solar wind activity (fluxgate vector magnetometer, Faraday Cup solar wind positive ion detector, and a top-hat electron electrostatic analyzer)\n",
    "2. Lagrange 1 Orbit:\n",
    "\n",
    "  ![orbit](orbit.jpg)\n",
    "  [Source](https://www.nasa.gov/content/goddard/noaas-dscovr-going-to-a-far-out-orbit/)\n",
    "\n",
    "  ![ssaiorbig](ssaiorbit.png)\n",
    "  [Source](https://www.ssaihq.com/dscovr.html)\n",
    "\n",
    "  ![noaaorbit](noaaorbit.jpg)\n",
    "  [Source](https://www.nesdis.noaa.gov/content/noaa-now-dscovr’s-“driver-seat”-nasa-officially-hands-over-command)\n",
    "\n",
    "3. \n",
    "   1. Determine which data is needed.\n",
    "   2. Find where this data is accessible.\n",
    "   3. Find the method by which you can obtain the data (ftp, http, etc.).\n",
    "   4. Use Python to open a connection to the website for data (ftp, http, etc.).\n",
    "   5. Use Python to grab a single data file from the website.\n",
    "   6. Use Python to check/verify that all data has been downloaded.\n",
    "   7. Read in the data from the file.\n",
    "   8. Perform any analytics upon the data using NumPy.\n",
    "   9. Use matplotlib to visualize this data.\n",
    "\n",
    "4. If we are given a list of files, then I would put all the steps from question 3 in a loop that varies which file to retrieve from the website. If not, then I would schedule the download to occur at some frequency (daily, hourly, etc.) based upon how frequent the data is released."
   ]
  }
 ],
 "metadata": {
  "kernelspec": {
   "display_name": "Python 3",
   "language": "python",
   "name": "python3"
  },
  "language_info": {
   "codemirror_mode": {
    "name": "ipython",
    "version": 3
   },
   "file_extension": ".py",
   "mimetype": "text/x-python",
   "name": "python",
   "nbconvert_exporter": "python",
   "pygments_lexer": "ipython3",
   "version": "3.6.0"
  }
 },
 "nbformat": 4,
 "nbformat_minor": 2
}
