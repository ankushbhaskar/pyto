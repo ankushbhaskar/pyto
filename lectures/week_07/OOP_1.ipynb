{
 "cells": [
  {
   "cell_type": "markdown",
   "metadata": {},
   "source": [
    "# Python Class - Spring 2017\n",
    "\n",
    "---\n",
    "\n",
    "__Object-Oriented Programming in Python (Part 1)__"
   ]
  },
  {
   "cell_type": "markdown",
   "metadata": {},
   "source": [
    "## The _`object`_\n",
    "\n",
    "---\n",
    "\n",
    "* The object is a base \"thing\" for every single variable, data type, function, whatever in your code. Everything in Python is an object.\n",
    "* We create objects from classes. We instantiate (or initialize, start, create) a class by calling the class."
   ]
  },
  {
   "cell_type": "code",
   "execution_count": null,
   "metadata": {
    "collapsed": false
   },
   "outputs": [],
   "source": [
    "help(object)"
   ]
  },
  {
   "cell_type": "markdown",
   "metadata": {},
   "source": [
    "Remember the levels of abstraction from the last lecture? Objects/classes (used interchangeably) are a level higher of abstraction than functions. Object have methods (i.e., functions; also called proceedures) and attributes (i.e., variables) that are associated to either all instances of that object (all of one type) or a particular instance (a single item)."
   ]
  },
  {
   "cell_type": "markdown",
   "metadata": {},
   "source": [
    "## The _`class`_\n",
    "\n",
    "---\n",
    "\n",
    "We are able to define our own objects in Python by using the `class` definition. These are called _user-defined objects_ in which we are creating a new structure."
   ]
  },
  {
   "cell_type": "code",
   "execution_count": null,
   "metadata": {
    "collapsed": true
   },
   "outputs": [],
   "source": [
    "class MyObject(object):\n",
    "    pass"
   ]
  },
  {
   "cell_type": "markdown",
   "metadata": {},
   "source": [
    "Notice there is no _`def`_ here and we are creating a class that has within the parentheses _`object`_."
   ]
  },
  {
   "cell_type": "markdown",
   "metadata": {},
   "source": [
    "#### Class Definition Style\n",
    "\n",
    "---\n",
    "\n",
    "__Python 3.x:__  \n",
    "class MyClass(object): = new-style class  \n",
    "class MyClass: = new-style class (implicitly inherits from object)\n",
    "\n",
    "__Python 2.x:__  \n",
    "class MyClass(object): = new-style class  \n",
    "class MyClass: = OLD-STYLE CLASS (doesn't inherit from object)\n",
    "\n",
    "[Source](http://stackoverflow.com/a/9448136)"
   ]
  },
  {
   "cell_type": "code",
   "execution_count": null,
   "metadata": {
    "collapsed": false
   },
   "outputs": [],
   "source": [
    "# let's see the different between the two versions\n",
    "class MyObject:\n",
    "    pass\n",
    "\n",
    "mo = MyObject()\n",
    "\n",
    "print(type(mo))\n",
    "print(type(MyObject))"
   ]
  },
  {
   "cell_type": "markdown",
   "metadata": {},
   "source": [
    "Here, _`MyObject`_ defines the blueprint for all of the instances of that object. So, _`mo`_ is the instance of _`MyObject`_ that will contain the structure of that class."
   ]
  },
  {
   "cell_type": "markdown",
   "metadata": {},
   "source": [
    "### Exercise:\n",
    "\n",
    "---\n",
    "\n",
    "Create a new object called __Animal__ and create a dog and cat instance from this single class."
   ]
  },
  {
   "cell_type": "markdown",
   "metadata": {},
   "source": [
    "### Instances vs. Classes\n",
    "\n",
    "---\n",
    "\n",
    "An instance uses the object blueprint/structure as its base. We can change an instance's attributes or methods to be specific to that instance. Like in the exercise above, we could define a method of _`speak`_ in which for the dog instance, this method would return `Bark!` and for the cat instance it would return `Meow!`. Here we have given more specifics to each instance, but are still using the single method _`speak`_."
   ]
  },
  {
   "cell_type": "code",
   "execution_count": null,
   "metadata": {
    "collapsed": false
   },
   "outputs": [],
   "source": [
    "class Animal(object):\n",
    "    def speak(self, string):\n",
    "        print(string)\n",
    "        \n",
    "doug_the_pug = Animal()\n",
    "grumpy_cat = Animal()\n",
    "\n",
    "doug_the_pug.speak('Bark!')\n",
    "grumpy_cat.speak('No.')"
   ]
  },
  {
   "cell_type": "markdown",
   "metadata": {},
   "source": [
    "## Attributes\n",
    "\n",
    "---\n",
    "\n",
    "Inside a class, we define attributes which behave like characteristics of that object."
   ]
  },
  {
   "cell_type": "code",
   "execution_count": null,
   "metadata": {
    "collapsed": false
   },
   "outputs": [],
   "source": [
    "class Animal(object):\n",
    "    def __init__(self, name):\n",
    "        self.name = name\n",
    "\n",
    "puppy = Animal('Doug the Pug')\n",
    "cat = Animal('Grumpy Cat')\n",
    "\n",
    "print(puppy.name)\n",
    "print(cat.name)"
   ]
  },
  {
   "cell_type": "markdown",
   "metadata": {},
   "source": [
    "Each method (here, _`__init__`_) begins with a reference to the instance object. Most frequently, _`self`_ is used, but it can be _`this`_ or whatever we choose. We also can set attributes dynamically as well:"
   ]
  },
  {
   "cell_type": "code",
   "execution_count": null,
   "metadata": {
    "collapsed": false
   },
   "outputs": [],
   "source": [
    "class Student(object):\n",
    "    pass\n",
    "\n",
    "d = Student()\n",
    "d.name = 'Betty'\n",
    "print(d.name)"
   ]
  },
  {
   "cell_type": "markdown",
   "metadata": {},
   "source": [
    "## Methods\n",
    "\n",
    "---\n",
    "\n",
    "Also inside a class, we define methods (functions), but contained in a class. These usually interact with or modify our attributes."
   ]
  },
  {
   "cell_type": "code",
   "execution_count": null,
   "metadata": {
    "collapsed": false
   },
   "outputs": [],
   "source": [
    "import numpy as np\n",
    "\n",
    "class Circle(object):\n",
    "    def __init__(self, radius=1):\n",
    "        self.radius = radius\n",
    "    \n",
    "    def area(self):\n",
    "        return (self.radius**2) * np.pi\n",
    "    \n",
    "    def getRadius(self):\n",
    "        return self.radius\n",
    "    \n",
    "    def setRadius(self, radius):\n",
    "        self.radius = radius\n",
    "\n",
    "c = Circle()\n",
    "print(c.getRadius())\n",
    "print(c.area())\n",
    "c.setRadius(5)\n",
    "print(c.getRadius())\n",
    "print(c.area())"
   ]
  },
  {
   "cell_type": "markdown",
   "metadata": {},
   "source": [
    "_`area`_, _`getRadius`_, _`setRadius`_ are all methods that interact with the _`radius`_ attribute. _`__init__`_ here is actually called a _magic method_. Those are special that aren't called directly, but used in context. Let's add another magic method to this class:"
   ]
  },
  {
   "cell_type": "code",
   "execution_count": null,
   "metadata": {
    "collapsed": false
   },
   "outputs": [],
   "source": [
    "import numpy as np\n",
    "\n",
    "class Circle(object):\n",
    "    def __init__(self, radius=1):\n",
    "        self.radius = radius\n",
    "    \n",
    "    def area(self):\n",
    "        return (self.radius**2) * np.pi\n",
    "    \n",
    "    def getRadius(self):\n",
    "        return self.radius\n",
    "    \n",
    "    def setRadius(self, radius):\n",
    "        self.radius = radius\n",
    "    \n",
    "    def __str__(self):\n",
    "        return 'I am a circle of radius %d' % int(self.radius)\n",
    "\n",
    "c = Circle(6)\n",
    "print(c)"
   ]
  }
 ],
 "metadata": {
  "kernelspec": {
   "display_name": "Python 2",
   "language": "python",
   "name": "python2"
  },
  "language_info": {
   "codemirror_mode": {
    "name": "ipython",
    "version": 2
   },
   "file_extension": ".py",
   "mimetype": "text/x-python",
   "name": "python",
   "nbconvert_exporter": "python",
   "pygments_lexer": "ipython2",
   "version": "2.7.13"
  }
 },
 "nbformat": 4,
 "nbformat_minor": 2
}
